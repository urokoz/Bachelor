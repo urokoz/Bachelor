{
 "cells": [
  {
   "cell_type": "markdown",
   "id": "b4d916b5",
   "metadata": {},
   "source": [
    "# What we can get with a histogram"
   ]
  },
  {
   "cell_type": "markdown",
   "id": "48b07320",
   "metadata": {},
   "source": [
    "## Loading data set as dataframe"
   ]
  },
  {
   "cell_type": "code",
   "execution_count": 4,
   "id": "1b40b792",
   "metadata": {},
   "outputs": [],
   "source": [
    "from sklearn import datasets\n",
    "import pandas as pd\n",
    "import numpy as np\n",
    "import matplotlib.pyplot as plt\n",
    "\n",
    "binID = np.random.randint(3, size=100)\n",
    "binID = np.reshape(binID, (len(binID),1))\n",
    "\n",
    "beta = np.random.randint(3,6,size = 100)\n",
    "beta = np.reshape(beta, (len(beta),1))\n",
    "\n",
    "PCC = np.random.uniform(0,1,100)\n",
    "PCC = np.reshape(PCC, (len(PCC),1))\n",
    "\n",
    "matrix = np.concatenate([binID, beta, PCC], axis=1)\n",
    "\n",
    "# For our real data, we need to load each feature as a column \n"
   ]
  },
  {
   "cell_type": "code",
   "execution_count": 5,
   "id": "7fbbd648",
   "metadata": {
    "scrolled": true
   },
   "outputs": [
    {
     "data": {
      "image/png": "[encoded data removed]",
      "text/plain": [
       "<Figure size 432x288 with 1 Axes>"
      ]
     },
     "metadata": {
      "needs_background": "light"
     },
     "output_type": "display_data"
    }
   ],
   "source": [
    "B0 = dict()                       # initialize dict for average PCC for each beta value in each bin\n",
    "B1 = dict()\n",
    "B2 = dict()\n",
    "\n",
    "for i in range(3,6):              # insert values for beta instead of 3 and 6\n",
    "    B0[i] = 0\n",
    "    B1[i] = 0\n",
    "    B2[i] = 0\n",
    "\n",
    "N = len(matrix)                    # number of alleles\n",
    "\n",
    "for i in range(N):\n",
    "    binID = int(matrix[i][0])      # change to column with binders\n",
    "    betaID = int(matrix[i][1])     # change to column with e.g. beta value\n",
    "    PCC = matrix[i][2]             # change to column with PCC\n",
    "\n",
    "    if binID < 1:                  # change to our bin values\n",
    "        B0[betaID] += PCC\n",
    "    elif binID < 2:                # bin value here\n",
    "        B1[betaID] += PCC\n",
    "    else:\n",
    "        B2[betaID] += PCC\n",
    "\n",
    "\n",
    "labels = ['0-100', '100-500','500<']\n",
    "\n",
    "Beta_1_means = [B0[3]/N, B1[3]/N, B2[3]/N]  # for beta value number 1, insert the means in bin 1, bin 2 and bin 3\n",
    "Beta_2_means = [B0[4]/N, B1[4]/N, B2[4]/N]\n",
    "Beta_3_means = [B0[5]/N, B1[5]/N, B2[5]/N]\n",
    "\n",
    "x = np.arange(len(labels))                  # the label locations\n",
    "width = 0.2                                 # the width of the bars\n",
    "\n",
    "fig, ax = plt.subplots()\n",
    "rects1 = ax.bar(x - width, Beta_1_means, width, label='Beta1')\n",
    "rects2 = ax.bar(x, Beta_2_means, width, label='Beta2')\n",
    "rects3 = ax.bar(x + width, Beta_3_means, width, label='Beta3')\n",
    "\n",
    "# Add some text for labels, title and custom x-axis tick labels, etc.\n",
    "ax.set_ylabel('PCC')\n",
    "ax.set_xlabel('Number of binders')\n",
    "ax.set_title('Optimal beta value based on number of binders in data set')\n",
    "ax.set_xticks(x)\n",
    "ax.set_xticklabels(labels)\n",
    "ax.legend()\n",
    "\n",
    "fig.tight_layout()\n",
    "\n",
    "plt.show()"
   ]
  },
  {
   "cell_type": "markdown",
   "id": "c11b61fd",
   "metadata": {},
   "source": [
    "# Trying with tryout data"
   ]
  },
  {
   "cell_type": "markdown",
   "id": "172d3070",
   "metadata": {},
   "source": [
    "## Load data"
   ]
  },
  {
   "cell_type": "code",
   "execution_count": 8,
   "id": "c79ccc7c",
   "metadata": {},
   "outputs": [
    {
     "name": "stdout",
     "output_type": "stream",
     "text": [
      "[['A0101' 'PSSM' 0 0 0.2899 1606030.0]\n",
      " ['A0101' 'PSSM' 50 0 0.61545 71.3526]\n",
      " ['A0101' 'PSSM' 100 0 0.61907 50.0393]\n",
      " ...\n",
      " ['B5301' 'PSSM' 50 1 0.64327 76.1739]\n",
      " ['B5301' 'PSSM' 100 1 0.64129 69.8266]\n",
      " ['B5301' 'PSSM' 200 1 0.63884 65.8246]]\n",
      "280\n"
     ]
    }
   ],
   "source": [
    "# project code directory\n",
    "RDIR = '/home/mathias/bioinfo_algos/code/project'\n",
    "\n",
    "#  project data directory \n",
    "DDIR = '/home/mathias/bioinfo_algos/data/project'\n",
    "\n",
    "df_PSSM = pd.read_csv(RDIR +'/PSSM.tsv', sep=\"\\t\") \n",
    "PSSM = df_PSSM.values\n",
    "\n",
    "df_SMM = pd.read_csv(RDIR +'/SMM.tsv', sep=\"\\t\") \n",
    "SMM = df_SMM.values\n",
    "\n",
    "df_ANN = pd.read_csv(RDIR +'/ANN.tsv', sep=\"\\t\") \n",
    "ANN = df_ANN.values\n",
    "\n",
    "\n",
    "print(PSSM)\n",
    "print(len(PSSM))"
   ]
  },
  {
   "cell_type": "markdown",
   "id": "42d2f3a1",
   "metadata": {},
   "source": [
    "## Allele dictionary"
   ]
  },
  {
   "cell_type": "code",
   "execution_count": 9,
   "id": "cb1a72be",
   "metadata": {},
   "outputs": [],
   "source": [
    "# Make dictionary of binders \n",
    "allel_info = dict()\n",
    "\n",
    "infile = open(DDIR + '/Allel_Statistics.txt', 'r')\n",
    "\n",
    "for line in infile:\n",
    "    allel = line.split()[0]\n",
    "    n_binders = line.split()[1]\n",
    "    n_peptides = line.split()[2]\n",
    "    allel_info[allel] = dict()\n",
    "    allel_info[allel]['binders'] = n_binders\n",
    "    allel_info[allel]['peptides'] = n_peptides\n",
    "    \n",
    "infile.close()\n"
   ]
  },
  {
   "cell_type": "markdown",
   "id": "ea366ca7",
   "metadata": {},
   "source": [
    "### PSSM plot"
   ]
  },
  {
   "cell_type": "code",
   "execution_count": 11,
   "id": "328d9e5f",
   "metadata": {},
   "outputs": [
    {
     "data": {
      "image/png": "[encoded data removed]",
      "text/plain": [
       "<Figure size 432x288 with 1 Axes>"
      ]
     },
     "metadata": {
      "needs_background": "light"
     },
     "output_type": "display_data"
    }
   ],
   "source": [
    "B0_150 = dict()                       # initialize dict for average PCC for each beta value in each bin\n",
    "B150_500 = dict()\n",
    "B500 = dict()\n",
    "\n",
    "B0_150_n = 0                       # initialize dict for average PCC for each beta value in each bin\n",
    "B150_500_n = 0\n",
    "B500_n = 0\n",
    "\n",
    "for i in [0,50,100,200]:              # insert values for beta instead of 3 and 6\n",
    "    B0_150[i] = 0\n",
    "    B150_500[i] = 0\n",
    "    B500[i] = 0\n",
    "\n",
    "N = len(PSSM)                    # number of alleles\n",
    "\n",
    "for i in range(N):\n",
    "    binders = int(allel_info[PSSM[i,0]]['binders']) # determine which bin to put information in\n",
    "    betaID = int(PSSM[i,2])        # change to column with e.g. beta value\n",
    "    PCC = PSSM[i,4]            # change to column with PCC\n",
    "\n",
    "    if binders < 150:                  # change to our bin values\n",
    "        B0_150[betaID] += PCC\n",
    "        B0_150_n += 1\n",
    "    elif binders < 500:                # bin value here\n",
    "        B150_500[betaID] += PCC\n",
    "        B150_500_n += 1\n",
    "    else:\n",
    "        B500[betaID] += PCC\n",
    "        B500_n += 1\n",
    "\n",
    "for i in [0,50,100,200]:    \n",
    "    B0_150[i] = B0_150[i]/(B0_150_n/4)\n",
    "    B150_500[i] = B150_500[i]/(B150_500_n/4)\n",
    "    B500[i] = B500[i]/(B500_n/4)\n",
    "        \n",
    "        \n",
    "        \n",
    "labels = ['0-150', '150-500','500<']\n",
    "\n",
    "Beta_1_means = [B0_150[0], B150_500[0], B500[0]]  # for beta value number 1, insert the means in bin 1, bin 2 and bin 3\n",
    "Beta_2_means = [B0_150[50], B150_500[50], B500[50]] \n",
    "Beta_3_means = [B0_150[100], B150_500[100], B500[100]] \n",
    "Beta_4_means = [B0_150[200], B150_500[200], B500[200]] \n",
    "\n",
    "x = np.arange(len(labels))                  # the label locations\n",
    "width = 0.2                                 # the width of the bars\n",
    "\n",
    "fig, ax = plt.subplots()\n",
    "rects1 = ax.bar(x - width, Beta_1_means, width, label='Beta = 0')\n",
    "rects2 = ax.bar(x, Beta_2_means, width, label='Beta = 50')\n",
    "rects3 = ax.bar(x + width, Beta_3_means, width, label='Beta = 100')\n",
    "rects4 = ax.bar(x + 2*width, Beta_4_means, width, label='Beta = 200')\n",
    "\n",
    "# Add some text for labels, title and custom x-axis tick labels, etc.\n",
    "ax.set_ylabel('PCC')\n",
    "ax.set_xlabel('Number of binders')\n",
    "ax.set_title('Optimal beta value based on number of binders in data set')\n",
    "ax.set_xticks(x)\n",
    "ax.set_xticklabels(labels)\n",
    "ax.legend()\n",
    "\n",
    "fig.tight_layout()\n",
    "\n",
    "plt.show()"
   ]
  },
  {
   "cell_type": "code",
   "execution_count": null,
   "id": "5551cd55",
   "metadata": {},
   "outputs": [],
   "source": []
  }
 ],
 "metadata": {
  "kernelspec": {
   "display_name": "Python 3",
   "language": "python",
   "name": "python3"
  },
  "language_info": {
   "codemirror_mode": {
    "name": "ipython",
    "version": 3
   },
   "file_extension": ".py",
   "mimetype": "text/x-python",
   "name": "python",
   "nbconvert_exporter": "python",
   "pygments_lexer": "ipython3",
   "version": "3.9.5"
  }
 },
 "nbformat": 4,
 "nbformat_minor": 5
}
