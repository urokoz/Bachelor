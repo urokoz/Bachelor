{
 "cells": [
  {
   "cell_type": "markdown",
   "id": "759c80f8",
   "metadata": {},
   "source": [
    "# Trying to extract information for matrix"
   ]
  },
  {
   "cell_type": "markdown",
   "id": "41cde900",
   "metadata": {},
   "source": [
    "## Define paths"
   ]
  },
  {
   "cell_type": "code",
   "execution_count": 2,
   "id": "dc42e0a7",
   "metadata": {},
   "outputs": [
    {
     "name": "stdout",
     "output_type": "stream",
     "text": [
      "['A0101_models.data', 'A2403_models.data', 'A0301_models.data', 'B4001_models.data', 'B5701_models.data', 'A3001_models.data', 'B0801_models.data', 'A2402_models.data', 'B4403_models.data', 'B4501_models.data', 'A6901_models.data', 'A0201_models.data', 'B5101_models.data', 'A3002_models.data', 'A2301_models.data', 'B5401_models.data', 'B3501_models.data', 'A3101_models.data', 'B1501_models.data', 'B4402_models.data', 'A0206_models.data', 'A3301_models.data', 'B5801_models.data', 'A2601_models.data', 'B0702_models.data', 'A6802_models.data', 'A2902_models.data', 'B1801_models.data', 'A0203_models.data', 'B4002_models.data', 'A1101_models.data', 'A0202_models.data', 'B2705_models.data', 'A6801_models.data', 'B5301_models.data']\n"
     ]
    }
   ],
   "source": [
    "import numpy as np\n",
    "import os\n",
    "\n",
    "from os import listdir\n",
    "from os.path import isfile, join\n",
    "\n",
    "fileDIR = \"/home/mathias/Desktop/model_data_files_final\"\n",
    "\n",
    "onlyfiles = [f for f in listdir(fileDIR) if isfile(join(fileDIR, f))]\n",
    "\n",
    "print(onlyfiles)\n",
    "# project code directory\n",
    "RDIR = '/home/mathias/bioinfo_algos/code/project'\n",
    "\n",
    "#  project data directory \n",
    "DDIR = '/home/mathias/bioinfo_algos/data/project'\n"
   ]
  },
  {
   "cell_type": "markdown",
   "id": "bd5b4387",
   "metadata": {},
   "source": [
    "## Allele dictionary with number of binders and peptides"
   ]
  },
  {
   "cell_type": "code",
   "execution_count": 3,
   "id": "8e7d8403",
   "metadata": {},
   "outputs": [],
   "source": [
    "# Make dictionary of binders \n",
    "allel_info = dict()\n",
    "\n",
    "infile = open(DDIR + '/Allel_Statistics.txt', 'r')\n",
    "\n",
    "for line in infile:\n",
    "    allel = line.split()[0]\n",
    "    n_binders = line.split()[1]\n",
    "    n_peptides = line.split()[2]\n",
    "    allel_info[allel] = dict()\n",
    "    allel_info[allel]['binders'] = n_binders\n",
    "    allel_info[allel]['peptides'] = n_peptides\n",
    "    \n",
    "infile.close()\n",
    "\n",
    "#print(allel_info)"
   ]
  },
  {
   "cell_type": "markdown",
   "id": "31af6dda",
   "metadata": {},
   "source": [
    "## Convert format of result files"
   ]
  },
  {
   "cell_type": "code",
   "execution_count": 4,
   "id": "75bed529",
   "metadata": {},
   "outputs": [],
   "source": [
    "\n",
    "outfile_PSSM = open(RDIR + '/PSSM.tsv', 'w')\n",
    "outfile_SMM = open(RDIR + '/SMM.tsv', 'w')\n",
    "outfile_ANN = open(RDIR + '/ANN.tsv', 'w')\n",
    "\n",
    "outfile_PSSM.write('ALLELE\\tMODEL\\tBETA\\tSEQWEIGHT\\tPCC\\tMSE\\n')\n",
    "outfile_SMM.write('ALLELE\\tMODEL\\tWEIGHTALGO\\tLAMBDA\\tPCC\\tMSE\\n')\n",
    "outfile_ANN.write('ALLELE\\tMODEL\\tETA\\tNHIDDEN\\tENCODING\\tPCC\\tMSE\\n')\n",
    "\n",
    "for i in range(len(onlyfiles)):\n",
    "    infile = open(fileDIR + '/'+onlyfiles[i], 'r')\n",
    "\n",
    "\n",
    "    for line in infile:\n",
    "        items = line.split()\n",
    "        if items[1] == 'PSSM':\n",
    "            allele = items[0]\n",
    "            model = items[1]\n",
    "            beta = items[3]\n",
    "            seqWeight = items[5]\n",
    "            PCC = items[12]\n",
    "            MSE = items[13]\n",
    "            outfile_PSSM.write('{}\\t{}\\t{}\\t{}\\t{}\\t{}\\n'.format(allele, model, beta, seqWeight, PCC, MSE))\n",
    "        elif items[1] == 'SMM':\n",
    "            allele = items[0]\n",
    "            model = items[1]\n",
    "            weightAlgo = items[2]\n",
    "            _lambda = items[4]\n",
    "            PCC = items[11]\n",
    "            MSE = items[12]\n",
    "            outfile_SMM.write('{}\\t{}\\t{}\\t{}\\t{}\\t{}\\n'.format(allele, model, weightAlgo, _lambda, PCC, MSE))\n",
    "        else:\n",
    "            allele = items[0]\n",
    "            model = items[1]\n",
    "            eta = items[3]\n",
    "            n_hidden = items[5]\n",
    "            encoding = items[6]\n",
    "            PCC = items[13]\n",
    "            MSE = items[14]\n",
    "            outfile_ANN.write('{}\\t{}\\t{}\\t{}\\t{}\\t{}\\t{}\\n'.format(allele, model, eta, n_hidden, encoding, PCC, MSE))\n",
    "        \n",
    "    infile.close()\n",
    "\n",
    "outfile_PSSM.close()\n",
    "outfile_SMM.close()\n",
    "outfile_ANN.close()\n"
   ]
  },
  {
   "cell_type": "code",
   "execution_count": null,
   "id": "f4eee2a5",
   "metadata": {},
   "outputs": [],
   "source": []
  },
  {
   "cell_type": "code",
   "execution_count": null,
   "id": "0c447ee1",
   "metadata": {},
   "outputs": [],
   "source": []
  }
 ],
 "metadata": {
  "kernelspec": {
   "display_name": "Python 3",
   "language": "python",
   "name": "python3"
  },
  "language_info": {
   "codemirror_mode": {
    "name": "ipython",
    "version": 3
   },
   "file_extension": ".py",
   "mimetype": "text/x-python",
   "name": "python",
   "nbconvert_exporter": "python",
   "pygments_lexer": "ipython3",
   "version": "3.9.5"
  }
 },
 "nbformat": 4,
 "nbformat_minor": 5
}
