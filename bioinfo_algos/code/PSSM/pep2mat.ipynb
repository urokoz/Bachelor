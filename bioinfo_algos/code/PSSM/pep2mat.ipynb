{
 "cells": [
  {
   "cell_type": "markdown",
   "metadata": {
    "colab_type": "text",
    "id": "jLu9x39KcRJK"
   },
   "source": [
    "## Description\n",
    "\n",
    "Weight Matrix construction including pseudo counts and sequence weighting\n",
    "\n",
    "Some parts of the code have been blanked out. Fill out these places to make the code run. "
   ]
  },
  {
   "cell_type": "markdown",
   "metadata": {
    "colab_type": "text",
    "id": "AbbJIV3vjOkr"
   },
   "source": [
    "## Python Imports"
   ]
  },
  {
   "cell_type": "code",
   "execution_count": 1,
   "metadata": {
    "colab": {},
    "colab_type": "code",
    "id": "CDxrUH0BcRJO",
    "scrolled": true
   },
   "outputs": [],
   "source": [
    "import numpy as np\n",
    "import math\n",
    "import copy\n",
    "from pprint import pprint\n",
    "\n",
    "%matplotlib inline"
   ]
  },
  {
   "cell_type": "markdown",
   "metadata": {},
   "source": [
    "## DEFINE THE PATH TO YOUR COURSE DATA DIRECTORY"
   ]
  },
  {
   "cell_type": "code",
   "execution_count": 2,
   "metadata": {},
   "outputs": [],
   "source": [
    "data_dir = \"/home/mathias/bioinfo_algos/data/\""
   ]
  },
  {
   "cell_type": "markdown",
   "metadata": {},
   "source": [
    "## Define options for run"
   ]
  },
  {
   "cell_type": "code",
   "execution_count": 3,
   "metadata": {},
   "outputs": [],
   "source": [
    "sequence_weighting = True\n",
    "#sequence_weighting = False\n",
    "# define weight on pseudo count\n",
    "beta = 50 "
   ]
  },
  {
   "cell_type": "markdown",
   "metadata": {
    "colab_type": "text",
    "id": "4CGKCRZXcRJS"
   },
   "source": [
    "## Data Imports"
   ]
  },
  {
   "cell_type": "markdown",
   "metadata": {
    "colab_type": "text",
    "id": "YWWVrPdqjaek"
   },
   "source": [
    "### Load Alphabet"
   ]
  },
  {
   "cell_type": "code",
   "execution_count": 4,
   "metadata": {
    "colab": {
     "base_uri": "https://localhost:8080/",
     "height": 51
    },
    "colab_type": "code",
    "id": "ITWBSDjQsREN",
    "outputId": "e15aae54-5292-4789-c275-686f62a39590"
   },
   "outputs": [
    {
     "name": "stdout",
     "output_type": "stream",
     "text": [
      "['A' 'R' 'N' 'D' 'C' 'Q' 'E' 'G' 'H' 'I' 'L' 'K' 'M' 'F' 'P' 'S' 'T' 'W'\n",
      " 'Y' 'V']\n",
      "20\n"
     ]
    }
   ],
   "source": [
    "alphabet_file = data_dir + \"Matrices/alphabet\"\n",
    "\n",
    "alphabet = np.loadtxt(alphabet_file, dtype=str)\n",
    "\n",
    "print (alphabet)\n",
    "print (len(alphabet))"
   ]
  },
  {
   "cell_type": "markdown",
   "metadata": {
    "colab_type": "text",
    "id": "Fn9xwlm5cRJW"
   },
   "source": [
    "### Load Background Frequencies"
   ]
  },
  {
   "cell_type": "code",
   "execution_count": 5,
   "metadata": {
    "colab": {
     "base_uri": "https://localhost:8080/",
     "height": 357
    },
    "colab_type": "code",
    "id": "ZZ4w2dzPs7K0",
    "outputId": "5217b5c1-e1c8-430a-9b3e-81734061d4fa"
   },
   "outputs": [
    {
     "data": {
      "text/plain": [
       "{'A': 0.074,\n",
       " 'R': 0.052,\n",
       " 'N': 0.045,\n",
       " 'D': 0.054,\n",
       " 'C': 0.025,\n",
       " 'Q': 0.034,\n",
       " 'E': 0.054,\n",
       " 'G': 0.074,\n",
       " 'H': 0.026,\n",
       " 'I': 0.068,\n",
       " 'L': 0.099,\n",
       " 'K': 0.058,\n",
       " 'M': 0.025,\n",
       " 'F': 0.047,\n",
       " 'P': 0.039,\n",
       " 'S': 0.057,\n",
       " 'T': 0.051,\n",
       " 'W': 0.013,\n",
       " 'Y': 0.032,\n",
       " 'V': 0.073}"
      ]
     },
     "execution_count": 5,
     "metadata": {},
     "output_type": "execute_result"
    }
   ],
   "source": [
    "bg_file = data_dir + \"Matrices/bg.freq.fmt\"\n",
    "_bg = np.loadtxt(bg_file, dtype=float)\n",
    "\n",
    "bg = {}\n",
    "for i in range(0, len(alphabet)):\n",
    "    bg[alphabet[i]] = _bg[i]\n",
    "\n",
    "bg"
   ]
  },
  {
   "cell_type": "markdown",
   "metadata": {
    "colab_type": "text",
    "id": "RfWZ3wLJcRJa"
   },
   "source": [
    "### Load Blosum62 Matrix\n"
   ]
  },
  {
   "cell_type": "code",
   "execution_count": 6,
   "metadata": {
    "colab": {
     "base_uri": "https://localhost:8080/",
     "height": 6817
    },
    "colab_type": "code",
    "id": "imL8-62R64e6",
    "outputId": "e9904af5-6c7f-4349-fea2-022521eea850"
   },
   "outputs": [
    {
     "data": {
      "text/plain": [
       "{'A': {'A': 0.2901,\n",
       "  'R': 0.0446,\n",
       "  'N': 0.0427,\n",
       "  'D': 0.041,\n",
       "  'C': 0.065,\n",
       "  'Q': 0.0559,\n",
       "  'E': 0.0552,\n",
       "  'G': 0.0783,\n",
       "  'H': 0.042,\n",
       "  'I': 0.0471,\n",
       "  'L': 0.0445,\n",
       "  'K': 0.057,\n",
       "  'M': 0.0522,\n",
       "  'F': 0.0338,\n",
       "  'P': 0.0568,\n",
       "  'S': 0.1099,\n",
       "  'T': 0.073,\n",
       "  'W': 0.0303,\n",
       "  'Y': 0.0405,\n",
       "  'V': 0.07},\n",
       " 'R': {'A': 0.031,\n",
       "  'R': 0.345,\n",
       "  'N': 0.0449,\n",
       "  'D': 0.0299,\n",
       "  'C': 0.0163,\n",
       "  'Q': 0.0735,\n",
       "  'E': 0.0497,\n",
       "  'G': 0.0229,\n",
       "  'H': 0.0458,\n",
       "  'I': 0.0177,\n",
       "  'L': 0.0243,\n",
       "  'K': 0.1071,\n",
       "  'M': 0.0321,\n",
       "  'F': 0.019,\n",
       "  'P': 0.0258,\n",
       "  'S': 0.0401,\n",
       "  'T': 0.0355,\n",
       "  'W': 0.0227,\n",
       "  'Y': 0.028,\n",
       "  'V': 0.0219},\n",
       " 'N': {'A': 0.0256,\n",
       "  'R': 0.0388,\n",
       "  'N': 0.3169,\n",
       "  'D': 0.069,\n",
       "  'C': 0.0163,\n",
       "  'Q': 0.0441,\n",
       "  'E': 0.0405,\n",
       "  'G': 0.0391,\n",
       "  'H': 0.0534,\n",
       "  'I': 0.0147,\n",
       "  'L': 0.0142,\n",
       "  'K': 0.0415,\n",
       "  'M': 0.0201,\n",
       "  'F': 0.0169,\n",
       "  'P': 0.0233,\n",
       "  'S': 0.0541,\n",
       "  'T': 0.0434,\n",
       "  'W': 0.0152,\n",
       "  'Y': 0.0218,\n",
       "  'V': 0.0165},\n",
       " 'D': {'A': 0.0297,\n",
       "  'R': 0.031,\n",
       "  'N': 0.0831,\n",
       "  'D': 0.3974,\n",
       "  'C': 0.0163,\n",
       "  'Q': 0.0471,\n",
       "  'E': 0.0902,\n",
       "  'G': 0.0337,\n",
       "  'H': 0.0382,\n",
       "  'I': 0.0177,\n",
       "  'L': 0.0152,\n",
       "  'K': 0.0415,\n",
       "  'M': 0.0201,\n",
       "  'F': 0.0169,\n",
       "  'P': 0.031,\n",
       "  'S': 0.0489,\n",
       "  'T': 0.0375,\n",
       "  'W': 0.0152,\n",
       "  'Y': 0.0187,\n",
       "  'V': 0.0178},\n",
       " 'C': {'A': 0.0216,\n",
       "  'R': 0.0078,\n",
       "  'N': 0.009,\n",
       "  'D': 0.0075,\n",
       "  'C': 0.4837,\n",
       "  'Q': 0.0088,\n",
       "  'E': 0.0074,\n",
       "  'G': 0.0108,\n",
       "  'H': 0.0076,\n",
       "  'I': 0.0162,\n",
       "  'L': 0.0162,\n",
       "  'K': 0.0086,\n",
       "  'M': 0.0161,\n",
       "  'F': 0.0106,\n",
       "  'P': 0.0103,\n",
       "  'S': 0.0175,\n",
       "  'T': 0.0178,\n",
       "  'W': 0.0076,\n",
       "  'Y': 0.0093,\n",
       "  'V': 0.0192},\n",
       " 'Q': {'A': 0.0256,\n",
       "  'R': 0.0484,\n",
       "  'N': 0.0337,\n",
       "  'D': 0.0299,\n",
       "  'C': 0.0122,\n",
       "  'Q': 0.2147,\n",
       "  'E': 0.0645,\n",
       "  'G': 0.0189,\n",
       "  'H': 0.0382,\n",
       "  'I': 0.0133,\n",
       "  'L': 0.0162,\n",
       "  'K': 0.0535,\n",
       "  'M': 0.0281,\n",
       "  'F': 0.0106,\n",
       "  'P': 0.0207,\n",
       "  'S': 0.0332,\n",
       "  'T': 0.0276,\n",
       "  'W': 0.0152,\n",
       "  'Y': 0.0218,\n",
       "  'V': 0.0165},\n",
       " 'E': {'A': 0.0405,\n",
       "  'R': 0.0523,\n",
       "  'N': 0.0494,\n",
       "  'D': 0.0914,\n",
       "  'C': 0.0163,\n",
       "  'Q': 0.1029,\n",
       "  'E': 0.2965,\n",
       "  'G': 0.0256,\n",
       "  'H': 0.0534,\n",
       "  'I': 0.0177,\n",
       "  'L': 0.0202,\n",
       "  'K': 0.0708,\n",
       "  'M': 0.0281,\n",
       "  'F': 0.019,\n",
       "  'P': 0.0362,\n",
       "  'S': 0.0524,\n",
       "  'T': 0.0394,\n",
       "  'W': 0.0227,\n",
       "  'Y': 0.028,\n",
       "  'V': 0.0233},\n",
       " 'G': {'A': 0.0783,\n",
       "  'R': 0.0329,\n",
       "  'N': 0.0652,\n",
       "  'D': 0.0466,\n",
       "  'C': 0.0325,\n",
       "  'Q': 0.0412,\n",
       "  'E': 0.035,\n",
       "  'G': 0.5101,\n",
       "  'H': 0.0382,\n",
       "  'I': 0.0206,\n",
       "  'L': 0.0213,\n",
       "  'K': 0.0432,\n",
       "  'M': 0.0281,\n",
       "  'F': 0.0254,\n",
       "  'P': 0.0362,\n",
       "  'S': 0.0663,\n",
       "  'T': 0.0434,\n",
       "  'W': 0.0303,\n",
       "  'Y': 0.0249,\n",
       "  'V': 0.0247},\n",
       " 'H': {'A': 0.0148,\n",
       "  'R': 0.0233,\n",
       "  'N': 0.0315,\n",
       "  'D': 0.0187,\n",
       "  'C': 0.0081,\n",
       "  'Q': 0.0294,\n",
       "  'E': 0.0258,\n",
       "  'G': 0.0135,\n",
       "  'H': 0.355,\n",
       "  'I': 0.0088,\n",
       "  'L': 0.0101,\n",
       "  'K': 0.0207,\n",
       "  'M': 0.0161,\n",
       "  'F': 0.0169,\n",
       "  'P': 0.0129,\n",
       "  'S': 0.0192,\n",
       "  'T': 0.0138,\n",
       "  'W': 0.0152,\n",
       "  'Y': 0.0467,\n",
       "  'V': 0.0082},\n",
       " 'I': {'A': 0.0432,\n",
       "  'R': 0.0233,\n",
       "  'N': 0.0225,\n",
       "  'D': 0.0224,\n",
       "  'C': 0.0447,\n",
       "  'Q': 0.0265,\n",
       "  'E': 0.0221,\n",
       "  'G': 0.0189,\n",
       "  'H': 0.0229,\n",
       "  'I': 0.271,\n",
       "  'L': 0.1154,\n",
       "  'K': 0.0276,\n",
       "  'M': 0.1004,\n",
       "  'F': 0.0634,\n",
       "  'P': 0.0258,\n",
       "  'S': 0.0297,\n",
       "  'T': 0.0533,\n",
       "  'W': 0.0303,\n",
       "  'Y': 0.0436,\n",
       "  'V': 0.1646},\n",
       " 'L': {'A': 0.0594,\n",
       "  'R': 0.0465,\n",
       "  'N': 0.0315,\n",
       "  'D': 0.028,\n",
       "  'C': 0.065,\n",
       "  'Q': 0.0471,\n",
       "  'E': 0.0368,\n",
       "  'G': 0.0283,\n",
       "  'H': 0.0382,\n",
       "  'I': 0.1679,\n",
       "  'L': 0.3755,\n",
       "  'K': 0.0432,\n",
       "  'M': 0.1968,\n",
       "  'F': 0.1142,\n",
       "  'P': 0.0362,\n",
       "  'S': 0.0419,\n",
       "  'T': 0.0651,\n",
       "  'W': 0.053,\n",
       "  'Y': 0.0685,\n",
       "  'V': 0.1303},\n",
       " 'K': {'A': 0.0445,\n",
       "  'R': 0.1202,\n",
       "  'N': 0.0539,\n",
       "  'D': 0.0448,\n",
       "  'C': 0.0203,\n",
       "  'Q': 0.0912,\n",
       "  'E': 0.0755,\n",
       "  'G': 0.0337,\n",
       "  'H': 0.0458,\n",
       "  'I': 0.0236,\n",
       "  'L': 0.0253,\n",
       "  'K': 0.2781,\n",
       "  'M': 0.0361,\n",
       "  'F': 0.019,\n",
       "  'P': 0.0413,\n",
       "  'S': 0.0541,\n",
       "  'T': 0.0454,\n",
       "  'W': 0.0227,\n",
       "  'Y': 0.0312,\n",
       "  'V': 0.0261},\n",
       " 'M': {'A': 0.0175,\n",
       "  'R': 0.0155,\n",
       "  'N': 0.0112,\n",
       "  'D': 0.0093,\n",
       "  'C': 0.0163,\n",
       "  'Q': 0.0206,\n",
       "  'E': 0.0129,\n",
       "  'G': 0.0094,\n",
       "  'H': 0.0153,\n",
       "  'I': 0.0368,\n",
       "  'L': 0.0496,\n",
       "  'K': 0.0155,\n",
       "  'M': 0.1606,\n",
       "  'F': 0.0254,\n",
       "  'P': 0.0103,\n",
       "  'S': 0.0157,\n",
       "  'T': 0.0197,\n",
       "  'W': 0.0152,\n",
       "  'Y': 0.0187,\n",
       "  'V': 0.0316},\n",
       " 'F': {'A': 0.0216,\n",
       "  'R': 0.0174,\n",
       "  'N': 0.018,\n",
       "  'D': 0.0149,\n",
       "  'C': 0.0203,\n",
       "  'Q': 0.0147,\n",
       "  'E': 0.0166,\n",
       "  'G': 0.0162,\n",
       "  'H': 0.0305,\n",
       "  'I': 0.0442,\n",
       "  'L': 0.0547,\n",
       "  'K': 0.0155,\n",
       "  'M': 0.0482,\n",
       "  'F': 0.3869,\n",
       "  'P': 0.0129,\n",
       "  'S': 0.0209,\n",
       "  'T': 0.0237,\n",
       "  'W': 0.0606,\n",
       "  'Y': 0.1308,\n",
       "  'V': 0.0357},\n",
       " 'P': {'A': 0.0297,\n",
       "  'R': 0.0194,\n",
       "  'N': 0.0202,\n",
       "  'D': 0.0224,\n",
       "  'C': 0.0163,\n",
       "  'Q': 0.0235,\n",
       "  'E': 0.0258,\n",
       "  'G': 0.0189,\n",
       "  'H': 0.0191,\n",
       "  'I': 0.0147,\n",
       "  'L': 0.0142,\n",
       "  'K': 0.0276,\n",
       "  'M': 0.0161,\n",
       "  'F': 0.0106,\n",
       "  'P': 0.4935,\n",
       "  'S': 0.0297,\n",
       "  'T': 0.0276,\n",
       "  'W': 0.0076,\n",
       "  'Y': 0.0156,\n",
       "  'V': 0.0165},\n",
       " 'S': {'A': 0.085,\n",
       "  'R': 0.0446,\n",
       "  'N': 0.0697,\n",
       "  'D': 0.0522,\n",
       "  'C': 0.0407,\n",
       "  'Q': 0.0559,\n",
       "  'E': 0.0552,\n",
       "  'G': 0.0513,\n",
       "  'H': 0.042,\n",
       "  'I': 0.025,\n",
       "  'L': 0.0243,\n",
       "  'K': 0.0535,\n",
       "  'M': 0.0361,\n",
       "  'F': 0.0254,\n",
       "  'P': 0.0439,\n",
       "  'S': 0.2199,\n",
       "  'T': 0.0927,\n",
       "  'W': 0.0227,\n",
       "  'Y': 0.0312,\n",
       "  'V': 0.0329},\n",
       " 'T': {'A': 0.0499,\n",
       "  'R': 0.0349,\n",
       "  'N': 0.0494,\n",
       "  'D': 0.0354,\n",
       "  'C': 0.0366,\n",
       "  'Q': 0.0412,\n",
       "  'E': 0.0368,\n",
       "  'G': 0.0297,\n",
       "  'H': 0.0267,\n",
       "  'I': 0.0398,\n",
       "  'L': 0.0334,\n",
       "  'K': 0.0397,\n",
       "  'M': 0.0402,\n",
       "  'F': 0.0254,\n",
       "  'P': 0.0362,\n",
       "  'S': 0.082,\n",
       "  'T': 0.2465,\n",
       "  'W': 0.0227,\n",
       "  'Y': 0.028,\n",
       "  'V': 0.0494},\n",
       " 'W': {'A': 0.0054,\n",
       "  'R': 0.0058,\n",
       "  'N': 0.0045,\n",
       "  'D': 0.0037,\n",
       "  'C': 0.0041,\n",
       "  'Q': 0.0059,\n",
       "  'E': 0.0055,\n",
       "  'G': 0.0054,\n",
       "  'H': 0.0076,\n",
       "  'I': 0.0059,\n",
       "  'L': 0.0071,\n",
       "  'K': 0.0052,\n",
       "  'M': 0.008,\n",
       "  'F': 0.0169,\n",
       "  'P': 0.0026,\n",
       "  'S': 0.0052,\n",
       "  'T': 0.0059,\n",
       "  'W': 0.4924,\n",
       "  'Y': 0.028,\n",
       "  'V': 0.0055},\n",
       " 'Y': {'A': 0.0175,\n",
       "  'R': 0.0174,\n",
       "  'N': 0.0157,\n",
       "  'D': 0.0112,\n",
       "  'C': 0.0122,\n",
       "  'Q': 0.0206,\n",
       "  'E': 0.0166,\n",
       "  'G': 0.0108,\n",
       "  'H': 0.0573,\n",
       "  'I': 0.0206,\n",
       "  'L': 0.0223,\n",
       "  'K': 0.0173,\n",
       "  'M': 0.0241,\n",
       "  'F': 0.0888,\n",
       "  'P': 0.0129,\n",
       "  'S': 0.0175,\n",
       "  'T': 0.0178,\n",
       "  'W': 0.0682,\n",
       "  'Y': 0.3178,\n",
       "  'V': 0.0206},\n",
       " 'V': {'A': 0.0688,\n",
       "  'R': 0.031,\n",
       "  'N': 0.027,\n",
       "  'D': 0.0243,\n",
       "  'C': 0.0569,\n",
       "  'Q': 0.0353,\n",
       "  'E': 0.0313,\n",
       "  'G': 0.0243,\n",
       "  'H': 0.0229,\n",
       "  'I': 0.1767,\n",
       "  'L': 0.0962,\n",
       "  'K': 0.0328,\n",
       "  'M': 0.0924,\n",
       "  'F': 0.055,\n",
       "  'P': 0.031,\n",
       "  'S': 0.0419,\n",
       "  'T': 0.071,\n",
       "  'W': 0.0303,\n",
       "  'Y': 0.0467,\n",
       "  'V': 0.2689}}"
      ]
     },
     "execution_count": 6,
     "metadata": {},
     "output_type": "execute_result"
    }
   ],
   "source": [
    "blosum62_file = data_dir + \"Matrices/blosum62.freq_rownorm\"\n",
    "_blosum62 = np.loadtxt(blosum62_file, dtype=float).T\n",
    "\n",
    "blosum62 = {}\n",
    "\n",
    "for i, letter_1 in enumerate(alphabet):\n",
    "    \n",
    "    blosum62[letter_1] = {}\n",
    "\n",
    "    for j, letter_2 in enumerate(alphabet):\n",
    "        \n",
    "        blosum62[letter_1][letter_2] = _blosum62[i, j]\n",
    "\n",
    "blosum62"
   ]
  },
  {
   "cell_type": "markdown",
   "metadata": {
    "colab_type": "text",
    "id": "sxg0WgcwcRJe",
    "slideshow": {
     "slide_type": "subslide"
    }
   },
   "source": [
    "### Load Peptides"
   ]
  },
  {
   "cell_type": "code",
   "execution_count": 7,
   "metadata": {
    "colab": {
     "base_uri": "https://localhost:8080/",
     "height": 3910
    },
    "colab_type": "code",
    "id": "oWUr9qaw2L76",
    "outputId": "6bba7479-f49f-4586-e1bc-94450a6c72d8"
   },
   "outputs": [
    {
     "name": "stdout",
     "output_type": "stream",
     "text": [
      "['SLLPAIVEL', 'YLLPAIVHI', 'TLWVDPYEV', 'SLPSGGAGV', 'GLVPFLVSV', 'KLLEPVLLL', 'LLDVPTAAV', 'LLDVPTAAV', 'LLDVPTAAV', 'LLDVPTAAV', 'VLFRGGPRG', 'MVDGTLLLL', 'YMNGTMSQV', 'MLLSVPLLL', 'SLLGLLVEV', 'ALLPPINIL', 'TLIKIQHTL', 'ALIVGANDD', 'HLIDYLVTS', 'ILAPPVVKL', 'ALFPQLVIL', 'GILGFVFTL', 'STNRQSGRQ', 'ASKKFDQSQ', 'AQYTSRMIA', 'GLDVLTAKV', 'RILGAVAKV', 'QVCERIPTI', 'ILFGHENRV', 'ILMEHIHKL', 'ILDQKINEV', 'SLAGGIIGV', 'LLIENVASL', 'FLLWATAEA', 'SLPDFGISY', 'ALIDFALYL', 'KKREEAPSL', 'LERPGGNEI', 'ALSNLEVKL', 'ALNELLQHV', 'DLERKVESL', 'FLGENISNF', 'ALSDHHIYL', 'GLSEFTEYL', 'STAPPAHGV', 'PLDGEYFTL', 'GVLVGVALI', 'RTLDKVLEV', 'HLSTAFARV', 'RLDSYVRSL', 'YMNGTMSQV', 'GILGFVFTL', 'ALWGFFPVL', 'ILKEPVHGV', 'ILGFVFTLT', 'LLFGYPVYV', 'GLSPTVWLS', 'WLSLLVPFV', 'FLPSDFFPS', 'CLGGLLTMV', 'FIAGNSAYE', 'KLGEFYNQM', 'KLVALGINA', 'DLMGYIPLV', 'RLVTLKDIV', 'MLLAVLYCL', 'AAGIGILTV', 'YLEPGPVTA', 'LLDGTATLR', 'ITDQVPFSV', 'KTWGQYWQV', 'TITDQVPFS', 'AFHHVAREL', 'YLNKIQNSL', 'MMRKLAILS', 'AIMDKNIIL', 'IMDKNIILK', 'ILHTPGCVL', 'SMVGNWAKV', 'SLLAPGAKQ', 'KIFGSLAFL', 'ELVSEFSRM', 'KLTPLCVTL', 'VLYRYGSFS', 'YIGEVLVSV', 'CINGVCWTV', 'VMNILLQYV', 'ILTVILGVL', 'KVLEYVIKV', 'FLWGPRALV', 'GLSRYVARL', 'FLLTRILTI', 'HLGNVKYLV', 'GIAGGLALL', 'GLQDCTMLV', 'TGAPVTYST', 'VIYQYMDDL', 'VLPDVFIRC', 'VLPDVFIRC', 'AVGIGIAVV', 'LVVLGLLAV', 'ALGLGLLPV', 'GIGIGVLAA', 'GAGIGVAVL', 'IAGIGILAI', 'LIVIGILIL', 'LAGIGLIAA', 'VDGIGILTI', 'GAGIGVLTA', 'AAGIGIIQI', 'QAGIGILLA', 'KARDPHSGH', 'KACDPHSGH', 'ACDPHSGHF', 'SLYNTVATL', 'RGPGRAFVT', 'NLVPMVATV', 'GLHCYEQLV', 'PLKQHFQIV', 'AVFDRKSDA', 'LLDFVRFMG', 'VLVKSPNHV', 'GLAPPQHLI', 'LLGRNSFEV', 'PLTFGWCYK', 'VLEWRFDSR', 'TLNAWVKVV', 'GLCTLVAML', 'FIDSYICQV', 'IISAVVGIL', 'VMAGVGSPY', 'LLWTLVVLL', 'SVRDRLARL', 'LLMDCSGSI', 'CLTSTVQLV', 'VLHDDLLEA', 'LMWITQCFL', 'SLLMWITQC', 'QLSLLMWIT', 'LLGATCMFV', 'RLTRFLSRV', 'YMDGTMSQV', 'FLTPKKLQC', 'ISNDVCAQV', 'VKTDGNPPE', 'SVYDFFVWL', 'FLYGALLLA', 'VLFSSDFRI', 'LMWAKIGPV', 'SLLLELEEV', 'SLSRFSWGA', 'YTAFTIPSI', 'RLMKQDFSV', 'RLPRIFCSC', 'FLWGPRAYA', 'RLLQETELV', 'SLFEGIDFY', 'SLDQSVVEL', 'RLNMFTPYI', 'NMFTPYIGV', 'LMIIPLINV', 'TLFIGSHVV', 'SLVIVTTFV', 'VLQWASLAV', 'ILAKFLHWL', 'STAPPHVNV', 'LLLLTVLTV', 'VVLGVVFGI', 'ILHNGAYSL', 'MIMVKCWMI', 'MLGTHTMEV', 'MLGTHTMEV', 'SLADTNSLA', 'LLWAARPRL', 'GVALQTMKQ', 'GLYDGMEHL', 'KMVELVHFL', 'YLQLVFGIE', 'MLMAQEALA', 'LMAQEALAF', 'VYDGREHTV', 'YLSGANLNL', 'RMFPNAPYL', 'EAAGIGILT', 'TLDSQVMSL', 'STPPPGTRV', 'KVAELVHFL', 'IMIGVLVGV', 'ALCRWGLLL', 'LLFAGVQCQ', 'VLLCESTAV', 'YLSTAFARV', 'YLLEMLWRL', 'SLDDYNHLV', 'RTLDKVLEV', 'GLPVEYLQV', 'KLIANNTRV', 'FIYAGSLSA', 'KLVANNTRL', 'FLDEFMEGV', 'ALQPGTALL', 'VLDGLDVLL', 'SLYSFPEPE', 'ALYVDSLFF', 'SLLQHLIGL', 'ELTLGEFLK', 'MINAYLDKL', 'AAGIGILTV', 'FLPSDFFPS', 'SVRDRLARL', 'SLREWLLRI', 'LLSAWILTA', 'AAGIGILTV', 'AVPDEIPPL', 'FAYDGKDYI', 'AAGIGILTV', 'FLPSDFFPS', 'AAGIGILTV', 'FLPSDFFPS', 'AAGIGILTV', 'FLWGPRALV', 'ETVSEQSNV', 'ITLWQRPLV', 'DTVLEEMNL', 'ETVSEQSNV', 'QVSQNYPIV', 'DVKQLTEVV', 'FLPSDFFPS', 'RVASPTSGV']\n"
     ]
    }
   ],
   "source": [
    "#peptides_file = data_dir + \"PSSM/A0201.single_lig\"\n",
    "#peptides_file = data_dir + \"PSSM/A0201.small_lig\"\n",
    "peptides_file = data_dir + \"PSSM/A0201.large_lig\"\n",
    "\n",
    "peptides = np.loadtxt(peptides_file, dtype=str).tolist()\n",
    "\n",
    "if len(peptides[0]) == 1:\n",
    "    peptide_length = len(peptides)\n",
    "    peptides = [peptides]\n",
    "else:\n",
    "    peptide_length = len(peptides[0])\n",
    "\n",
    "for i in range(0, len(peptides)):\n",
    "    if len(peptides[i]) != peptide_length:\n",
    "        print(\"Error, peptides differ in length!\")\n",
    "        \n",
    "print(peptides)"
   ]
  },
  {
   "cell_type": "markdown",
   "metadata": {
    "colab_type": "text",
    "id": "Eqvsa3PecRJi"
   },
   "source": [
    "## Initialize Matrix"
   ]
  },
  {
   "cell_type": "code",
   "execution_count": 8,
   "metadata": {
    "colab": {},
    "colab_type": "code",
    "id": "pYBGW8DBcRJj",
    "scrolled": true
   },
   "outputs": [],
   "source": [
    "def initialize_matrix(peptide_length, alphabet):\n",
    "\n",
    "    init_matrix = [0]*peptide_length\n",
    "\n",
    "    for i in range(0, peptide_length):\n",
    "\n",
    "        row = {}\n",
    "\n",
    "        for letter in alphabet: \n",
    "            row[letter] = 0.0\n",
    "\n",
    "        #fancy way:  row = dict( zip( alphabet, [0.0]*len(alphabet) ) )\n",
    "\n",
    "        init_matrix[i] = row\n",
    "        \n",
    "    return init_matrix"
   ]
  },
  {
   "cell_type": "markdown",
   "metadata": {
    "colab_type": "text",
    "id": "FxA_hk5Td1vq"
   },
   "source": [
    "## Amino Acid Count Matrix (c)"
   ]
  },
  {
   "cell_type": "code",
   "execution_count": 9,
   "metadata": {
    "colab": {
     "base_uri": "https://localhost:8080/",
     "height": 357
    },
    "colab_type": "code",
    "id": "X3M8aec0d72T",
    "outputId": "fcfaa925-46dd-4750-b37a-b3ef763825ac"
   },
   "outputs": [
    {
     "name": "stdout",
     "output_type": "stream",
     "text": [
      "{'A': 27.0,\n",
      " 'C': 3.0,\n",
      " 'D': 4.0,\n",
      " 'E': 5.0,\n",
      " 'F': 18.0,\n",
      " 'G': 19.0,\n",
      " 'H': 3.0,\n",
      " 'I': 17.0,\n",
      " 'K': 14.0,\n",
      " 'L': 24.0,\n",
      " 'M': 9.0,\n",
      " 'N': 2.0,\n",
      " 'P': 3.0,\n",
      " 'Q': 4.0,\n",
      " 'R': 13.0,\n",
      " 'S': 26.0,\n",
      " 'T': 7.0,\n",
      " 'V': 18.0,\n",
      " 'W': 1.0,\n",
      " 'Y': 12.0}\n"
     ]
    }
   ],
   "source": [
    "c_matrix = initialize_matrix(peptide_length, alphabet)\n",
    "\n",
    "for position in range(0, peptide_length):\n",
    "        \n",
    "    for peptide in peptides:\n",
    "        \n",
    "        c_matrix[position][peptide[position]] += 1\n",
    "    \n",
    "pprint(c_matrix[0])"
   ]
  },
  {
   "cell_type": "markdown",
   "metadata": {
    "colab_type": "text",
    "id": "PX5Y_J2Qee3j"
   },
   "source": [
    "## Sequence Weighting"
   ]
  },
  {
   "cell_type": "code",
   "execution_count": 10,
   "metadata": {
    "colab": {
     "base_uri": "https://localhost:8080/",
     "height": 3621
    },
    "colab_type": "code",
    "id": "f9u_lS41ek8r",
    "outputId": "e5213c76-a968-4b2a-84fc-47a70dc60992"
   },
   "outputs": [
    {
     "name": "stdout",
     "output_type": "stream",
     "text": [
      "'W:'\n",
      "{'AAGIGIIQI': 0.024596541281685157,\n",
      " 'AAGIGILTV': 0.017794374930590016,\n",
      " 'ACDPHSGHF': 0.11606701877986708,\n",
      " 'AFHHVAREL': 0.16762478444633447,\n",
      " 'AIMDKNIIL': 0.03675033603899132,\n",
      " 'ALCRWGLLL': 0.038316106033513334,\n",
      " 'ALFPQLVIL': 0.0247039614348667,\n",
      " 'ALGLGLLPV': 0.01930023126571007,\n",
      " 'ALIDFALYL': 0.025263578835188177,\n",
      " 'ALIVGANDD': 0.100611436744236,\n",
      " 'ALLPPINIL': 0.022592294366303084,\n",
      " 'ALNELLQHV': 0.03213666839007289,\n",
      " 'ALQPGTALL': 0.025789304539119713,\n",
      " 'ALSDHHIYL': 0.03531896462586808,\n",
      " 'ALSNLEVKL': 0.037730526017692625,\n",
      " 'ALWGFFPVL': 0.024805842986585454,\n",
      " 'ALYVDSLFF': 0.042787268993597666,\n",
      " 'AQYTSRMIA': 0.10924718135995681,\n",
      " 'ASKKFDQSQ': 0.09142827452618475,\n",
      " 'AVFDRKSDA': 0.05167458625640195,\n",
      " 'AVGIGIAVV': 0.02107323439396396,\n",
      " 'AVPDEIPPL': 0.026045581915119548,\n",
      " 'CINGVCWTV': 0.049096156193671595,\n",
      " 'CLGGLLTMV': 0.04386581500312044,\n",
      " 'CLTSTVQLV': 0.040561312437441883,\n",
      " 'DLERKVESL': 0.05248292990322345,\n",
      " 'DLMGYIPLV': 0.03314102718433929,\n",
      " 'DTVLEEMNL': 0.05099854032009033,\n",
      " 'DVKQLTEVV': 0.05222983216134271,\n",
      " 'EAAGIGILT': 0.049325106528180035,\n",
      " 'ELTLGEFLK': 0.054145286312428424,\n",
      " 'ELVSEFSRM': 0.059400446694236664,\n",
      " 'ETVSEQSNV': 0.044324841555113716,\n",
      " 'FAYDGKDYI': 0.04120453733047067,\n",
      " 'FIAGNSAYE': 0.04138034023782551,\n",
      " 'FIDSYICQV': 0.032912966393238555,\n",
      " 'FIYAGSLSA': 0.027994888648685778,\n",
      " 'FLDEFMEGV': 0.02950910518061313,\n",
      " 'FLGENISNF': 0.0390673316668492,\n",
      " 'FLLTRILTI': 0.024993537258831983,\n",
      " 'FLLWATAEA': 0.0345295893919373,\n",
      " 'FLPSDFFPS': 0.03267578354348993,\n",
      " 'FLTPKKLQC': 0.04548227894866954,\n",
      " 'FLWGPRALV': 0.023137768793984125,\n",
      " 'FLWGPRAYA': 0.02884653319804519,\n",
      " 'FLYGALLLA': 0.02262567494878938,\n",
      " 'GAGIGVAVL': 0.02218230672357111,\n",
      " 'GAGIGVLTA': 0.02115423667914701,\n",
      " 'GIAGGLALL': 0.018090062626049393,\n",
      " 'GIGIGVLAA': 0.023062815218160327,\n",
      " 'GILGFVFTL': 0.020665168623311723,\n",
      " 'GLAPPQHLI': 0.028915578359969614,\n",
      " 'GLCTLVAML': 0.03972847534061948,\n",
      " 'GLDVLTAKV': 0.02262934244664836,\n",
      " 'GLHCYEQLV': 0.06018326513214999,\n",
      " 'GLPVEYLQV': 0.030275627744736314,\n",
      " 'GLQDCTMLV': 0.05396716398183831,\n",
      " 'GLSEFTEYL': 0.027276154609373854,\n",
      " 'GLSPTVWLS': 0.029276059862319622,\n",
      " 'GLSRYVARL': 0.022798840647826894,\n",
      " 'GLVPFLVSV': 0.020025598417160815,\n",
      " 'GLYDGMEHL': 0.035396471644164575,\n",
      " 'GVALQTMKQ': 0.046105521155830755,\n",
      " 'GVLVGVALI': 0.022370143060892148,\n",
      " 'HLGNVKYLV': 0.057162733032670526,\n",
      " 'HLIDYLVTS': 0.04215242452964221,\n",
      " 'HLSTAFARV': 0.03837905540998362,\n",
      " 'IAGIGILAI': 0.024031454135715658,\n",
      " 'IISAVVGIL': 0.030479879700810522,\n",
      " 'ILAKFLHWL': 0.048306830945243955,\n",
      " 'ILAPPVVKL': 0.021485963333501463,\n",
      " 'ILDQKINEV': 0.029147674170962312,\n",
      " 'ILFGHENRV': 0.0321008793764895,\n",
      " 'ILGFVFTLT': 0.04301468621704505,\n",
      " 'ILHNGAYSL': 0.04607839421076206,\n",
      " 'ILHTPGCVL': 0.04117175311991045,\n",
      " 'ILKEPVHGV': 0.03167068951131511,\n",
      " 'ILMEHIHKL': 0.03192106959291113,\n",
      " 'ILTVILGVL': 0.03875618572702908,\n",
      " 'IMDKNIILK': 0.04697193080813125,\n",
      " 'IMIGVLVGV': 0.02656947378373228,\n",
      " 'ISNDVCAQV': 0.062318187094025014,\n",
      " 'ITDQVPFSV': 0.03182027633189524,\n",
      " 'ITLWQRPLV': 0.04147899704430865,\n",
      " 'KACDPHSGH': 0.07362636589416775,\n",
      " 'KARDPHSGH': 0.0682692230370249,\n",
      " 'KIFGSLAFL': 0.031836602414484716,\n",
      " 'KKREEAPSL': 0.06261294930292038,\n",
      " 'KLGEFYNQM': 0.06057065269222904,\n",
      " 'KLIANNTRV': 0.03483080467994421,\n",
      " 'KLLEPVLLL': 0.016696227230971993,\n",
      " 'KLTPLCVTL': 0.03093896983254377,\n",
      " 'KLVALGINA': 0.03067980389635384,\n",
      " 'KLVANNTRL': 0.032194463639524995,\n",
      " 'KMVELVHFL': 0.028299000437887918,\n",
      " 'KTWGQYWQV': 0.04150881642097713,\n",
      " 'KVAELVHFL': 0.02766174553592713,\n",
      " 'KVLEYVIKV': 0.02678630016014817,\n",
      " 'LAGIGLIAA': 0.02488549402753445,\n",
      " 'LERPGGNEI': 0.09708599505403366,\n",
      " 'LIVIGILIL': 0.021625016987588674,\n",
      " 'LLDFVRFMG': 0.0728117741438768,\n",
      " 'LLDGTATLR': 0.05136249810587861,\n",
      " 'LLDVPTAAV': 0.021121500873017313,\n",
      " 'LLFAGVQCQ': 0.056974892546546294,\n",
      " 'LLFGYPVYV': 0.02760135628176516,\n",
      " 'LLGATCMFV': 0.03332740311075317,\n",
      " 'LLGRNSFEV': 0.026443968562844932,\n",
      " 'LLIENVASL': 0.023423318509146866,\n",
      " 'LLLLTVLTV': 0.019401424044277398,\n",
      " 'LLMDCSGSI': 0.054517198227169224,\n",
      " 'LLSAWILTA': 0.028421527397348444,\n",
      " 'LLWAARPRL': 0.030150812845874196,\n",
      " 'LLWTLVVLL': 0.02195800750436217,\n",
      " 'LMAQEALAF': 0.04388838071113613,\n",
      " 'LMIIPLINV': 0.029062125395965935,\n",
      " 'LMWAKIGPV': 0.03504774481284669,\n",
      " 'LMWITQCFL': 0.041445527543393354,\n",
      " 'LVVLGLLAV': 0.024376919780032764,\n",
      " 'MIMVKCWMI': 0.06014114606971099,\n",
      " 'MINAYLDKL': 0.03750194381986407,\n",
      " 'MLGTHTMEV': 0.03204504511786886,\n",
      " 'MLLAVLYCL': 0.05179405944601735,\n",
      " 'MLLSVPLLL': 0.024883473421314157,\n",
      " 'MLMAQEALA': 0.03607822939558578,\n",
      " 'MMRKLAILS': 0.041387515223715664,\n",
      " 'MVDGTLLLL': 0.022915942464413006,\n",
      " 'NLVPMVATV': 0.06239292931819054,\n",
      " 'NMFTPYIGV': 0.05637923130880687,\n",
      " 'PLDGEYFTL': 0.03973723275812868,\n",
      " 'PLKQHFQIV': 0.05647992525321339,\n",
      " 'PLTFGWCYK': 0.0963713839979913,\n",
      " 'QAGIGILLA': 0.03065772634547933,\n",
      " 'QLSLLMWIT': 0.055194856962331146,\n",
      " 'QVCERIPTI': 0.04872966589157312,\n",
      " 'QVSQNYPIV': 0.04715227083378139,\n",
      " 'RGPGRAFVT': 0.07353961935037787,\n",
      " 'RILGAVAKV': 0.024788408078177893,\n",
      " 'RLDSYVRSL': 0.043934628359565873,\n",
      " 'RLLQETELV': 0.027010348867128466,\n",
      " 'RLMKQDFSV': 0.04255070539326598,\n",
      " 'RLNMFTPYI': 0.052435789139181184,\n",
      " 'RLPRIFCSC': 0.050504819617495034,\n",
      " 'RLTRFLSRV': 0.026649530041092436,\n",
      " 'RLVTLKDIV': 0.038791354364178104,\n",
      " 'RMFPNAPYL': 0.03319962870538925,\n",
      " 'RTLDKVLEV': 0.026130231727376954,\n",
      " 'RVASPTSGV': 0.026718860934427213,\n",
      " 'SLADTNSLA': 0.02677061805711457,\n",
      " 'SLAGGIIGV': 0.01757202540684605,\n",
      " 'SLDDYNHLV': 0.024858589807474667,\n",
      " 'SLDQSVVEL': 0.028491599596103676,\n",
      " 'SLFEGIDFY': 0.0450049872368577,\n",
      " 'SLLAPGAKQ': 0.032658546828397916,\n",
      " 'SLLGLLVEV': 0.017177780815086245,\n",
      " 'SLLLELEEV': 0.02575406220483513,\n",
      " 'SLLMWITQC': 0.06418094397473395,\n",
      " 'SLLPAIVEL': 0.02070644873045745,\n",
      " 'SLLQHLIGL': 0.02550554167723642,\n",
      " 'SLPDFGISY': 0.040661503748637376,\n",
      " 'SLPSGGAGV': 0.02073816834959191,\n",
      " 'SLREWLLRI': 0.03176304140514115,\n",
      " 'SLSRFSWGA': 0.0333639545410308,\n",
      " 'SLVIVTTFV': 0.024443655279636912,\n",
      " 'SLYNTVATL': 0.030180922715263656,\n",
      " 'SLYSFPEPE': 0.04582031874684865,\n",
      " 'SMVGNWAKV': 0.04826796229302622,\n",
      " 'STAPPAHGV': 0.02851782220707269,\n",
      " 'STAPPHVNV': 0.037108537047787535,\n",
      " 'STNRQSGRQ': 0.04850004656506205,\n",
      " 'STPPPGTRV': 0.028564812540440736,\n",
      " 'SVRDRLARL': 0.028194734449861335,\n",
      " 'SVYDFFVWL': 0.0472226659966154,\n",
      " 'TGAPVTYST': 0.07585458744901469,\n",
      " 'TITDQVPFS': 0.03921369251090614,\n",
      " 'TLDSQVMSL': 0.029870220545158054,\n",
      " 'TLFIGSHVV': 0.030984218004410168,\n",
      " 'TLIKIQHTL': 0.04647544359270174,\n",
      " 'TLNAWVKVV': 0.08339383994189589,\n",
      " 'TLWVDPYEV': 0.04442562506423827,\n",
      " 'VDGIGILTI': 0.0839965139409289,\n",
      " 'VIYQYMDDL': 0.0535639378854879,\n",
      " 'VKTDGNPPE': 0.07476983689057992,\n",
      " 'VLDGLDVLL': 0.027717889607123535,\n",
      " 'VLEWRFDSR': 0.08265681064332507,\n",
      " 'VLFRGGPRG': 0.053588915348649596,\n",
      " 'VLFSSDFRI': 0.04224382424133394,\n",
      " 'VLHDDLLEA': 0.031526954392738345,\n",
      " 'VLLCESTAV': 0.051000388020580184,\n",
      " 'VLPDVFIRC': 0.03195415609972625,\n",
      " 'VLQWASLAV': 0.04516778237373305,\n",
      " 'VLVKSPNHV': 0.04725352815529926,\n",
      " 'VLYRYGSFS': 0.03516748237613303,\n",
      " 'VMAGVGSPY': 0.04571848516120962,\n",
      " 'VMNILLQYV': 0.03087038657922711,\n",
      " 'VVLGVVFGI': 0.024703939585677886,\n",
      " 'VYDGREHTV': 0.09406137859310454,\n",
      " 'WLSLLVPFV': 0.07213235289093514,\n",
      " 'YIGEVLVSV': 0.02316649203322731,\n",
      " 'YLEPGPVTA': 0.040857637213489215,\n",
      " 'YLLEMLWRL': 0.04696323237834819,\n",
      " 'YLLPAIVHI': 0.03211259259887938,\n",
      " 'YLNKIQNSL': 0.04395691902040142,\n",
      " 'YLQLVFGIE': 0.05438339202547922,\n",
      " 'YLSGANLNL': 0.03060046639150297,\n",
      " 'YLSTAFARV': 0.025879055409983615,\n",
      " 'YMDGTMSQV': 0.03170584161800232,\n",
      " 'YMNGTMSQV': 0.033978568890729595,\n",
      " 'YTAFTIPSI': 0.040331883408281144}\n",
      "'Nseq:'\n",
      "19.0\n"
     ]
    }
   ],
   "source": [
    "# w = 1 / r * s\n",
    "# where \n",
    "# r = number of different amino acids in column\n",
    "# s = number of occurrence of amino acid in column\n",
    "\n",
    "weights = {}\n",
    "\n",
    "for peptide in peptides:\n",
    "\n",
    "    # apply sequence weighting\n",
    "    if sequence_weighting:\n",
    "    \n",
    "        w = 0.0\n",
    "        neff = 0.0\n",
    "        \n",
    "        for position in range(0, peptide_length):\n",
    "\n",
    "            r = 0\n",
    "\n",
    "            for letter in alphabet:        \n",
    "\n",
    "                if c_matrix[position][letter] != 0:\n",
    "                    \n",
    "                    r += 1\n",
    "\n",
    "            s = c_matrix[position][peptide[position]]\n",
    "\n",
    "            w += 1.0/(r * s)\n",
    "\n",
    "            neff += r\n",
    "                \n",
    "        neff = neff / peptide_length\n",
    "  \n",
    "    # do not apply sequence weighting\n",
    "    else:\n",
    "        \n",
    "        w = 1  \n",
    "        \n",
    "        neff = len(peptides)  \n",
    "      \n",
    "\n",
    "    weights[peptide] = w\n",
    "\n",
    "pprint( \"W:\")\n",
    "pprint( weights )\n",
    "pprint( \"Nseq:\")\n",
    "pprint( neff )"
   ]
  },
  {
   "cell_type": "markdown",
   "metadata": {
    "colab_type": "text",
    "id": "zBYTl2afcRJn"
   },
   "source": [
    "## Observed Frequencies Matrix (f)"
   ]
  },
  {
   "cell_type": "code",
   "execution_count": 11,
   "metadata": {
    "colab": {
     "base_uri": "https://localhost:8080/",
     "height": 357
    },
    "colab_type": "code",
    "id": "VdxqZPp7cRJo",
    "outputId": "fb521705-3058-4bd2-b2f3-a67749336ef5",
    "scrolled": true
   },
   "outputs": [
    {
     "name": "stdout",
     "output_type": "stream",
     "text": [
      "{'A': 0.1311811080905332,\n",
      " 'C': 0.014835920403803767,\n",
      " 'D': 0.020983592174332863,\n",
      " 'E': 0.027946724738341398,\n",
      " 'F': 0.06424458205659711,\n",
      " 'G': 0.0627520000996758,\n",
      " 'H': 0.015299356996921818,\n",
      " 'I': 0.06970270278930987,\n",
      " 'K': 0.06294576946390068,\n",
      " 'L': 0.09425526545382713,\n",
      " 'M': 0.0376436000084843,\n",
      " 'N': 0.013196906736333046,\n",
      " 'P': 0.02139872688992593,\n",
      " 'Q': 0.020192724448129442,\n",
      " 'R': 0.05470935070055924,\n",
      " 'S': 0.09446933607455794,\n",
      " 'T': 0.03891306967870277,\n",
      " 'V': 0.09865737399939828,\n",
      " 'W': 0.008014705876770572,\n",
      " 'Y': 0.048657183319894895}\n"
     ]
    }
   ],
   "source": [
    "f_matrix = initialize_matrix(peptide_length, alphabet)\n",
    "\n",
    "for position in range(0, peptide_length):\n",
    "  \n",
    "    n = 0;\n",
    "  \n",
    "    for peptide in peptides:\n",
    "    \n",
    "        f_matrix[position][peptide[position]] += weights[peptide]\n",
    "    \n",
    "        n += weights[peptide]\n",
    "        \n",
    "    for letter in alphabet: \n",
    "        \n",
    "        f_matrix[position][letter] = f_matrix[position][letter]/n\n",
    "      \n",
    "pprint( f_matrix[0] )"
   ]
  },
  {
   "cell_type": "code",
   "execution_count": null,
   "metadata": {},
   "outputs": [],
   "source": []
  },
  {
   "cell_type": "markdown",
   "metadata": {
    "colab_type": "text",
    "id": "R-sDTNd_cRJs"
   },
   "source": [
    "## Pseudo Frequencies Matrix (g)\n",
    "\n",
    "Remember g(b) = sum f(a)* q(b|a), and blosum[a,b] = q(a|b)"
   ]
  },
  {
   "cell_type": "code",
   "execution_count": 12,
   "metadata": {
    "colab": {
     "base_uri": "https://localhost:8080/",
     "height": 357
    },
    "colab_type": "code",
    "id": "0YpK1a5NcRJt",
    "outputId": "45ed5be9-4f4c-47d9-912e-3eca15146c03",
    "scrolled": true
   },
   "outputs": [
    {
     "name": "stdout",
     "output_type": "stream",
     "text": [
      "{'A': 0.08987082139366394,\n",
      " 'C': 0.021349452415678354,\n",
      " 'D': 0.03809148889713515,\n",
      " 'E': 0.04474699977471958,\n",
      " 'F': 0.05630852882264416,\n",
      " 'G': 0.07026655815709919,\n",
      " 'H': 0.02212768473312947,\n",
      " 'I': 0.07445249100074502,\n",
      " 'K': 0.0572838265712342,\n",
      " 'L': 0.10508273163109474,\n",
      " 'M': 0.027841477841683355,\n",
      " 'N': 0.0335719618182939,\n",
      " 'P': 0.030884895328302287,\n",
      " 'Q': 0.030191793024707318,\n",
      " 'R': 0.05153525745245067,\n",
      " 'S': 0.06340023795275433,\n",
      " 'T': 0.05062316759683184,\n",
      " 'V': 0.0827831198777054,\n",
      " 'W': 0.011374105618283127,\n",
      " 'Y': 0.03820804536044906}\n"
     ]
    }
   ],
   "source": [
    "g_matrix = initialize_matrix(peptide_length, alphabet)\n",
    "\n",
    "for position in range(0, peptide_length):\n",
    "\n",
    "    for letter_1 in alphabet:\n",
    "        for letter_2 in alphabet:\n",
    "        \n",
    "          g_matrix[position][letter_2] += f_matrix[position][letter_1]*blosum62[letter_2][letter_1]\n",
    "\n",
    "pprint(g_matrix[0])"
   ]
  },
  {
   "cell_type": "markdown",
   "metadata": {
    "colab_type": "text",
    "id": "Uanyx-9JcRJz"
   },
   "source": [
    "## Combined Frequencies Matrix (p)"
   ]
  },
  {
   "cell_type": "code",
   "execution_count": 13,
   "metadata": {
    "colab": {
     "base_uri": "https://localhost:8080/",
     "height": 357
    },
    "colab_type": "code",
    "id": "RTvGdzfvcRJ0",
    "outputId": "0e9f3dd8-acde-4804-e5d3-158a0af34543",
    "scrolled": true
   },
   "outputs": [
    {
     "name": "stdout",
     "output_type": "stream",
     "text": [
      "{'A': 0.10080589728401168,\n",
      " 'C': 0.019625282177240966,\n",
      " 'D': 0.033562927999922776,\n",
      " 'E': 0.040299868147443005,\n",
      " 'F': 0.05840924879633759,\n",
      " 'G': 0.06827741043601654,\n",
      " 'H': 0.02032018621472156,\n",
      " 'I': 0.07319519412124749,\n",
      " 'K': 0.058782576160469446,\n",
      " 'L': 0.1022166376429945,\n",
      " 'M': 0.03043615723877772,\n",
      " 'N': 0.028178564884833678,\n",
      " 'P': 0.028373850741673253,\n",
      " 'Q': 0.027544980754436704,\n",
      " 'R': 0.05237545860636176,\n",
      " 'S': 0.07162441098499647,\n",
      " 'T': 0.047523435794974145,\n",
      " 'V': 0.08698512832168293,\n",
      " 'W': 0.010484852745529804,\n",
      " 'Y': 0.04097399364383178}\n"
     ]
    }
   ],
   "source": [
    "p_matrix = initialize_matrix(peptide_length, alphabet)\n",
    "\n",
    "alpha = neff - 1\n",
    "\n",
    "for position in range(0, peptide_length):\n",
    "\n",
    "    for a in alphabet:\n",
    "        p_matrix[position][a] = (alpha*f_matrix[position][a]+beta*g_matrix[position][a])/(alpha+beta)\n",
    "\n",
    "pprint(p_matrix[0])"
   ]
  },
  {
   "cell_type": "markdown",
   "metadata": {
    "colab_type": "text",
    "id": "oHpKnFRecRJ4"
   },
   "source": [
    "## Log Odds Weight Matrix (w)"
   ]
  },
  {
   "cell_type": "code",
   "execution_count": 14,
   "metadata": {
    "colab": {
     "base_uri": "https://localhost:8080/",
     "height": 357
    },
    "colab_type": "code",
    "id": "AL9Zb61JcRJ5",
    "outputId": "c88fea02-32db-4c11-a52d-549610caa917",
    "scrolled": true
   },
   "outputs": [
    {
     "name": "stdout",
     "output_type": "stream",
     "text": [
      "{'A': 0.8919657302038987,\n",
      " 'C': -0.6984293946039517,\n",
      " 'D': -1.3721816531573625,\n",
      " 'E': -0.8443685774100588,\n",
      " 'F': 0.627072147100672,\n",
      " 'G': -0.23223385714680514,\n",
      " 'H': -0.7111960003754546,\n",
      " 'I': 0.2124283604386675,\n",
      " 'K': 0.03867137317999952,\n",
      " 'L': 0.09225922061967673,\n",
      " 'M': 0.5677162517897559,\n",
      " 'N': -1.3506537268042555,\n",
      " 'P': -0.917824331009928,\n",
      " 'Q': -0.6074905829292724,\n",
      " 'R': 0.020758696079847507,\n",
      " 'S': 0.6589789008068409,\n",
      " 'T': -0.20371620971979315,\n",
      " 'V': 0.5057446065687232,\n",
      " 'W': -0.6204100472027255,\n",
      " 'Y': 0.7132732216574992}\n"
     ]
    }
   ],
   "source": [
    "w_matrix = initialize_matrix(peptide_length, alphabet)\n",
    "\n",
    "for position in range(0, peptide_length):\n",
    "    \n",
    "    for letter in alphabet:\n",
    "        if p_matrix[position][letter] > 0:\n",
    "            w_matrix[position][letter] = 2 * math.log(p_matrix[position][letter]/bg[letter])/math.log(2)\n",
    "        else:\n",
    "            w_matrix[position][letter] = -999.9\n",
    "\n",
    "pprint(w_matrix[0])"
   ]
  },
  {
   "cell_type": "markdown",
   "metadata": {
    "colab_type": "text",
    "id": "It2omxrc3vOc"
   },
   "source": [
    "### Write Matrix to PSI-BLAST format"
   ]
  },
  {
   "cell_type": "code",
   "execution_count": 15,
   "metadata": {
    "colab": {},
    "colab_type": "code",
    "id": "s7aDTBf6cRKC"
   },
   "outputs": [],
   "source": [
    "def to_psi_blast(matrix):\n",
    "\n",
    "    header = [\"\", \"A\", \"R\", \"N\", \"D\", \"C\", \"Q\", \"E\", \"G\", \"H\", \"I\", \"L\", \"K\", \"M\", \"F\", \"P\", \"S\", \"T\", \"W\", \"Y\", \"V\"]\n",
    "\n",
    "    print ('{:>4} {:>8} {:>8} {:>8} {:>8} {:>8} {:>8} {:>8} {:>8} {:>8} {:>8} {:>8} {:>8} {:>8} {:>8} {:>8} {:>8} {:>8} {:>8} {:>8} {:>8}'.format(*header)) \n",
    "\n",
    "    letter_order = [\"A\", \"R\", \"N\", \"D\", \"C\", \"Q\", \"E\", \"G\", \"H\", \"I\", \"L\", \"K\", \"M\", \"F\", \"P\", \"S\", \"T\", \"W\", \"Y\", \"V\"]\n",
    "\n",
    "    for i, row in enumerate(matrix):\n",
    "\n",
    "        scores = []\n",
    "\n",
    "        scores.append(str(i+1) + \" A\")\n",
    "\n",
    "        for letter in letter_order:\n",
    "\n",
    "            score = row[letter]\n",
    "\n",
    "            scores.append(round(score, 4))\n",
    "\n",
    "        print('{:>4} {:>8} {:>8} {:>8} {:>8} {:>8} {:>8} {:>8} {:>8} {:>8} {:>8} {:>8} {:>8} {:>8} {:>8} {:>8} {:>8} {:>8} {:>8} {:>8} {:>8}'.format(*scores)) "
   ]
  },
  {
   "cell_type": "markdown",
   "metadata": {},
   "source": [
    "### convert w_matrix to PSI-BLAST format and print to file"
   ]
  },
  {
   "cell_type": "code",
   "execution_count": 16,
   "metadata": {},
   "outputs": [],
   "source": [
    "def to_psi_blast_file(matrix, file_name):\n",
    "    \n",
    "    with open(file_name, 'w') as file:\n",
    "\n",
    "        header = [\"\", \"A\", \"R\", \"N\", \"D\", \"C\", \"Q\", \"E\", \"G\", \"H\", \"I\", \"L\", \"K\", \"M\", \"F\", \"P\", \"S\", \"T\", \"W\", \"Y\", \"V\"]\n",
    "\n",
    "        file.write ('{:>4} {:>8} {:>8} {:>8} {:>8} {:>8} {:>8} {:>8} {:>8} {:>8} {:>8} {:>8} {:>8} {:>8} {:>8} {:>8} {:>8} {:>8} {:>8} {:>8} {:>8}\\n'.format(*header)) \n",
    "\n",
    "        letter_order = [\"A\", \"R\", \"N\", \"D\", \"C\", \"Q\", \"E\", \"G\", \"H\", \"I\", \"L\", \"K\", \"M\", \"F\", \"P\", \"S\", \"T\", \"W\", \"Y\", \"V\"]\n",
    "\n",
    "        for i, row in enumerate(matrix):\n",
    "\n",
    "            scores = []\n",
    "\n",
    "            scores.append(str(i+1) + \" A\")\n",
    "\n",
    "            for letter in letter_order:\n",
    "\n",
    "                score = row[letter]\n",
    "\n",
    "                scores.append(round(score, 4))\n",
    "\n",
    "            file.write('{:>4} {:>8} {:>8} {:>8} {:>8} {:>8} {:>8} {:>8} {:>8} {:>8} {:>8} {:>8} {:>8} {:>8} {:>8} {:>8} {:>8} {:>8} {:>8} {:>8} {:>8}\\n'.format(*scores)) "
   ]
  },
  {
   "cell_type": "markdown",
   "metadata": {
    "colab_type": "text",
    "id": "zcfN_JMVyZlq"
   },
   "source": [
    "### convert  w_matrix to PSI-BLAST format"
   ]
  },
  {
   "cell_type": "code",
   "execution_count": 17,
   "metadata": {
    "colab": {
     "base_uri": "https://localhost:8080/",
     "height": 187
    },
    "colab_type": "code",
    "id": "ujGbFiCgx7iO",
    "outputId": "4797b4f6-2ccd-4e49-b34c-a5a25d48bdaf"
   },
   "outputs": [
    {
     "name": "stdout",
     "output_type": "stream",
     "text": [
      "            A        R        N        D        C        Q        E        G        H        I        L        K        M        F        P        S        T        W        Y        V\n",
      " 1 A    0.892   0.0208  -1.3507  -1.3722  -0.6984  -0.6075  -0.8444  -0.2322  -0.7112   0.2124   0.0923   0.0387   0.5677   0.6271  -0.9178    0.659  -0.2037  -0.6204   0.7133   0.5057\n",
      " 2 A  -0.5482  -2.7274  -3.2548  -2.8503  -0.6856  -1.6398  -2.3204  -2.5016  -3.0955   1.0746   3.5851  -1.9965   2.1613  -0.2288  -3.2982  -1.6106  -0.0476  -2.6603  -1.1592   0.6709\n",
      " 3 A  -0.1166  -0.5277   0.3618   0.9364  -0.2533  -0.6813  -0.9469   0.3371   0.6811  -0.7243  -0.2846  -0.9304   0.1852   0.3262    0.624  -0.0003  -0.0853   2.1174   0.9275   -0.329\n",
      " 4 A   -0.088  -0.2825  -0.6485   1.4619   -1.189   0.3638   0.5423   1.1447  -0.5074  -0.4884  -1.1798  -0.2064  -0.9622  -1.1056   1.7528   0.3107  -0.0102   0.9596  -2.2459  -0.6885\n",
      " 5 A  -0.7633  -0.2185  -0.1524   -0.753  -1.2315   0.0801  -0.0375   1.3699   0.7431   -0.925  -0.5438  -0.6069  -0.7998   0.6442   1.3423  -0.6783  -0.1958   1.5684   0.7723   0.2081\n",
      " 6 A   0.0316  -0.6829  -0.7644  -1.3004   0.1561  -0.4483  -0.5846  -0.5101  -0.2401   0.8285   0.2469  -1.0129   0.3927   0.9761  -0.5536  -0.0632   0.3941   0.4747   0.1404   0.9225\n",
      " 7 A   0.4268  -1.1369  -0.0298   -0.776   0.3017   0.0584  -0.6743  -0.8488   0.9744  -0.0827   0.1746  -1.5013   0.7022    0.687   1.2822   0.2432  -0.2288   2.1067   0.1842  -0.1933\n",
      " 8 A  -0.6692   0.5796  -0.3165  -0.9736  -1.1345   0.6071   0.4082  -0.6192   0.2773  -0.3111   0.2089  -0.3272  -0.0099   0.0872   0.2931   0.7302   0.8211  -0.2414   0.6817  -0.5632\n",
      " 9 A   -0.057  -1.7415  -2.8634  -2.3988   0.2411  -0.5797  -1.4027  -2.4366  -1.1713   1.3355   1.8216  -1.4832   0.3165  -0.3369   -3.078  -0.7649  -0.3557  -2.8592  -0.8901   2.7968\n"
     ]
    }
   ],
   "source": [
    "to_psi_blast(w_matrix)"
   ]
  },
  {
   "cell_type": "markdown",
   "metadata": {},
   "source": [
    "### convert w_matrix to PSI-BLAST format and print to file"
   ]
  },
  {
   "cell_type": "code",
   "execution_count": 18,
   "metadata": {},
   "outputs": [],
   "source": [
    "# Write out PSSM in Psi-Blast format to file\n",
    "file_name = \"w_matrix_test\"\n",
    "to_psi_blast_file(w_matrix, file_name)"
   ]
  },
  {
   "cell_type": "markdown",
   "metadata": {
    "colab_type": "text",
    "id": "Xuwll400Pjm5"
   },
   "source": [
    "## Evaluation"
   ]
  },
  {
   "cell_type": "code",
   "execution_count": 19,
   "metadata": {
    "colab": {
     "base_uri": "https://localhost:8080/",
     "height": 68
    },
    "colab_type": "code",
    "id": "OZBCLTBYPmMe",
    "outputId": "bfba3092-e311-4994-d1ef-0ad8b0349928"
   },
   "outputs": [
    {
     "data": {
      "text/plain": [
       "(array(['ILYQVPFSV', 'VVMGTLVAL', 'ILDEAYVMA', ..., 'FARGVVHVI',\n",
       "        'LQRELTRLQ', 'AVAEEMTKS'], dtype='<U9'),\n",
       " array([0.8532, 0.5891, 0.4941, ..., 0.    , 0.    , 0.    ]))"
      ]
     },
     "execution_count": 19,
     "metadata": {},
     "output_type": "execute_result"
    }
   ],
   "source": [
    "#evaluation_file = \"https://raw.githubusercontent.com/brunoalvarez89/data/master/algorithms_in_bioinformatics/part_2/A0201.eval\"\n",
    "evaluation_file = data_dir + \"PSSM/A0201.eval\"\n",
    "#evaluation_file = evaluation_upload.values()\n",
    "\n",
    "evaluation = np.loadtxt(evaluation_file, dtype=str).reshape(-1,2)\n",
    "evaluation_peptides = evaluation[:, 0]\n",
    "evaluation_targets = evaluation[:, 1].astype(float)\n",
    "\n",
    "evaluation_peptides, evaluation_targets"
   ]
  },
  {
   "cell_type": "code",
   "execution_count": 20,
   "metadata": {
    "colab": {},
    "colab_type": "code",
    "id": "Njta0t9wS5kO"
   },
   "outputs": [],
   "source": [
    "def score_peptide(peptide, matrix):\n",
    "    acum = 0\n",
    "    for i in range(0, len(peptide)):\n",
    "        acum += matrix[i][peptide[i]]\n",
    "    return acum"
   ]
  },
  {
   "cell_type": "code",
   "execution_count": 21,
   "metadata": {
    "colab": {},
    "colab_type": "code",
    "id": "YnAe6LkyS-Qe"
   },
   "outputs": [],
   "source": [
    "evaluation_predictions = []\n",
    "for evaluation_peptide in evaluation_peptides:\n",
    "    evaluation_predictions.append(score_peptide(evaluation_peptide, w_matrix))"
   ]
  },
  {
   "cell_type": "code",
   "execution_count": 22,
   "metadata": {
    "colab": {
     "base_uri": "https://localhost:8080/",
     "height": 286
    },
    "colab_type": "code",
    "id": "xeUULRXYVIX1",
    "outputId": "97bae152-0741-4ee6-9fdf-67059be33bbc"
   },
   "outputs": [
    {
     "name": "stdout",
     "output_type": "stream",
     "text": [
      "PCC:  0.7014815027715359\n"
     ]
    },
    {
     "data": {
      "image/png": "[encoded data removed]",
      "text/plain": [
       "<Figure size 432x288 with 1 Axes>"
      ]
     },
     "metadata": {
      "needs_background": "light"
     },
     "output_type": "display_data"
    }
   ],
   "source": [
    "from scipy.stats import pearsonr\n",
    "import matplotlib.pyplot as plt\n",
    "\n",
    "pcc = pearsonr(evaluation_targets, evaluation_predictions)\n",
    "print(\"PCC: \", pcc[0])\n",
    "\n",
    "plt.scatter(evaluation_targets, evaluation_predictions);"
   ]
  },
  {
   "cell_type": "code",
   "execution_count": null,
   "metadata": {},
   "outputs": [],
   "source": []
  }
 ],
 "metadata": {
  "colab": {
   "collapsed_sections": [
    "oHpKnFRecRJ4",
    "It2omxrc3vOc",
    "YShNF4YPxtfn"
   ],
   "name": "pep2mat.ipynb",
   "provenance": [],
   "version": "0.3.2"
  },
  "kernelspec": {
   "display_name": "Python 3",
   "language": "python",
   "name": "python3"
  },
  "language_info": {
   "codemirror_mode": {
    "name": "ipython",
    "version": 3
   },
   "file_extension": ".py",
   "mimetype": "text/x-python",
   "name": "python",
   "nbconvert_exporter": "python",
   "pygments_lexer": "ipython3",
   "version": "3.9.5"
  }
 },
 "nbformat": 4,
 "nbformat_minor": 1
}
