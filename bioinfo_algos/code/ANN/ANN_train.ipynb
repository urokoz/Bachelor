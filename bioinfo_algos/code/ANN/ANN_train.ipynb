{
 "cells": [
  {
   "cell_type": "markdown",
   "metadata": {
    "colab_type": "text",
    "id": "RTK1nItb69_J"
   },
   "source": [
    "# Neural Networks\n",
    "\n",
    "### Fill out the parts with XXX's"
   ]
  },
  {
   "cell_type": "markdown",
   "metadata": {
    "colab_type": "text",
    "id": "GtI1xFfVEhMn"
   },
   "source": [
    "## Python Imports"
   ]
  },
  {
   "cell_type": "code",
   "execution_count": 1,
   "metadata": {
    "colab": {},
    "colab_type": "code",
    "id": "FS1w6JnSoC_P"
   },
   "outputs": [],
   "source": [
    "import numpy as np\n",
    "import matplotlib.pyplot as plt\n",
    "from scipy.stats import pearsonr\n",
    "\n",
    "%matplotlib inline  "
   ]
  },
  {
   "cell_type": "markdown",
   "metadata": {
    "colab_type": "text",
    "id": "gebtcRWKgJmw"
   },
   "source": [
    "## Data Imports"
   ]
  },
  {
   "cell_type": "markdown",
   "metadata": {
    "colab_type": "text",
    "id": "Yds3ozYytl8j"
   },
   "source": [
    "## DEFINE THE PATH TO YOUR COURSE DIRECTORY"
   ]
  },
  {
   "cell_type": "code",
   "execution_count": 2,
   "metadata": {
    "colab": {},
    "colab_type": "code",
    "id": "GhoWNOG7tl8k"
   },
   "outputs": [],
   "source": [
    "data_dir = \"/home/mathias/bioinfo_algos/data/\""
   ]
  },
  {
   "cell_type": "markdown",
   "metadata": {},
   "source": [
    "### Define run time parameters"
   ]
  },
  {
   "cell_type": "code",
   "execution_count": 30,
   "metadata": {},
   "outputs": [],
   "source": [
    "# Define if we are using blosum or sparse encoding\n",
    "blosum_scheme = False\n",
    "# blosum_scheme = True"
   ]
  },
  {
   "cell_type": "markdown",
   "metadata": {
    "colab_type": "text",
    "id": "IhPjK1U6NUNE"
   },
   "source": [
    "### Alphabet"
   ]
  },
  {
   "cell_type": "code",
   "execution_count": 4,
   "metadata": {
    "colab": {},
    "colab_type": "code",
    "id": "22EsO9nHhUSn"
   },
   "outputs": [],
   "source": [
    "alphabet_file = data_dir + \"Matrices/alphabet\"\n",
    "#alphabet_file = \"https://raw.githubusercontent.com/brunoalvarez89/data/master/algorithms_in_bioinformatics/part_3/alphabet\"\n",
    "\n",
    "alphabet = np.loadtxt(alphabet_file, dtype=str)"
   ]
  },
  {
   "cell_type": "markdown",
   "metadata": {
    "colab_type": "text",
    "id": "6vAARkOhNaIR"
   },
   "source": [
    "### Blosum50 Encoding Scheme"
   ]
  },
  {
   "cell_type": "code",
   "execution_count": 6,
   "metadata": {
    "colab": {},
    "colab_type": "code",
    "id": "IX7KtVV9Is60"
   },
   "outputs": [],
   "source": [
    "blosum_file = data_dir + \"Matrices/BLOSUM50\"\n",
    "#blosum_file = \"https://raw.githubusercontent.com/brunoalvarez89/data/master/algorithms_in_bioinformatics/part_3/blosum50\"\n",
    "\n",
    "_blosum50 = np.loadtxt(blosum_file, dtype=float).reshape((24, -1)).T\n",
    "\n",
    "blosum50 = {}\n",
    "\n",
    "for i, letter_1 in enumerate(alphabet):\n",
    "    \n",
    "    blosum50[letter_1] = {}\n",
    "\n",
    "    for j, letter_2 in enumerate(alphabet):\n",
    "        \n",
    "        blosum50[letter_1][letter_2] = _blosum50[i, j] / 5.0"
   ]
  },
  {
   "cell_type": "markdown",
   "metadata": {},
   "source": [
    "### Sparse Encoding Scheme"
   ]
  },
  {
   "cell_type": "code",
   "execution_count": 7,
   "metadata": {},
   "outputs": [],
   "source": [
    "sparse_file = data_dir + \"Matrices/sparse\"\n",
    "_sparse = np.loadtxt(sparse_file, dtype=float)\n",
    "sparse = {}\n",
    "\n",
    "for i, letter_1 in enumerate(alphabet):\n",
    "\n",
    "    sparse[letter_1] = {}\n",
    "\n",
    "    for j, letter_2 in enumerate(alphabet):\n",
    "\n",
    "        sparse[letter_1][letter_2] = _sparse[i, j]"
   ]
  },
  {
   "cell_type": "markdown",
   "metadata": {
    "colab_type": "text",
    "id": "Y3VVxOm7N7e2"
   },
   "source": [
    "## Peptide Encoding"
   ]
  },
  {
   "cell_type": "code",
   "execution_count": 8,
   "metadata": {
    "colab": {},
    "colab_type": "code",
    "id": "nbDC1pxDN6Zq"
   },
   "outputs": [],
   "source": [
    "def encode(peptides, encoding_scheme, alphabet):\n",
    "    \n",
    "    encoded_peptides = []\n",
    "\n",
    "    for peptide in peptides:\n",
    "\n",
    "        encoded_peptide = []\n",
    "\n",
    "        for peptide_letter in peptide:\n",
    "\n",
    "            for alphabet_letter in alphabet:\n",
    "\n",
    "                encoded_peptide.append(encoding_scheme[peptide_letter][alphabet_letter])\n",
    "        \n",
    "        # add a 1 (bias)\n",
    "        encoded_peptide.append(1)\n",
    "        \n",
    "        # store peptide\n",
    "        encoded_peptides.append(encoded_peptide)\n",
    "        \n",
    "    return np.array(encoded_peptides)"
   ]
  },
  {
   "cell_type": "markdown",
   "metadata": {
    "colab_type": "text",
    "id": "fthOCEHqgRNl"
   },
   "source": [
    "## Neural Network Functions"
   ]
  },
  {
   "cell_type": "markdown",
   "metadata": {
    "colab_type": "text",
    "id": "wxMTWx41gLTN"
   },
   "source": [
    "### Error (RMS)"
   ]
  },
  {
   "cell_type": "code",
   "execution_count": 9,
   "metadata": {
    "colab": {},
    "colab_type": "code",
    "id": "LJPyml6agPb3"
   },
   "outputs": [],
   "source": [
    "def error(y, y_pred):\n",
    "    return 0.5*(y_pred - y)**2"
   ]
  },
  {
   "cell_type": "markdown",
   "metadata": {
    "colab_type": "text",
    "id": "F1Zisf3mgVkZ"
   },
   "source": [
    "### Activation (Sigmoid)"
   ]
  },
  {
   "cell_type": "code",
   "execution_count": 10,
   "metadata": {
    "colab": {},
    "colab_type": "code",
    "id": "D2VuJs8ugaiN"
   },
   "outputs": [],
   "source": [
    "def sigmoid(z):\n",
    "    return 1.0 / (1.0 + np.exp(-z))"
   ]
  },
  {
   "cell_type": "markdown",
   "metadata": {
    "colab_type": "text",
    "id": "5sDFPM3jgeeZ"
   },
   "source": [
    "### Derivative of Activation"
   ]
  },
  {
   "cell_type": "code",
   "execution_count": 11,
   "metadata": {
    "colab": {},
    "colab_type": "code",
    "id": "0piUuQ_ugjsw"
   },
   "outputs": [],
   "source": [
    "def sigmoid_prime(a):\n",
    "    return (1-a)*a"
   ]
  },
  {
   "cell_type": "markdown",
   "metadata": {
    "colab_type": "text",
    "id": "GJfPcRb1gmqr"
   },
   "source": [
    "### Forward Propagation"
   ]
  },
  {
   "cell_type": "code",
   "execution_count": 12,
   "metadata": {
    "colab": {},
    "colab_type": "code",
    "id": "5Pcp8_6JgzfP"
   },
   "outputs": [],
   "source": [
    "def forward(X, w1, w2):\n",
    "   \n",
    "    # get dimension, substracting the bias\n",
    "    input_layer_dim = w1.shape[0] - 1 \n",
    "    hidden_layer_dim = w2.shape[0] - 1\n",
    "    \n",
    "    ################\n",
    "    # hidden layer #\n",
    "    ################\n",
    "    \n",
    "    # activity of hidden layer\n",
    "    for j in range(hidden_layer_dim):\n",
    "        z = 0.0\n",
    "        for i in range(input_layer_dim+1):\n",
    "            z += X[0][i]* w1[i,j]\n",
    "        X[1][j] = sigmoid(z)\n",
    "    \n",
    "    ################\n",
    "    # output layer #\n",
    "    ################\n",
    "    \n",
    "    z = 0\n",
    "    for i in range(hidden_layer_dim+1):\n",
    "        z += X[1][i]*w2[i,0]\n",
    "    X[2][0] = sigmoid(z)"
   ]
  },
  {
   "cell_type": "markdown",
   "metadata": {
    "colab_type": "text",
    "id": "UG11EsKhg133"
   },
   "source": [
    "### Back Propagation (Gradient Descent)"
   ]
  },
  {
   "cell_type": "code",
   "execution_count": 22,
   "metadata": {
    "colab": {},
    "colab_type": "code",
    "id": "Z5266L34oC_T"
   },
   "outputs": [],
   "source": [
    "def back_prop(X, t, w_h, w_o, dj_dw_h, dj_dw_o):\n",
    "    \n",
    "    # dj_dw_h are the derivativs with respect to the weights\n",
    "    # connecting the input to the hidden layer\n",
    "    # dj_dw_o are the derivatics with respect to the weights\n",
    "    # connecting the hidden to the outout layer\n",
    "\n",
    "    # get dimension, substracting the bias\n",
    "    input_layer_dim = w_h.shape[0] - 1 \n",
    "    hidden_layer_dim = w_o.shape[0] - 1\n",
    "    \n",
    "    ##############################################    \n",
    "    # derivative of cost function respect to w_o #\n",
    "    # Remember X[2][0] is the prediction value,\n",
    "    # And dj_dw_o = dE/dw = dE/dO * dO/do * do/dw\n",
    "    ##############################################\n",
    "    \n",
    "    delta = (X[2][0] - t) * X[2][0]*(1-X[2][0])\n",
    "    \n",
    "    for i in range(hidden_layer_dim+1):\n",
    "        \n",
    "        dj_dw_o[i] = delta * X[1][i]\n",
    "    \n",
    "    ##############################################\n",
    "    # derivative of cost function respect to w_h #\n",
    "    # Remember dj_dw_h = dE/dv where v are the weight connecting\n",
    "    # the input to the hidden layer, and\n",
    "    # dE/dv = dE/dO * dO/do * do/dH * dH/dh * dh/dv\n",
    "    # where H is the output from hidden neuron j, and v is the\n",
    "    # weight connecting input neuron i to hidden neuron j\n",
    "    ##############################################\n",
    "    \n",
    "    for j in range(hidden_layer_dim):\n",
    "\n",
    "        delta2 = delta * X[1][j]*(1-X[1][j]) * w_o[j] \n",
    "        \n",
    "        for i in range (input_layer_dim+1): # +1 to include the input layer bias\n",
    "\n",
    "            dj_dw_h[i, j] = delta2 * X[0][i]\n"
   ]
  },
  {
   "cell_type": "markdown",
   "metadata": {
    "colab_type": "text",
    "id": "aiGARmlIyK8h"
   },
   "source": [
    "### Save network to file"
   ]
  },
  {
   "cell_type": "code",
   "execution_count": 23,
   "metadata": {
    "colab": {},
    "colab_type": "code",
    "id": "FB-ljT8H8kZ7"
   },
   "outputs": [],
   "source": [
    "def save_network(file_name, w_h, w_o, lpcc, lerr, tpcc, terr, epochs):\n",
    "    \n",
    "    input_layer_dim = w_h.shape[0]\n",
    "    hidden_layer_dim = w_o.shape[0]\n",
    "    output_layer_dim = w_o.shape[1]\n",
    "\n",
    "    with open(file_name, 'w') as file:\n",
    "\n",
    "        \n",
    "        # run data\n",
    "        file.write(\"TESTRUNID\")\n",
    "        file.write(\" EPOCH: \" + str(epochs))\n",
    "        file.write(\" L_PCC: \" + str(lpcc))\n",
    "        file.write(\" L_ERR: \" + str(lerr))\n",
    "        file.write(\" T_PCC: \" + str(tpcc))\n",
    "        file.write(\" T_ERR: \" + str(terr))\n",
    "        file.write(\"\\n\")\n",
    "\n",
    "        # LAYER: 1 \n",
    "        file.write(str(input_layer_dim-1) + \" LAYER: 1\")\n",
    "        file.write(\"\\n\")\n",
    "\n",
    "        # LAYER: 2 \n",
    "        file.write(str(hidden_layer_dim-1) + \" LAYER: 2\")\n",
    "        file.write(\"\\n\")\n",
    "\n",
    "        # LAYER: 3\n",
    "        file.write(str(output_layer_dim) + \" LAYER: 3\")\n",
    "        file.write(\"\\n\")\n",
    "\n",
    "        # number of training cycles\n",
    "        # :ILEARN \n",
    "        file.write(str(epochs) + \" :ILEARN\")\n",
    "        file.write(\"\\n\")\n",
    "        \n",
    "        # network weights (five per line)\n",
    "        weights = [w_h, w_o]\n",
    "        \n",
    "        cnt = 0\n",
    "\n",
    "        for w in weights:\n",
    "\n",
    "            w = w.flatten()\n",
    "\n",
    "            for i in range(0, len(w)):\n",
    "\n",
    "                file.write(str(w[i]) + str(\"\\t\"))\n",
    "                \n",
    "                cnt += 1\n",
    "                \n",
    "                if cnt == 5:\n",
    "                    file.write(\"\\n\")\n",
    "                    cnt = 0\n",
    "                    \n",
    "        if cnt != 0:\n",
    "            file.write(\"\\n\")\n",
    "            \n",
    "            "
   ]
  },
  {
   "cell_type": "markdown",
   "metadata": {
    "colab_type": "text",
    "id": "wYKCvNimhKGN"
   },
   "source": [
    "## Network Architecture (Feed Forward)"
   ]
  },
  {
   "cell_type": "code",
   "execution_count": 24,
   "metadata": {
    "colab": {},
    "colab_type": "code",
    "id": "16VBk02qoC_Z"
   },
   "outputs": [],
   "source": [
    "def feed_forward_network(input_layer_dim, hidden_layer_dim, output_layer_dim):\n",
    "    \n",
    "    # layer dimensions\n",
    "    i_dim = input_layer_dim      # vector of shape (i_dim,) \n",
    "    h_dim = hidden_layer_dim     # matrix of shape (i_dim, h_dim)\n",
    "    o_dim = output_layer_dim     # matrix of shape (h_dim, o_dim)\n",
    "    \n",
    "    # hidden layer weights\n",
    "    # w_h[i, j] is the weight that links input's feature \"i\" to neuron \"j\" of the hidden layer\n",
    "    w_h = np.random.uniform(-0.1, 0.1, size=(i_dim+1)*h_dim).reshape(i_dim+1, h_dim)\n",
    "        \n",
    "    # output layer weights\n",
    "    # w_o[i, j] is the weight that links hidden layer's neuron \"i\" to neuron \"j\" of the output layer\n",
    "    # since we only have one output neuron, j = 1, and w_o behaves as a vector, not a matrix\n",
    "    w_o = np.random.uniform(-0.1, 0.1, size=(h_dim+1)*o_dim).reshape(h_dim+1, o_dim)\n",
    "    \n",
    "    # X matrix, X stores the output from each layer\n",
    "    X_dim = max(i_dim, h_dim, o_dim)\n",
    "    X = np.zeros(shape=(3, X_dim+1))\n",
    "    \n",
    "    # The last column of the X layer is one, to deal with the bias\n",
    "    X[0][input_layer_dim] = 1.0 \n",
    "    X[1][hidden_layer_dim] = 1.0\n",
    "    \n",
    "    # print network summary\n",
    "    print(\"NETWORK SUMMARY\")\n",
    "    print(\"---------------\" )\n",
    "    print(\"Input Layer shape:\", (1, input_layer_dim))\n",
    "    print(\"Hidden Layer shape:\", w_h.shape)\n",
    "    print(\"Output layer shape:\", w_o.shape)\n",
    "    print(\"Total parameters:\", (i_dim+1)*h_dim + (h_dim+1)*o_dim)\n",
    "    print(\"\")\n",
    "    \n",
    "    # return everything\n",
    "    return w_h, w_o, X"
   ]
  },
  {
   "cell_type": "markdown",
   "metadata": {
    "colab_type": "text",
    "id": "4hypMLZF7qgO"
   },
   "source": [
    "## Training Data"
   ]
  },
  {
   "cell_type": "code",
   "execution_count": 25,
   "metadata": {
    "colab": {},
    "colab_type": "code",
    "id": "tm9hz3I07rw2"
   },
   "outputs": [],
   "source": [
    "training_file = data_dir + \"ANN/A2403_training\"\n",
    "#training_file = data_dir + \"ANN/A0201_training\"\n",
    "training_data = np.loadtxt(training_file, dtype=str)\n",
    "\n",
    "peptides = training_data[:, 0]\n",
    "\n",
    "if blosum_scheme:\n",
    "    x_train = encode(peptides, blosum50, alphabet)\n",
    "else:\n",
    "    x_train = encode(peptides, sparse, alphabet)\n",
    "\n",
    "y_train = np.array(training_data[:, 1], dtype=float)"
   ]
  },
  {
   "cell_type": "markdown",
   "metadata": {
    "colab_type": "text",
    "id": "Wvd-bHF07r8y"
   },
   "source": [
    "## Evaluation Data"
   ]
  },
  {
   "cell_type": "code",
   "execution_count": 26,
   "metadata": {
    "colab": {},
    "colab_type": "code",
    "id": "IWqavwaU7s10"
   },
   "outputs": [],
   "source": [
    "evaluation_file = data_dir + \"ANN/A2403_evaluation\"\n",
    "#evaluation_file = data_dir + \"ANN/A0201_evaluation\"\n",
    "evaluation_data = np.loadtxt(evaluation_file, dtype=str)\n",
    "\n",
    "peptides = evaluation_data[:, 0]\n",
    "if blosum_scheme:\n",
    "    x_eval = encode(peptides, blosum50, alphabet)\n",
    "else:\n",
    "    x_eval = encode(peptides, sparse, alphabet)\n",
    "\n",
    "y_eval = np.array(evaluation_data[:, 1], dtype=float)"
   ]
  },
  {
   "cell_type": "markdown",
   "metadata": {
    "colab_type": "text",
    "id": "eYQR6p06Up8h"
   },
   "source": [
    "## Train Network"
   ]
  },
  {
   "cell_type": "code",
   "execution_count": 31,
   "metadata": {
    "colab": {
     "base_uri": "https://localhost:8080/",
     "height": 2686
    },
    "colab_type": "code",
    "id": "N0NbseaEoC_e",
    "outputId": "86a68421-5194-4efe-959b-9b17cecba970",
    "scrolled": false
   },
   "outputs": [
    {
     "name": "stdout",
     "output_type": "stream",
     "text": [
      "NETWORK SUMMARY\n",
      "---------------\n",
      "Input Layer shape: (1, 180)\n",
      "Hidden Layer shape: (181, 5)\n",
      "Output layer shape: (6, 1)\n",
      "Total parameters: 911\n",
      "\n",
      "# Dump network 0 Best MSE 0.02852328053936961 PCC 0.058395854603919606\n",
      "[1, 100] Train Error: 0.0423 | Train Perf: 0.1374 | Eval Error: 0.0285 | Eval Perf: 0.0584\n",
      "# Dump network 1 Best MSE 0.02528131859916148 PCC 0.15928564388465202\n",
      "[2, 100] Train Error: 0.029 | Train Perf: 0.084 | Eval Error: 0.0253 | Eval Perf: 0.1593\n",
      "# Dump network 2 Best MSE 0.024703135327260085 PCC 0.23358325204391073\n",
      "[3, 100] Train Error: 0.0276 | Train Perf: 0.1798 | Eval Error: 0.0247 | Eval Perf: 0.2336\n",
      "# Dump network 3 Best MSE 0.02435770747000116 PCC 0.2876709325237107\n",
      "[4, 100] Train Error: 0.027 | Train Perf: 0.3415 | Eval Error: 0.0244 | Eval Perf: 0.2877\n",
      "# Dump network 4 Best MSE 0.0241149125418918 PCC 0.3250368420207795\n",
      "[5, 100] Train Error: 0.0265 | Train Perf: 0.4332 | Eval Error: 0.0241 | Eval Perf: 0.325\n",
      "# Dump network 5 Best MSE 0.023901047208426337 PCC 0.35139037471886064\n",
      "[6, 100] Train Error: 0.026 | Train Perf: 0.4994 | Eval Error: 0.0239 | Eval Perf: 0.3514\n",
      "# Dump network 6 Best MSE 0.023669264955495876 PCC 0.37102510490987245\n",
      "[7, 100] Train Error: 0.0255 | Train Perf: 0.5407 | Eval Error: 0.0237 | Eval Perf: 0.371\n",
      "# Dump network 7 Best MSE 0.023441729159639144 PCC 0.38660475307269365\n",
      "[8, 100] Train Error: 0.025 | Train Perf: 0.5619 | Eval Error: 0.0234 | Eval Perf: 0.3866\n",
      "# Dump network 8 Best MSE 0.02321526764291385 PCC 0.39856193815878393\n",
      "[9, 100] Train Error: 0.0245 | Train Perf: 0.5898 | Eval Error: 0.0232 | Eval Perf: 0.3986\n",
      "# Dump network 9 Best MSE 0.02298481781175527 PCC 0.40940298374508327\n",
      "[10, 100] Train Error: 0.024 | Train Perf: 0.6022 | Eval Error: 0.023 | Eval Perf: 0.4094\n",
      "# Dump network 10 Best MSE 0.0227546369690403 PCC 0.41964598791375946\n",
      "[11, 100] Train Error: 0.0235 | Train Perf: 0.6175 | Eval Error: 0.0228 | Eval Perf: 0.4196\n",
      "# Dump network 11 Best MSE 0.022540102621733782 PCC 0.42892138964303295\n",
      "[12, 100] Train Error: 0.0229 | Train Perf: 0.6229 | Eval Error: 0.0225 | Eval Perf: 0.4289\n",
      "# Dump network 12 Best MSE 0.022280699087967797 PCC 0.4357302289799997\n",
      "[13, 100] Train Error: 0.0224 | Train Perf: 0.6436 | Eval Error: 0.0223 | Eval Perf: 0.4357\n",
      "# Dump network 13 Best MSE 0.02205045733814605 PCC 0.4441381112770659\n",
      "[14, 100] Train Error: 0.0219 | Train Perf: 0.6423 | Eval Error: 0.0221 | Eval Perf: 0.4441\n",
      "# Dump network 14 Best MSE 0.021851755274190667 PCC 0.4533596207879623\n",
      "[15, 100] Train Error: 0.0214 | Train Perf: 0.6512 | Eval Error: 0.0219 | Eval Perf: 0.4534\n",
      "# Dump network 15 Best MSE 0.02164898339417474 PCC 0.4619475737885873\n",
      "[16, 100] Train Error: 0.0209 | Train Perf: 0.6567 | Eval Error: 0.0216 | Eval Perf: 0.4619\n",
      "# Dump network 16 Best MSE 0.021412206571065222 PCC 0.4697068021077094\n",
      "[17, 100] Train Error: 0.0205 | Train Perf: 0.6654 | Eval Error: 0.0214 | Eval Perf: 0.4697\n",
      "# Dump network 17 Best MSE 0.02114221314937038 PCC 0.4762612427059421\n",
      "[18, 100] Train Error: 0.02 | Train Perf: 0.6756 | Eval Error: 0.0211 | Eval Perf: 0.4763\n",
      "# Dump network 18 Best MSE 0.020928864828121917 PCC 0.4845484722314204\n",
      "[19, 100] Train Error: 0.0195 | Train Perf: 0.678 | Eval Error: 0.0209 | Eval Perf: 0.4845\n",
      "# Dump network 19 Best MSE 0.020716105636329016 PCC 0.49247287766803205\n",
      "[20, 100] Train Error: 0.0191 | Train Perf: 0.6822 | Eval Error: 0.0207 | Eval Perf: 0.4925\n",
      "# Dump network 20 Best MSE 0.020503385295272018 PCC 0.5000148258010575\n",
      "[21, 100] Train Error: 0.0186 | Train Perf: 0.6921 | Eval Error: 0.0205 | Eval Perf: 0.5\n",
      "# Dump network 21 Best MSE 0.020269435894920727 PCC 0.5074911300176959\n",
      "[22, 100] Train Error: 0.0182 | Train Perf: 0.6962 | Eval Error: 0.0203 | Eval Perf: 0.5075\n",
      "# Dump network 22 Best MSE 0.02007666738639237 PCC 0.5156839101187444\n",
      "[23, 100] Train Error: 0.0178 | Train Perf: 0.7043 | Eval Error: 0.0201 | Eval Perf: 0.5157\n",
      "# Dump network 23 Best MSE 0.019904756227679343 PCC 0.523874663136851\n",
      "[24, 100] Train Error: 0.0174 | Train Perf: 0.7093 | Eval Error: 0.0199 | Eval Perf: 0.5239\n",
      "# Dump network 24 Best MSE 0.019637780445065235 PCC 0.5299424688305232\n",
      "[25, 100] Train Error: 0.0169 | Train Perf: 0.7213 | Eval Error: 0.0196 | Eval Perf: 0.5299\n",
      "# Dump network 25 Best MSE 0.019444643349840186 PCC 0.5377114615691225\n",
      "[26, 100] Train Error: 0.0166 | Train Perf: 0.7225 | Eval Error: 0.0194 | Eval Perf: 0.5377\n",
      "# Dump network 26 Best MSE 0.01925483639246511 PCC 0.5453945558445659\n",
      "[27, 100] Train Error: 0.0162 | Train Perf: 0.7283 | Eval Error: 0.0193 | Eval Perf: 0.5454\n",
      "# Dump network 27 Best MSE 0.0191351571700317 PCC 0.5537558786694893\n",
      "[28, 100] Train Error: 0.0158 | Train Perf: 0.7323 | Eval Error: 0.0191 | Eval Perf: 0.5538\n",
      "# Dump network 28 Best MSE 0.01899828480028409 PCC 0.5618305558137611\n",
      "[29, 100] Train Error: 0.0154 | Train Perf: 0.7394 | Eval Error: 0.019 | Eval Perf: 0.5618\n",
      "# Dump network 29 Best MSE 0.018827833106086236 PCC 0.5689092745401819\n",
      "[30, 100] Train Error: 0.0151 | Train Perf: 0.7461 | Eval Error: 0.0188 | Eval Perf: 0.5689\n",
      "# Dump network 30 Best MSE 0.018752924482195364 PCC 0.5775472048360364\n",
      "[31, 100] Train Error: 0.0147 | Train Perf: 0.7492 | Eval Error: 0.0188 | Eval Perf: 0.5775\n",
      "# Dump network 31 Best MSE 0.018471861367613883 PCC 0.582100117451498\n",
      "[32, 100] Train Error: 0.0144 | Train Perf: 0.7638 | Eval Error: 0.0185 | Eval Perf: 0.5821\n",
      "# Dump network 32 Best MSE 0.01824093884129155 PCC 0.5876463679946898\n",
      "[33, 100] Train Error: 0.014 | Train Perf: 0.7668 | Eval Error: 0.0182 | Eval Perf: 0.5876\n",
      "# Dump network 33 Best MSE 0.01821788627998641 PCC 0.5960474867024798\n",
      "[34, 100] Train Error: 0.0137 | Train Perf: 0.7651 | Eval Error: 0.0182 | Eval Perf: 0.596\n",
      "# Dump network 34 Best MSE 0.017990666348297022 PCC 0.6010450286732516\n",
      "[35, 100] Train Error: 0.0134 | Train Perf: 0.7764 | Eval Error: 0.018 | Eval Perf: 0.601\n",
      "# Dump network 35 Best MSE 0.01793466674918758 PCC 0.6084508033783729\n",
      "[36, 100] Train Error: 0.0131 | Train Perf: 0.7775 | Eval Error: 0.0179 | Eval Perf: 0.6085\n",
      "# Dump network 36 Best MSE 0.017736250877056037 PCC 0.6135052994722108\n",
      "[37, 100] Train Error: 0.0128 | Train Perf: 0.786 | Eval Error: 0.0177 | Eval Perf: 0.6135\n",
      "# Dump network 37 Best MSE 0.017713538145113936 PCC 0.6204636935616283\n",
      "[38, 100] Train Error: 0.0125 | Train Perf: 0.7865 | Eval Error: 0.0177 | Eval Perf: 0.6205\n",
      "# Dump network 38 Best MSE 0.017616662946578397 PCC 0.6271071438755552\n",
      "[39, 100] Train Error: 0.0122 | Train Perf: 0.7924 | Eval Error: 0.0176 | Eval Perf: 0.6271\n",
      "# Dump network 39 Best MSE 0.017568860176688527 PCC 0.6331872433390132\n",
      "[40, 100] Train Error: 0.0119 | Train Perf: 0.7974 | Eval Error: 0.0176 | Eval Perf: 0.6332\n",
      "# Dump network 40 Best MSE 0.017332382439920736 PCC 0.637126774638339\n",
      "[41, 100] Train Error: 0.0117 | Train Perf: 0.8043 | Eval Error: 0.0173 | Eval Perf: 0.6371\n",
      "# Dump network 41 Best MSE 0.01717663395629484 PCC 0.6419462997122916\n",
      "[42, 100] Train Error: 0.0114 | Train Perf: 0.8074 | Eval Error: 0.0172 | Eval Perf: 0.6419\n",
      "# Dump network 42 Best MSE 0.016821475200802013 PCC 0.643660048173979\n",
      "[43, 100] Train Error: 0.0111 | Train Perf: 0.8175 | Eval Error: 0.0168 | Eval Perf: 0.6437\n",
      "# Dump network 43 Best MSE 0.016619793491739115 PCC 0.6467442093829097\n",
      "[44, 100] Train Error: 0.0109 | Train Perf: 0.8183 | Eval Error: 0.0166 | Eval Perf: 0.6467\n",
      "[45, 100] Train Error: 0.0107 | Train Perf: 0.8165 | Eval Error: 0.0167 | Eval Perf: 0.654\n",
      "[46, 100] Train Error: 0.0105 | Train Perf: 0.8211 | Eval Error: 0.0166 | Eval Perf: 0.6598\n",
      "# Dump network 46 Best MSE 0.016524272699521277 PCC 0.6646449012969403\n",
      "[47, 100] Train Error: 0.0103 | Train Perf: 0.8263 | Eval Error: 0.0165 | Eval Perf: 0.6646\n",
      "# Dump network 47 Best MSE 0.016412485535887034 PCC 0.6692044365678033\n",
      "[48, 100] Train Error: 0.0101 | Train Perf: 0.8298 | Eval Error: 0.0164 | Eval Perf: 0.6692\n",
      "[49, 100] Train Error: 0.0099 | Train Perf: 0.8316 | Eval Error: 0.0164 | Eval Perf: 0.675\n",
      "# Dump network 49 Best MSE 0.01609596423042847 PCC 0.6766877728061028\n",
      "[50, 100] Train Error: 0.0096 | Train Perf: 0.8418 | Eval Error: 0.0161 | Eval Perf: 0.6767\n",
      "# Dump network 50 Best MSE 0.015947743830788078 PCC 0.6803633403339006\n",
      "[51, 100] Train Error: 0.0095 | Train Perf: 0.8414 | Eval Error: 0.0159 | Eval Perf: 0.6804\n",
      "[52, 100] Train Error: 0.0093 | Train Perf: 0.8399 | Eval Error: 0.016 | Eval Perf: 0.6872\n"
     ]
    },
    {
     "name": "stdout",
     "output_type": "stream",
     "text": [
      "[53, 100] Train Error: 0.0091 | Train Perf: 0.844 | Eval Error: 0.0161 | Eval Perf: 0.6931\n",
      "[54, 100] Train Error: 0.0089 | Train Perf: 0.8496 | Eval Error: 0.0159 | Eval Perf: 0.6968\n",
      "[55, 100] Train Error: 0.0088 | Train Perf: 0.8505 | Eval Error: 0.016 | Eval Perf: 0.702\n",
      "# Dump network 55 Best MSE 0.015684038210418295 PCC 0.704322308336256\n",
      "[56, 100] Train Error: 0.0086 | Train Perf: 0.857 | Eval Error: 0.0157 | Eval Perf: 0.7043\n",
      "[57, 100] Train Error: 0.0085 | Train Perf: 0.8557 | Eval Error: 0.0157 | Eval Perf: 0.7092\n",
      "# Dump network 57 Best MSE 0.015561561779303169 PCC 0.7125105583461595\n",
      "[58, 100] Train Error: 0.0083 | Train Perf: 0.8605 | Eval Error: 0.0156 | Eval Perf: 0.7125\n",
      "# Dump network 58 Best MSE 0.0155066573888776 PCC 0.7163698072970012\n",
      "[59, 100] Train Error: 0.0082 | Train Perf: 0.8625 | Eval Error: 0.0155 | Eval Perf: 0.7164\n",
      "[60, 100] Train Error: 0.008 | Train Perf: 0.8638 | Eval Error: 0.0156 | Eval Perf: 0.7212\n",
      "# Dump network 60 Best MSE 0.015283441644085493 PCC 0.7235477335035165\n",
      "[61, 100] Train Error: 0.0079 | Train Perf: 0.8699 | Eval Error: 0.0153 | Eval Perf: 0.7235\n",
      "[62, 100] Train Error: 0.0077 | Train Perf: 0.8678 | Eval Error: 0.0155 | Eval Perf: 0.7295\n",
      "[63, 100] Train Error: 0.0076 | Train Perf: 0.8723 | Eval Error: 0.0154 | Eval Perf: 0.7334\n",
      "# Dump network 63 Best MSE 0.015155490386696948 PCC 0.7355638155773678\n",
      "[64, 100] Train Error: 0.0075 | Train Perf: 0.8761 | Eval Error: 0.0152 | Eval Perf: 0.7356\n",
      "# Dump network 64 Best MSE 0.014994681661382712 PCC 0.7382975923050885\n",
      "[65, 100] Train Error: 0.0073 | Train Perf: 0.8777 | Eval Error: 0.015 | Eval Perf: 0.7383\n",
      "# Dump network 65 Best MSE 0.014844068879675605 PCC 0.7411581388355605\n",
      "[66, 100] Train Error: 0.0072 | Train Perf: 0.8795 | Eval Error: 0.0148 | Eval Perf: 0.7412\n",
      "# Dump network 66 Best MSE 0.014818952355274993 PCC 0.7450860174374218\n",
      "[67, 100] Train Error: 0.0071 | Train Perf: 0.8805 | Eval Error: 0.0148 | Eval Perf: 0.7451\n",
      "[68, 100] Train Error: 0.007 | Train Perf: 0.8814 | Eval Error: 0.0149 | Eval Perf: 0.7499\n",
      "# Dump network 68 Best MSE 0.014765700798267088 PCC 0.7526241072769007\n",
      "[69, 100] Train Error: 0.0069 | Train Perf: 0.8857 | Eval Error: 0.0148 | Eval Perf: 0.7526\n",
      "# Dump network 69 Best MSE 0.014563482223570446 PCC 0.7548264299283781\n",
      "[70, 100] Train Error: 0.0068 | Train Perf: 0.8884 | Eval Error: 0.0146 | Eval Perf: 0.7548\n",
      "# Dump network 70 Best MSE 0.014528402881526877 PCC 0.7581772162589524\n",
      "[71, 100] Train Error: 0.0067 | Train Perf: 0.8886 | Eval Error: 0.0145 | Eval Perf: 0.7582\n",
      "# Dump network 71 Best MSE 0.014438428786757322 PCC 0.7610035781509158\n",
      "[72, 100] Train Error: 0.0066 | Train Perf: 0.8909 | Eval Error: 0.0144 | Eval Perf: 0.761\n",
      "[73, 100] Train Error: 0.0064 | Train Perf: 0.8921 | Eval Error: 0.0145 | Eval Perf: 0.7645\n",
      "# Dump network 73 Best MSE 0.014365210325530392 PCC 0.7672906843551065\n",
      "[74, 100] Train Error: 0.0063 | Train Perf: 0.8944 | Eval Error: 0.0144 | Eval Perf: 0.7673\n",
      "# Dump network 74 Best MSE 0.014328189854360995 PCC 0.7698959480891264\n",
      "[75, 100] Train Error: 0.0062 | Train Perf: 0.8961 | Eval Error: 0.0143 | Eval Perf: 0.7699\n",
      "[76, 100] Train Error: 0.0062 | Train Perf: 0.8968 | Eval Error: 0.0144 | Eval Perf: 0.7736\n",
      "[77, 100] Train Error: 0.0061 | Train Perf: 0.8986 | Eval Error: 0.0145 | Eval Perf: 0.7769\n",
      "[78, 100] Train Error: 0.006 | Train Perf: 0.9015 | Eval Error: 0.0144 | Eval Perf: 0.7791\n",
      "# Dump network 78 Best MSE 0.014061214051109631 PCC 0.780402773392272\n",
      "[79, 100] Train Error: 0.0059 | Train Perf: 0.9049 | Eval Error: 0.0141 | Eval Perf: 0.7804\n",
      "# Dump network 79 Best MSE 0.014037166927248813 PCC 0.7829612794943509\n",
      "[80, 100] Train Error: 0.0058 | Train Perf: 0.9038 | Eval Error: 0.014 | Eval Perf: 0.783\n",
      "# Dump network 80 Best MSE 0.013808836418167396 PCC 0.7844313383748712\n",
      "[81, 100] Train Error: 0.0057 | Train Perf: 0.9069 | Eval Error: 0.0138 | Eval Perf: 0.7844\n",
      "# Dump network 81 Best MSE 0.013735274615854649 PCC 0.7864323284021484\n",
      "[82, 100] Train Error: 0.0056 | Train Perf: 0.9069 | Eval Error: 0.0137 | Eval Perf: 0.7864\n",
      "# Dump network 82 Best MSE 0.013590852159564713 PCC 0.7881239233057596\n",
      "[83, 100] Train Error: 0.0055 | Train Perf: 0.9091 | Eval Error: 0.0136 | Eval Perf: 0.7881\n",
      "[84, 100] Train Error: 0.0055 | Train Perf: 0.9089 | Eval Error: 0.0136 | Eval Perf: 0.7905\n",
      "[85, 100] Train Error: 0.0054 | Train Perf: 0.9096 | Eval Error: 0.0137 | Eval Perf: 0.7938\n",
      "[86, 100] Train Error: 0.0053 | Train Perf: 0.9128 | Eval Error: 0.0136 | Eval Perf: 0.7953\n",
      "[87, 100] Train Error: 0.0053 | Train Perf: 0.912 | Eval Error: 0.0137 | Eval Perf: 0.7984\n",
      "[88, 100] Train Error: 0.0052 | Train Perf: 0.9146 | Eval Error: 0.0137 | Eval Perf: 0.8003\n",
      "[89, 100] Train Error: 0.0051 | Train Perf: 0.9155 | Eval Error: 0.0136 | Eval Perf: 0.8021\n",
      "# Dump network 89 Best MSE 0.013486144585466753 PCC 0.8034463258101825\n",
      "[90, 100] Train Error: 0.0051 | Train Perf: 0.9174 | Eval Error: 0.0135 | Eval Perf: 0.8034\n",
      "# Dump network 90 Best MSE 0.013371720218122149 PCC 0.8050045028403422\n",
      "[91, 100] Train Error: 0.005 | Train Perf: 0.9182 | Eval Error: 0.0134 | Eval Perf: 0.805\n",
      "[92, 100] Train Error: 0.0049 | Train Perf: 0.9183 | Eval Error: 0.0135 | Eval Perf: 0.8071\n",
      "# Dump network 92 Best MSE 0.013269106855835593 PCC 0.8081482536260058\n",
      "[93, 100] Train Error: 0.0049 | Train Perf: 0.9211 | Eval Error: 0.0133 | Eval Perf: 0.8081\n",
      "# Dump network 93 Best MSE 0.013229829442787451 PCC 0.8098176671726677\n",
      "[94, 100] Train Error: 0.0048 | Train Perf: 0.9209 | Eval Error: 0.0132 | Eval Perf: 0.8098\n",
      "# Dump network 94 Best MSE 0.013211661840197463 PCC 0.8113001506569993\n",
      "[95, 100] Train Error: 0.0047 | Train Perf: 0.922 | Eval Error: 0.0132 | Eval Perf: 0.8113\n",
      "[96, 100] Train Error: 0.0047 | Train Perf: 0.922 | Eval Error: 0.0133 | Eval Perf: 0.8135\n",
      "[97, 100] Train Error: 0.0046 | Train Perf: 0.9237 | Eval Error: 0.0133 | Eval Perf: 0.8149\n",
      "# Dump network 97 Best MSE 0.013047714726428204 PCC 0.8155018890370915\n",
      "[98, 100] Train Error: 0.0046 | Train Perf: 0.9259 | Eval Error: 0.013 | Eval Perf: 0.8155\n",
      "# Dump network 98 Best MSE 0.01299506226725411 PCC 0.8168214014229165\n",
      "[99, 100] Train Error: 0.0045 | Train Perf: 0.9257 | Eval Error: 0.013 | Eval Perf: 0.8168\n",
      "# Dump network 99 Best MSE 0.012933960495063014 PCC 0.8178765054857687\n",
      "[100, 100] Train Error: 0.0045 | Train Perf: 0.9266 | Eval Error: 0.0129 | Eval Perf: 0.8179\n"
     ]
    }
   ],
   "source": [
    "# seed for this run\n",
    "np.random.seed(1)\n",
    "\n",
    "# create network\n",
    "input_layer_dim = 180\n",
    "hidden_layer_dim = 5\n",
    "output_layer_dim = 1\n",
    "\n",
    "w_h, w_o, X = feed_forward_network(input_layer_dim, hidden_layer_dim, output_layer_dim)\n",
    "\n",
    "# create backpropagation matrices\n",
    "dj_dw_h = np.zeros(shape=w_h.shape)\n",
    "dj_dw_o = np.zeros(shape=w_o.shape)\n",
    "\n",
    "\n",
    "# training epochs\n",
    "epochs = 100\n",
    "\n",
    "# learning rate\n",
    "epsilon = 0.05\n",
    "\n",
    "# data for plotting\n",
    "train_error = []\n",
    "train_perf = []\n",
    "eval_error = []\n",
    "eval_perf = []\n",
    "\n",
    "# early stopping\n",
    "early_stopping = True\n",
    "best_error = np.inf\n",
    "\n",
    "# define filename for synaps\n",
    "synfile_name = \"my_A2403_sp.syn\"\n",
    "\n",
    "#############\n",
    "# MAIN LOOP #\n",
    "#############\n",
    "\n",
    "# for each epoch\n",
    "for e in range(0, epochs):\n",
    "    \n",
    "    ############\n",
    "    # TRAINING #\n",
    "    ############\n",
    "    \n",
    "    train_error_acum = 0\n",
    "    y_preds_train = []\n",
    "    \n",
    "    # shuffle input\n",
    "    randomize = np.arange(len(x_train))\n",
    "    np.random.shuffle(randomize)\n",
    "    x_train, y_train = x_train[randomize], y_train[randomize]\n",
    "    \n",
    "    # loop\n",
    "    for i in range(0, len(x_train)):        \n",
    "        \n",
    "        # fetch training point\n",
    "        #x = x_train[i]\n",
    "        X[0] = x_train[i]\n",
    "        y = y_train[i]\n",
    "        \n",
    "        # forward propagation\n",
    "        #X = forward(X, w_h, w_o)\n",
    "        forward(X, w_h, w_o)\n",
    "        y_pred = X[2][0]\n",
    "        y_preds_train.append(y_pred)\n",
    "        \n",
    "        # back propagation\n",
    "        # dj_dw_h = dE/dv, v is weight between input and hidden layer\n",
    "        # dj_dw_o = dE/dw, wis weight between hidden and output layer\n",
    "        back_prop(X, y, w_h, w_o, dj_dw_h, dj_dw_o)\n",
    "        \n",
    "        # update weights & biases\n",
    "        w_h -= epsilon*dj_dw_h\n",
    "        w_o -= epsilon*dj_dw_o\n",
    "    \n",
    "        # store training error\n",
    "        train_error_acum += error(y, y_pred)\n",
    "\n",
    "    # store training performance\n",
    "    train_pcc = pearsonr(y_train, np.asarray(y_preds_train))[0]\n",
    "    train_perf.append(train_pcc)\n",
    "\n",
    "    # store mean training error\n",
    "    mean_train_error = train_error_acum/len(x_train)\n",
    "    train_error.append(mean_train_error)\n",
    "\n",
    "    ##############\n",
    "    # EVALUATION #\n",
    "    ##############\n",
    "    \n",
    "    eval_error_acum = 0\n",
    "    y_preds_eval = []\n",
    "    \n",
    "    # loop\n",
    "    for i in range(0, len(x_eval)):        \n",
    "        \n",
    "        # fetch training point\n",
    "        x = x_eval[i]\n",
    "        y = y_eval[i]\n",
    "        \n",
    "        X[0] = x\n",
    "        \n",
    "        # forward propagation\n",
    "        forward(X, w_h, w_o)\n",
    "        y_pred = X[2][0]\n",
    "        y_preds_eval.append(y_pred)\n",
    "        \n",
    "        # store evaluation error\n",
    "        eval_error_acum += error(y, y_pred)\n",
    "    \n",
    "    # store training performance\n",
    "    eval_pcc = pearsonr(y_eval, np.asarray(y_preds_eval))[0]\n",
    "    eval_perf.append(eval_pcc)\n",
    "    \n",
    "    # store mean evaluation error\n",
    "    mean_eval_error = eval_error_acum/len(x_eval)\n",
    "    eval_error.append(mean_eval_error)\n",
    "    \n",
    "    # early stopping\n",
    "    if early_stopping:\n",
    "        \n",
    "        if mean_eval_error < best_error:\n",
    "            \n",
    "            best_error = mean_eval_error\n",
    "            best_pcc = eval_pcc\n",
    "            \n",
    "            print(\"# Dump network\", e, \"Best MSE\", best_error, \"PCC\", eval_pcc)\n",
    "            \n",
    "            save_network(synfile_name, w_h, w_o, train_pcc, mean_train_error, best_pcc, best_error, e)         \n",
    "            \n",
    "    \n",
    "    # print\n",
    "    print([e+1,epochs], \\\n",
    "          \"Train Error:\", round(mean_train_error, 4), \"|\", \\\n",
    "          \"Train Perf:\", round(train_pcc, 4), \"|\", \\\n",
    "          \"Eval Error:\", round(mean_eval_error, 4), \"|\", \\\n",
    "          \"Eval Perf:\", round(eval_pcc, 4))\n",
    "         "
   ]
  },
  {
   "cell_type": "markdown",
   "metadata": {
    "colab_type": "text",
    "id": "A1q_7Jo9725c"
   },
   "source": [
    "### Performance Report"
   ]
  },
  {
   "cell_type": "code",
   "execution_count": 28,
   "metadata": {
    "colab": {
     "base_uri": "https://localhost:8080/",
     "height": 329
    },
    "colab_type": "code",
    "id": "ZDA4O42q4YRW",
    "outputId": "4505d46c-cd06-4776-a804-cfcd7c18e327"
   },
   "outputs": [
    {
     "data": {
      "image/png": "[encoded data removed]",
      "text/plain": [
       "<Figure size 1050x350 with 2 Axes>"
      ]
     },
     "metadata": {
      "needs_background": "light"
     },
     "output_type": "display_data"
    }
   ],
   "source": [
    "fig = plt.figure(figsize=(15, 5), dpi = 70)\n",
    "\n",
    "x = np.arange(0, epochs)\n",
    "\n",
    "# error subplot\n",
    "plt.subplot(1, 2, 1)\n",
    "plt.plot(x, train_error, label=\"Training Set\")\n",
    "plt.plot(x, eval_error, label=\"Evaluation Set\")\n",
    "plt.ylabel(\"Error\", fontsize=10);\n",
    "plt.xlabel(\"Epochs\", fontsize=10);\n",
    "plt.legend(loc='upper right');\n",
    "\n",
    "# performance subplot\n",
    "plt.subplot(1, 2, 2)\n",
    "plt.plot(x, train_perf, label=\"Training Set\")\n",
    "plt.plot(x, eval_perf, label=\"Evaluation Set\")\n",
    "plt.ylabel(\"Performance (PCC)\", fontsize=10);\n",
    "plt.xlabel(\"Epochs\", fontsize=10);\n",
    "plt.legend(loc='lower left');"
   ]
  },
  {
   "cell_type": "code",
   "execution_count": null,
   "metadata": {
    "collapsed": true
   },
   "outputs": [],
   "source": []
  }
 ],
 "metadata": {
  "colab": {
   "collapsed_sections": [],
   "name": "neural_networks_v8_MN.ipynb",
   "provenance": [],
   "version": "0.3.2"
  },
  "kernelspec": {
   "display_name": "Python 3",
   "language": "python",
   "name": "python3"
  },
  "language_info": {
   "codemirror_mode": {
    "name": "ipython",
    "version": 3
   },
   "file_extension": ".py",
   "mimetype": "text/x-python",
   "name": "python",
   "nbconvert_exporter": "python",
   "pygments_lexer": "ipython3",
   "version": "3.9.5"
  }
 },
 "nbformat": 4,
 "nbformat_minor": 1
}
