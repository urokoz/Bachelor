{
 "cells": [
  {
   "cell_type": "markdown",
   "metadata": {
    "colab_type": "text",
    "id": "RTK1nItb69_J"
   },
   "source": [
    "# Neural Networks\n",
    "\n",
    "### Fill out the parts with XXX's"
   ]
  },
  {
   "cell_type": "markdown",
   "metadata": {
    "colab_type": "text",
    "id": "GtI1xFfVEhMn"
   },
   "source": [
    "## Python Imports"
   ]
  },
  {
   "cell_type": "code",
   "execution_count": 1,
   "metadata": {
    "colab": {},
    "colab_type": "code",
    "id": "FS1w6JnSoC_P"
   },
   "outputs": [],
   "source": [
    "import numpy as np\n",
    "import matplotlib.pyplot as plt\n",
    "from scipy.stats import pearsonr\n",
    "\n",
    "%matplotlib inline  "
   ]
  },
  {
   "cell_type": "markdown",
   "metadata": {
    "colab_type": "text",
    "id": "gebtcRWKgJmw"
   },
   "source": [
    "## Data Imports"
   ]
  },
  {
   "cell_type": "markdown",
   "metadata": {
    "colab_type": "text",
    "id": "Yds3ozYytl8j"
   },
   "source": [
    "## DEFINE THE PATH TO YOUR COURSE DIRECTORY"
   ]
  },
  {
   "cell_type": "code",
   "execution_count": 2,
   "metadata": {
    "colab": {},
    "colab_type": "code",
    "id": "GhoWNOG7tl8k"
   },
   "outputs": [],
   "source": [
    "data_dir = \"/home/mathias/bioinfo_algos/data/\""
   ]
  },
  {
   "cell_type": "markdown",
   "metadata": {},
   "source": [
    "### Define run time parameters"
   ]
  },
  {
   "cell_type": "code",
   "execution_count": 3,
   "metadata": {},
   "outputs": [],
   "source": [
    "# Define if we are using blosum or sparse encoding\n",
    "# blosum_scheme = False\n",
    "blosum_scheme = True"
   ]
  },
  {
   "cell_type": "markdown",
   "metadata": {
    "colab_type": "text",
    "id": "IhPjK1U6NUNE"
   },
   "source": [
    "### Alphabet"
   ]
  },
  {
   "cell_type": "code",
   "execution_count": 4,
   "metadata": {
    "colab": {},
    "colab_type": "code",
    "id": "22EsO9nHhUSn"
   },
   "outputs": [],
   "source": [
    "alphabet_file = data_dir + \"Matrices/alphabet\"\n",
    "#alphabet_file = \"https://raw.githubusercontent.com/brunoalvarez89/data/master/algorithms_in_bioinformatics/part_3/alphabet\"\n",
    "\n",
    "alphabet = np.loadtxt(alphabet_file, dtype=str)"
   ]
  },
  {
   "cell_type": "markdown",
   "metadata": {
    "colab_type": "text",
    "id": "6vAARkOhNaIR"
   },
   "source": [
    "### Blosum50 Encoding Scheme"
   ]
  },
  {
   "cell_type": "code",
   "execution_count": 6,
   "metadata": {
    "colab": {},
    "colab_type": "code",
    "id": "IX7KtVV9Is60"
   },
   "outputs": [],
   "source": [
    "blosum_file = data_dir + \"Matrices/BLOSUM50\"\n",
    "#blosum_file = \"https://raw.githubusercontent.com/brunoalvarez89/data/master/algorithms_in_bioinformatics/part_3/blosum50\"\n",
    "\n",
    "_blosum50 = np.loadtxt(blosum_file, dtype=float).reshape((24, -1)).T\n",
    "\n",
    "blosum50 = {}\n",
    "\n",
    "for i, letter_1 in enumerate(alphabet):\n",
    "    \n",
    "    blosum50[letter_1] = {}\n",
    "\n",
    "    for j, letter_2 in enumerate(alphabet):\n",
    "        \n",
    "        blosum50[letter_1][letter_2] = _blosum50[i, j] / 5.0"
   ]
  },
  {
   "cell_type": "markdown",
   "metadata": {},
   "source": [
    "### Sparse Encoding Scheme"
   ]
  },
  {
   "cell_type": "code",
   "execution_count": 7,
   "metadata": {},
   "outputs": [],
   "source": [
    "sparse_file = data_dir + \"Matrices/sparse\"\n",
    "_sparse = np.loadtxt(sparse_file, dtype=float)\n",
    "sparse = {}\n",
    "\n",
    "for i, letter_1 in enumerate(alphabet):\n",
    "\n",
    "    sparse[letter_1] = {}\n",
    "\n",
    "    for j, letter_2 in enumerate(alphabet):\n",
    "\n",
    "        sparse[letter_1][letter_2] = _sparse[i, j]"
   ]
  },
  {
   "cell_type": "markdown",
   "metadata": {
    "colab_type": "text",
    "id": "Y3VVxOm7N7e2"
   },
   "source": [
    "## Peptide Encoding"
   ]
  },
  {
   "cell_type": "code",
   "execution_count": 8,
   "metadata": {
    "colab": {},
    "colab_type": "code",
    "id": "nbDC1pxDN6Zq"
   },
   "outputs": [],
   "source": [
    "def encode(peptides, encoding_scheme, alphabet):\n",
    "    \n",
    "    encoded_peptides = []\n",
    "\n",
    "    for peptide in peptides:\n",
    "\n",
    "        encoded_peptide = []\n",
    "\n",
    "        for peptide_letter in peptide:\n",
    "\n",
    "            for alphabet_letter in alphabet:\n",
    "\n",
    "                encoded_peptide.append(encoding_scheme[peptide_letter][alphabet_letter])\n",
    "        \n",
    "        # add a 1 (bias)\n",
    "        encoded_peptide.append(1)\n",
    "        \n",
    "        # store peptide\n",
    "        encoded_peptides.append(encoded_peptide)\n",
    "        \n",
    "    return np.array(encoded_peptides)"
   ]
  },
  {
   "cell_type": "markdown",
   "metadata": {
    "colab_type": "text",
    "id": "fthOCEHqgRNl"
   },
   "source": [
    "## Neural Network Functions"
   ]
  },
  {
   "cell_type": "markdown",
   "metadata": {
    "colab_type": "text",
    "id": "wxMTWx41gLTN"
   },
   "source": [
    "### Error (RMS)"
   ]
  },
  {
   "cell_type": "code",
   "execution_count": 9,
   "metadata": {
    "colab": {},
    "colab_type": "code",
    "id": "LJPyml6agPb3"
   },
   "outputs": [],
   "source": [
    "def error(y, y_pred):\n",
    "    return 0.5*(y_pred - y)**2"
   ]
  },
  {
   "cell_type": "markdown",
   "metadata": {
    "colab_type": "text",
    "id": "F1Zisf3mgVkZ"
   },
   "source": [
    "### Activation (Sigmoid)"
   ]
  },
  {
   "cell_type": "code",
   "execution_count": 10,
   "metadata": {
    "colab": {},
    "colab_type": "code",
    "id": "D2VuJs8ugaiN"
   },
   "outputs": [],
   "source": [
    "def sigmoid(z):\n",
    "    return 1.0 / (1.0 + np.exp(-z))"
   ]
  },
  {
   "cell_type": "markdown",
   "metadata": {
    "colab_type": "text",
    "id": "5sDFPM3jgeeZ"
   },
   "source": [
    "### Derivative of Activation"
   ]
  },
  {
   "cell_type": "code",
   "execution_count": 11,
   "metadata": {
    "colab": {},
    "colab_type": "code",
    "id": "0piUuQ_ugjsw"
   },
   "outputs": [],
   "source": [
    "def sigmoid_prime(a):\n",
    "    return (1-a)*a"
   ]
  },
  {
   "cell_type": "markdown",
   "metadata": {
    "colab_type": "text",
    "id": "GJfPcRb1gmqr"
   },
   "source": [
    "### Forward Propagation"
   ]
  },
  {
   "cell_type": "code",
   "execution_count": 12,
   "metadata": {
    "colab": {},
    "colab_type": "code",
    "id": "5Pcp8_6JgzfP"
   },
   "outputs": [],
   "source": [
    "def forward(X, w1, w2):\n",
    "   \n",
    "    # get dimension, substracting the bias\n",
    "    input_layer_dim = w1.shape[0] - 1 \n",
    "    hidden_layer_dim = w2.shape[0] - 1\n",
    "    \n",
    "    ################\n",
    "    # hidden layer #\n",
    "    ################\n",
    "    \n",
    "    # activity of hidden layer\n",
    "    for j in range(hidden_layer_dim):\n",
    "        z = 0.0\n",
    "        for i in range(input_layer_dim+1):\n",
    "            z += X[0][i]* w1[i,j]\n",
    "        X[1][j] = sigmoid(z)\n",
    "    \n",
    "    ################\n",
    "    # output layer #\n",
    "    ################\n",
    "    \n",
    "    z = 0\n",
    "    for i in range(hidden_layer_dim+1):\n",
    "        z += X[1][i]*w2[i,0]\n",
    "    X[2][0] = sigmoid(z)"
   ]
  },
  {
   "cell_type": "markdown",
   "metadata": {
    "colab_type": "text",
    "id": "UG11EsKhg133"
   },
   "source": [
    "### Back Propagation (Gradient Descent)"
   ]
  },
  {
   "cell_type": "code",
   "execution_count": 13,
   "metadata": {
    "colab": {},
    "colab_type": "code",
    "collapsed": true,
    "id": "Z5266L34oC_T"
   },
   "outputs": [],
   "source": [
    "def back_prop(X, t, w_h, w_o, dj_dw_h, dj_dw_o):\n",
    "    \n",
    "    # dj_dw_h are the derivativs with respect to the weights\n",
    "    # connecting the input to the hidden layer\n",
    "    # dj_dw_o are the derivatics with respect to the weights\n",
    "    # connecting the hidden to the outout layer\n",
    "\n",
    "    # get dimension, substracting the bias\n",
    "    input_layer_dim = w_h.shape[0] - 1 \n",
    "    hidden_layer_dim = w_o.shape[0] - 1\n",
    "    \n",
    "    ##############################################    \n",
    "    # derivative of cost function respect to w_o #\n",
    "    # Remember X[2][0] is the prediction value,\n",
    "    # And dj_dw_o = dE/dw = dE/dO * dO/do * do/dw\n",
    "    ##############################################\n",
    "    \n",
    "    delta = (XXX - t) * XXX\n",
    "    \n",
    "    for i in range(hidden_layer_dim+1):\n",
    "        \n",
    "        dj_dw_o[i] = delta * XXX\n",
    "    \n",
    "    ##############################################\n",
    "    # derivative of cost function respect to w_h #\n",
    "    # Remember dj_dw_h = dE/dv where v are the weight connecting\n",
    "    # the input to the hidden layer, and\n",
    "    # dE/dv = dE/dO * dO/do * do/dH * dH/dh * dh/dv\n",
    "    # where H is the output from hidden neuron j, and v is the\n",
    "    # weight connecting input neuron i to hidden neuron j\n",
    "    ##############################################\n",
    "    \n",
    "    for j in range(hidden_layer_dim):\n",
    "\n",
    "        delta2 = delta * XXX \n",
    "        \n",
    "        for i in range (input_layer_dim+1): # +1 to include the input layer bias\n",
    "\n",
    "            dj_dw_h[i, j] = delta2 * XXX\n"
   ]
  },
  {
   "cell_type": "markdown",
   "metadata": {
    "colab_type": "text",
    "id": "aiGARmlIyK8h"
   },
   "source": [
    "### Save network to file"
   ]
  },
  {
   "cell_type": "code",
   "execution_count": 14,
   "metadata": {
    "colab": {},
    "colab_type": "code",
    "collapsed": true,
    "id": "FB-ljT8H8kZ7"
   },
   "outputs": [],
   "source": [
    "def save_network(file_name, w_h, w_o, lpcc, lerr, tpcc, terr, epochs):\n",
    "    \n",
    "    input_layer_dim = w_h.shape[0]\n",
    "    hidden_layer_dim = w_o.shape[0]\n",
    "    output_layer_dim = w_o.shape[1]\n",
    "\n",
    "    with open(file_name, 'w') as file:\n",
    "\n",
    "        \n",
    "        # run data\n",
    "        file.write(\"TESTRUNID\")\n",
    "        file.write(\" EPOCH: \" + str(epochs))\n",
    "        file.write(\" L_PCC: \" + str(lpcc))\n",
    "        file.write(\" L_ERR: \" + str(lerr))\n",
    "        file.write(\" T_PCC: \" + str(tpcc))\n",
    "        file.write(\" T_ERR: \" + str(terr))\n",
    "        file.write(\"\\n\")\n",
    "\n",
    "        # LAYER: 1 \n",
    "        file.write(str(input_layer_dim-1) + \" LAYER: 1\")\n",
    "        file.write(\"\\n\")\n",
    "\n",
    "        # LAYER: 2 \n",
    "        file.write(str(hidden_layer_dim-1) + \" LAYER: 2\")\n",
    "        file.write(\"\\n\")\n",
    "\n",
    "        # LAYER: 3\n",
    "        file.write(str(output_layer_dim) + \" LAYER: 3\")\n",
    "        file.write(\"\\n\")\n",
    "\n",
    "        # number of training cycles\n",
    "        # :ILEARN \n",
    "        file.write(str(epochs) + \" :ILEARN\")\n",
    "        file.write(\"\\n\")\n",
    "        \n",
    "        # network weights (five per line)\n",
    "        weights = [w_h, w_o]\n",
    "        \n",
    "        cnt = 0\n",
    "\n",
    "        for w in weights:\n",
    "\n",
    "            w = w.flatten()\n",
    "\n",
    "            for i in range(0, len(w)):\n",
    "\n",
    "                file.write(str(w[i]) + str(\"\\t\"))\n",
    "                \n",
    "                cnt += 1\n",
    "                \n",
    "                if cnt == 5:\n",
    "                    file.write(\"\\n\")\n",
    "                    cnt = 0\n",
    "                    \n",
    "        if cnt != 0:\n",
    "            file.write(\"\\n\")\n",
    "            \n",
    "            "
   ]
  },
  {
   "cell_type": "markdown",
   "metadata": {
    "colab_type": "text",
    "id": "wYKCvNimhKGN"
   },
   "source": [
    "## Network Architecture (Feed Forward)"
   ]
  },
  {
   "cell_type": "code",
   "execution_count": 16,
   "metadata": {
    "colab": {},
    "colab_type": "code",
    "collapsed": true,
    "id": "16VBk02qoC_Z"
   },
   "outputs": [],
   "source": [
    "def feed_forward_network(input_layer_dim, hidden_layer_dim, output_layer_dim):\n",
    "    \n",
    "    # layer dimensions\n",
    "    i_dim = input_layer_dim      # vector of shape (i_dim,) \n",
    "    h_dim = hidden_layer_dim     # matrix of shape (i_dim, h_dim)\n",
    "    o_dim = output_layer_dim     # matrix of shape (h_dim, o_dim)\n",
    "    \n",
    "    # hidden layer weights\n",
    "    # w_h[i, j] is the weight that links input's feature \"i\" to neuron \"j\" of the hidden layer\n",
    "    w_h = np.random.uniform(-0.1, 0.1, size=(i_dim+1)*h_dim).reshape(i_dim+1, h_dim)\n",
    "        \n",
    "    # output layer weights\n",
    "    # w_o[i, j] is the weight that links hidden layer's neuron \"i\" to neuron \"j\" of the output layer\n",
    "    # since we only have one output neuron, j = 1, and w_o behaves as a vector, not a matrix\n",
    "    w_o = np.random.uniform(-0.1, 0.1, size=(h_dim+1)*o_dim).reshape(h_dim+1, o_dim)\n",
    "    \n",
    "    # X matrix, X stores the output from each layer\n",
    "    X_dim = max(i_dim, h_dim, o_dim)\n",
    "    X = np.zeros(shape=(3, X_dim+1))\n",
    "    \n",
    "    # The last column of the X layer is one, to deal with the bias\n",
    "    X[0][input_layer_dim] = 1.0 \n",
    "    X[1][hidden_layer_dim] = 1.0\n",
    "    \n",
    "    # print network summary\n",
    "    print(\"NETWORK SUMMARY\")\n",
    "    print(\"---------------\" )\n",
    "    print(\"Input Layer shape:\", (1, input_layer_dim))\n",
    "    print(\"Hidden Layer shape:\", w_h.shape)\n",
    "    print(\"Output layer shape:\", w_o.shape)\n",
    "    print(\"Total parameters:\", (i_dim+1)*h_dim + (h_dim+1)*o_dim)\n",
    "    print(\"\")\n",
    "    \n",
    "    # return everything\n",
    "    return w_h, w_o, X"
   ]
  },
  {
   "cell_type": "markdown",
   "metadata": {
    "colab_type": "text",
    "id": "4hypMLZF7qgO"
   },
   "source": [
    "## Training Data"
   ]
  },
  {
   "cell_type": "code",
   "execution_count": 17,
   "metadata": {
    "colab": {},
    "colab_type": "code",
    "collapsed": true,
    "id": "tm9hz3I07rw2"
   },
   "outputs": [],
   "source": [
    "training_file = data_dir + \"ANN/A2403_training\"\n",
    "#training_file = data_dir + \"ANN/A0201_training\"\n",
    "training_data = np.loadtxt(training_file, dtype=str)\n",
    "\n",
    "peptides = training_data[:, 0]\n",
    "\n",
    "if blosum_scheme:\n",
    "    x_train = encode(peptides, blosum50, alphabet)\n",
    "else:\n",
    "    x_train = encode(peptides, sparse, alphabet)\n",
    "\n",
    "y_train = np.array(training_data[:, 1], dtype=float)"
   ]
  },
  {
   "cell_type": "markdown",
   "metadata": {
    "colab_type": "text",
    "id": "Wvd-bHF07r8y"
   },
   "source": [
    "## Evaluation Data"
   ]
  },
  {
   "cell_type": "code",
   "execution_count": 18,
   "metadata": {
    "colab": {},
    "colab_type": "code",
    "collapsed": true,
    "id": "IWqavwaU7s10"
   },
   "outputs": [],
   "source": [
    "evaluation_file = data_dir + \"ANN/A2403_evaluation\"\n",
    "#evaluation_file = data_dir + \"ANN/A0201_evaluation\"\n",
    "evaluation_data = np.loadtxt(evaluation_file, dtype=str)\n",
    "\n",
    "peptides = evaluation_data[:, 0]\n",
    "if blosum_scheme:\n",
    "    x_eval = encode(peptides, blosum50, alphabet)\n",
    "else:\n",
    "    x_eval = encode(peptides, sparse, alphabet)\n",
    "\n",
    "y_eval = np.array(evaluation_data[:, 1], dtype=float)"
   ]
  },
  {
   "cell_type": "markdown",
   "metadata": {
    "colab_type": "text",
    "id": "eYQR6p06Up8h"
   },
   "source": [
    "## Train Network"
   ]
  },
  {
   "cell_type": "code",
   "execution_count": 20,
   "metadata": {
    "colab": {
     "base_uri": "https://localhost:8080/",
     "height": 2686
    },
    "colab_type": "code",
    "id": "N0NbseaEoC_e",
    "outputId": "86a68421-5194-4efe-959b-9b17cecba970",
    "scrolled": false
   },
   "outputs": [
    {
     "name": "stdout",
     "output_type": "stream",
     "text": [
      "NETWORK SUMMARY\n",
      "---------------\n",
      "Input Layer shape: (1, 180)\n",
      "Hidden Layer shape: (181, 5)\n",
      "Output layer shape: (6, 1)\n",
      "Total parameters: 911\n",
      "\n",
      "# Dump network 0 Best MSE 0.029074627692062864 PCC 0.06594255621964226\n",
      "[0, 100] Train Error: 0.0434 | Train Perf: -0.0497 | Eval Error: 0.0291 | Eval Perf: 0.0659\n",
      "# Dump network 1 Best MSE 0.02560241179982887 PCC 0.16777473718694436\n",
      "[1, 100] Train Error: 0.0294 | Train Perf: -0.0325 | Eval Error: 0.0256 | Eval Perf: 0.1678\n",
      "# Dump network 2 Best MSE 0.02462632242451615 PCC 0.24209735503047747\n",
      "[2, 100] Train Error: 0.0275 | Train Perf: 0.2377 | Eval Error: 0.0246 | Eval Perf: 0.2421\n",
      "# Dump network 3 Best MSE 0.02431472901899205 PCC 0.29341204785996866\n",
      "[3, 100] Train Error: 0.0269 | Train Perf: 0.3604 | Eval Error: 0.0243 | Eval Perf: 0.2934\n",
      "# Dump network 4 Best MSE 0.024067245095579608 PCC 0.3294988342823887\n",
      "[4, 100] Train Error: 0.0264 | Train Perf: 0.4398 | Eval Error: 0.0241 | Eval Perf: 0.3295\n",
      "# Dump network 5 Best MSE 0.02385882704566798 PCC 0.354154932083195\n",
      "[5, 100] Train Error: 0.0259 | Train Perf: 0.5066 | Eval Error: 0.0239 | Eval Perf: 0.3542\n",
      "# Dump network 6 Best MSE 0.023645623633414603 PCC 0.37232207612435003\n",
      "[6, 100] Train Error: 0.0254 | Train Perf: 0.5519 | Eval Error: 0.0236 | Eval Perf: 0.3723\n",
      "# Dump network 7 Best MSE 0.02341377198110374 PCC 0.3877426201972002\n",
      "[7, 100] Train Error: 0.0249 | Train Perf: 0.5693 | Eval Error: 0.0234 | Eval Perf: 0.3877\n",
      "# Dump network 8 Best MSE 0.0231887850456454 PCC 0.39998690708893\n",
      "[8, 100] Train Error: 0.0244 | Train Perf: 0.5863 | Eval Error: 0.0232 | Eval Perf: 0.4\n",
      "# Dump network 9 Best MSE 0.022960707023803043 PCC 0.410533901715231\n",
      "[9, 100] Train Error: 0.0239 | Train Perf: 0.6019 | Eval Error: 0.023 | Eval Perf: 0.4105\n",
      "# Dump network 10 Best MSE 0.022719884188891162 PCC 0.4190498356598803\n",
      "[10, 100] Train Error: 0.0234 | Train Perf: 0.621 | Eval Error: 0.0227 | Eval Perf: 0.419\n",
      "# Dump network 11 Best MSE 0.0224822487415036 PCC 0.4279244752938519\n",
      "[11, 100] Train Error: 0.0229 | Train Perf: 0.6295 | Eval Error: 0.0225 | Eval Perf: 0.4279\n",
      "# Dump network 12 Best MSE 0.02225206771619281 PCC 0.4365973647516034\n",
      "[12, 100] Train Error: 0.0224 | Train Perf: 0.6382 | Eval Error: 0.0223 | Eval Perf: 0.4366\n",
      "# Dump network 13 Best MSE 0.02202490627106628 PCC 0.44497427519041977\n",
      "[13, 100] Train Error: 0.0219 | Train Perf: 0.6451 | Eval Error: 0.022 | Eval Perf: 0.445\n",
      "# Dump network 14 Best MSE 0.021807971271730318 PCC 0.4535824002579746\n",
      "[14, 100] Train Error: 0.0214 | Train Perf: 0.651 | Eval Error: 0.0218 | Eval Perf: 0.4536\n",
      "# Dump network 15 Best MSE 0.021583759482715594 PCC 0.4617211352110123\n",
      "[15, 100] Train Error: 0.0209 | Train Perf: 0.6618 | Eval Error: 0.0216 | Eval Perf: 0.4617\n",
      "# Dump network 16 Best MSE 0.021335884307279618 PCC 0.4688898033610138\n",
      "[16, 100] Train Error: 0.0204 | Train Perf: 0.6698 | Eval Error: 0.0213 | Eval Perf: 0.4689\n",
      "# Dump network 17 Best MSE 0.02111890401577916 PCC 0.47716032235948547\n",
      "[17, 100] Train Error: 0.0199 | Train Perf: 0.6717 | Eval Error: 0.0211 | Eval Perf: 0.4772\n",
      "# Dump network 18 Best MSE 0.02087883291856732 PCC 0.484746334903084\n",
      "[18, 100] Train Error: 0.0195 | Train Perf: 0.6825 | Eval Error: 0.0209 | Eval Perf: 0.4847\n",
      "# Dump network 19 Best MSE 0.020682184755481118 PCC 0.4930831705730107\n",
      "[19, 100] Train Error: 0.019 | Train Perf: 0.6843 | Eval Error: 0.0207 | Eval Perf: 0.4931\n",
      "# Dump network 20 Best MSE 0.020425253420630445 PCC 0.5001616975842578\n",
      "[20, 100] Train Error: 0.0186 | Train Perf: 0.6951 | Eval Error: 0.0204 | Eval Perf: 0.5002\n",
      "# Dump network 21 Best MSE 0.0202407912004229 PCC 0.5089244449992582\n",
      "[21, 100] Train Error: 0.0181 | Train Perf: 0.6967 | Eval Error: 0.0202 | Eval Perf: 0.5089\n",
      "# Dump network 22 Best MSE 0.020062502798763537 PCC 0.5171404283464368\n",
      "[22, 100] Train Error: 0.0177 | Train Perf: 0.7022 | Eval Error: 0.0201 | Eval Perf: 0.5171\n",
      "# Dump network 23 Best MSE 0.01982121852840375 PCC 0.5242043103758971\n",
      "[23, 100] Train Error: 0.0173 | Train Perf: 0.7132 | Eval Error: 0.0198 | Eval Perf: 0.5242\n",
      "# Dump network 24 Best MSE 0.019637279960578794 PCC 0.5319063404447124\n",
      "[24, 100] Train Error: 0.0169 | Train Perf: 0.7169 | Eval Error: 0.0196 | Eval Perf: 0.5319\n",
      "# Dump network 25 Best MSE 0.019399065829541765 PCC 0.5386801309089315\n",
      "[25, 100] Train Error: 0.0165 | Train Perf: 0.7266 | Eval Error: 0.0194 | Eval Perf: 0.5387\n",
      "# Dump network 26 Best MSE 0.019217426101806795 PCC 0.5464357257817213\n",
      "[26, 100] Train Error: 0.0161 | Train Perf: 0.7302 | Eval Error: 0.0192 | Eval Perf: 0.5464\n",
      "# Dump network 27 Best MSE 0.019100510862169698 PCC 0.5555451913140557\n",
      "[27, 100] Train Error: 0.0157 | Train Perf: 0.7327 | Eval Error: 0.0191 | Eval Perf: 0.5555\n",
      "# Dump network 28 Best MSE 0.01892570418354749 PCC 0.5625846587205816\n",
      "[28, 100] Train Error: 0.0154 | Train Perf: 0.7413 | Eval Error: 0.0189 | Eval Perf: 0.5626\n",
      "# Dump network 29 Best MSE 0.01874379445794376 PCC 0.569683952479338\n",
      "[29, 100] Train Error: 0.015 | Train Perf: 0.7476 | Eval Error: 0.0187 | Eval Perf: 0.5697\n",
      "# Dump network 30 Best MSE 0.01859879991655122 PCC 0.5770093388253087\n",
      "[30, 100] Train Error: 0.0146 | Train Perf: 0.751 | Eval Error: 0.0186 | Eval Perf: 0.577\n",
      "# Dump network 31 Best MSE 0.01850548841487741 PCC 0.5847966879854687\n",
      "[31, 100] Train Error: 0.0143 | Train Perf: 0.7556 | Eval Error: 0.0185 | Eval Perf: 0.5848\n",
      "# Dump network 32 Best MSE 0.018282116018152203 PCC 0.5902407241646971\n",
      "[32, 100] Train Error: 0.014 | Train Perf: 0.7652 | Eval Error: 0.0183 | Eval Perf: 0.5902\n",
      "# Dump network 33 Best MSE 0.018158502405110456 PCC 0.5971954526757317\n",
      "[33, 100] Train Error: 0.0136 | Train Perf: 0.7688 | Eval Error: 0.0182 | Eval Perf: 0.5972\n",
      "# Dump network 34 Best MSE 0.01812203325407498 PCC 0.6051093117312599\n",
      "[34, 100] Train Error: 0.0133 | Train Perf: 0.773 | Eval Error: 0.0181 | Eval Perf: 0.6051\n",
      "# Dump network 35 Best MSE 0.01796644158413488 PCC 0.6106091030694382\n",
      "[35, 100] Train Error: 0.013 | Train Perf: 0.7801 | Eval Error: 0.018 | Eval Perf: 0.6106\n",
      "# Dump network 36 Best MSE 0.017665033610261192 PCC 0.6142680381852409\n",
      "[36, 100] Train Error: 0.0127 | Train Perf: 0.7896 | Eval Error: 0.0177 | Eval Perf: 0.6143\n",
      "# Dump network 37 Best MSE 0.01765103763660216 PCC 0.6220041164388883\n",
      "[37, 100] Train Error: 0.0124 | Train Perf: 0.7871 | Eval Error: 0.0177 | Eval Perf: 0.622\n",
      "# Dump network 38 Best MSE 0.01740661588505244 PCC 0.6258714599285349\n",
      "[38, 100] Train Error: 0.0122 | Train Perf: 0.7971 | Eval Error: 0.0174 | Eval Perf: 0.6259\n",
      "# Dump network 39 Best MSE 0.017278162588178714 PCC 0.6310688340501686\n",
      "[39, 100] Train Error: 0.0119 | Train Perf: 0.7993 | Eval Error: 0.0173 | Eval Perf: 0.6311\n",
      "# Dump network 40 Best MSE 0.01709208121854694 PCC 0.6356844586929353\n",
      "[40, 100] Train Error: 0.0116 | Train Perf: 0.8048 | Eval Error: 0.0171 | Eval Perf: 0.6357\n",
      "[41, 100] Train Error: 0.0114 | Train Perf: 0.8054 | Eval Error: 0.0171 | Eval Perf: 0.6426\n",
      "# Dump network 42 Best MSE 0.01699880381088559 PCC 0.6474590135158498\n",
      "[42, 100] Train Error: 0.0111 | Train Perf: 0.8118 | Eval Error: 0.017 | Eval Perf: 0.6475\n",
      "# Dump network 43 Best MSE 0.016840326805349234 PCC 0.6519411856213537\n",
      "[43, 100] Train Error: 0.0109 | Train Perf: 0.8167 | Eval Error: 0.0168 | Eval Perf: 0.6519\n",
      "# Dump network 44 Best MSE 0.016782259140839435 PCC 0.6570149813218525\n",
      "[44, 100] Train Error: 0.0107 | Train Perf: 0.8189 | Eval Error: 0.0168 | Eval Perf: 0.657\n",
      "# Dump network 45 Best MSE 0.016717806506658318 PCC 0.6622364105178666\n",
      "[45, 100] Train Error: 0.0105 | Train Perf: 0.8228 | Eval Error: 0.0167 | Eval Perf: 0.6622\n",
      "# Dump network 46 Best MSE 0.016582183304542863 PCC 0.6664014321026871\n",
      "[46, 100] Train Error: 0.0102 | Train Perf: 0.8279 | Eval Error: 0.0166 | Eval Perf: 0.6664\n",
      "# Dump network 47 Best MSE 0.016486989901959872 PCC 0.6712499832171626\n",
      "[47, 100] Train Error: 0.01 | Train Perf: 0.8306 | Eval Error: 0.0165 | Eval Perf: 0.6712\n",
      "# Dump network 48 Best MSE 0.016269385427576614 PCC 0.6743769956668982\n",
      "[48, 100] Train Error: 0.0098 | Train Perf: 0.8362 | Eval Error: 0.0163 | Eval Perf: 0.6744\n",
      "# Dump network 49 Best MSE 0.01620529863208508 PCC 0.6787959706153726\n",
      "[49, 100] Train Error: 0.0096 | Train Perf: 0.8371 | Eval Error: 0.0162 | Eval Perf: 0.6788\n",
      "# Dump network 50 Best MSE 0.016156566565903304 PCC 0.6841982371754014\n",
      "[50, 100] Train Error: 0.0094 | Train Perf: 0.8395 | Eval Error: 0.0162 | Eval Perf: 0.6842\n"
     ]
    },
    {
     "name": "stdout",
     "output_type": "stream",
     "text": [
      "# Dump network 51 Best MSE 0.016143351572129813 PCC 0.6894200410670625\n",
      "[51, 100] Train Error: 0.0093 | Train Perf: 0.8427 | Eval Error: 0.0161 | Eval Perf: 0.6894\n",
      "# Dump network 52 Best MSE 0.016078878563187113 PCC 0.6938282315228659\n",
      "[52, 100] Train Error: 0.0091 | Train Perf: 0.8462 | Eval Error: 0.0161 | Eval Perf: 0.6938\n",
      "# Dump network 53 Best MSE 0.015992706514505507 PCC 0.6980601162453057\n",
      "[53, 100] Train Error: 0.0089 | Train Perf: 0.849 | Eval Error: 0.016 | Eval Perf: 0.6981\n",
      "# Dump network 54 Best MSE 0.01584000018386275 PCC 0.7017283312469449\n",
      "[54, 100] Train Error: 0.0087 | Train Perf: 0.8531 | Eval Error: 0.0158 | Eval Perf: 0.7017\n",
      "# Dump network 55 Best MSE 0.01580737583795413 PCC 0.7065633911921838\n",
      "[55, 100] Train Error: 0.0086 | Train Perf: 0.8544 | Eval Error: 0.0158 | Eval Perf: 0.7066\n",
      "# Dump network 56 Best MSE 0.015661365636579837 PCC 0.7097438477856011\n",
      "[56, 100] Train Error: 0.0084 | Train Perf: 0.8586 | Eval Error: 0.0157 | Eval Perf: 0.7097\n",
      "# Dump network 57 Best MSE 0.01546088906898309 PCC 0.7124015354042932\n",
      "[57, 100] Train Error: 0.0083 | Train Perf: 0.862 | Eval Error: 0.0155 | Eval Perf: 0.7124\n",
      "# Dump network 58 Best MSE 0.015356691689642685 PCC 0.7161264493234709\n",
      "[58, 100] Train Error: 0.0081 | Train Perf: 0.8633 | Eval Error: 0.0154 | Eval Perf: 0.7161\n",
      "[59, 100] Train Error: 0.008 | Train Perf: 0.8641 | Eval Error: 0.0154 | Eval Perf: 0.7218\n",
      "# Dump network 60 Best MSE 0.015256071088255845 PCC 0.7248984553305823\n",
      "[60, 100] Train Error: 0.0078 | Train Perf: 0.8692 | Eval Error: 0.0153 | Eval Perf: 0.7249\n",
      "# Dump network 61 Best MSE 0.015226714014909624 PCC 0.7288000620117089\n",
      "[61, 100] Train Error: 0.0077 | Train Perf: 0.8703 | Eval Error: 0.0152 | Eval Perf: 0.7288\n",
      "# Dump network 62 Best MSE 0.015163183264609623 PCC 0.7330335624647156\n",
      "[62, 100] Train Error: 0.0076 | Train Perf: 0.8722 | Eval Error: 0.0152 | Eval Perf: 0.733\n",
      "# Dump network 63 Best MSE 0.015094109015398214 PCC 0.736717821982531\n",
      "[63, 100] Train Error: 0.0074 | Train Perf: 0.8749 | Eval Error: 0.0151 | Eval Perf: 0.7367\n",
      "[64, 100] Train Error: 0.0073 | Train Perf: 0.8757 | Eval Error: 0.0152 | Eval Perf: 0.7412\n",
      "# Dump network 65 Best MSE 0.01495907560194329 PCC 0.7436230967568742\n",
      "[65, 100] Train Error: 0.0072 | Train Perf: 0.8808 | Eval Error: 0.015 | Eval Perf: 0.7436\n",
      "# Dump network 66 Best MSE 0.014928715084685884 PCC 0.7471015619445559\n",
      "[66, 100] Train Error: 0.0071 | Train Perf: 0.8816 | Eval Error: 0.0149 | Eval Perf: 0.7471\n",
      "# Dump network 67 Best MSE 0.014713408634362525 PCC 0.7489961262660807\n",
      "[67, 100] Train Error: 0.0069 | Train Perf: 0.8854 | Eval Error: 0.0147 | Eval Perf: 0.749\n",
      "# Dump network 68 Best MSE 0.014701797192863577 PCC 0.7529290314677077\n",
      "[68, 100] Train Error: 0.0069 | Train Perf: 0.8849 | Eval Error: 0.0147 | Eval Perf: 0.7529\n",
      "# Dump network 69 Best MSE 0.01469274518865647 PCC 0.7564286135353688\n",
      "[69, 100] Train Error: 0.0067 | Train Perf: 0.887 | Eval Error: 0.0147 | Eval Perf: 0.7564\n",
      "[70, 100] Train Error: 0.0066 | Train Perf: 0.8886 | Eval Error: 0.0147 | Eval Perf: 0.7601\n",
      "# Dump network 71 Best MSE 0.014633852293429506 PCC 0.7630881352770533\n",
      "[71, 100] Train Error: 0.0065 | Train Perf: 0.8912 | Eval Error: 0.0146 | Eval Perf: 0.7631\n",
      "# Dump network 72 Best MSE 0.014529217455886211 PCC 0.7657618904451384\n",
      "[72, 100] Train Error: 0.0064 | Train Perf: 0.893 | Eval Error: 0.0145 | Eval Perf: 0.7658\n",
      "[73, 100] Train Error: 0.0063 | Train Perf: 0.8936 | Eval Error: 0.0146 | Eval Perf: 0.7694\n",
      "[74, 100] Train Error: 0.0062 | Train Perf: 0.8962 | Eval Error: 0.0146 | Eval Perf: 0.7723\n",
      "# Dump network 75 Best MSE 0.014183698698418791 PCC 0.7730581465760661\n",
      "[75, 100] Train Error: 0.0061 | Train Perf: 0.9011 | Eval Error: 0.0142 | Eval Perf: 0.7731\n",
      "[76, 100] Train Error: 0.006 | Train Perf: 0.8989 | Eval Error: 0.0142 | Eval Perf: 0.7767\n",
      "# Dump network 77 Best MSE 0.014070775721491917 PCC 0.7783664813432742\n",
      "[77, 100] Train Error: 0.0059 | Train Perf: 0.9022 | Eval Error: 0.0141 | Eval Perf: 0.7784\n",
      "# Dump network 78 Best MSE 0.01406441375255986 PCC 0.7813410844374515\n",
      "[78, 100] Train Error: 0.0059 | Train Perf: 0.9023 | Eval Error: 0.0141 | Eval Perf: 0.7813\n",
      "# Dump network 79 Best MSE 0.013904934814525134 PCC 0.7831342787102729\n",
      "[79, 100] Train Error: 0.0058 | Train Perf: 0.905 | Eval Error: 0.0139 | Eval Perf: 0.7831\n",
      "# Dump network 80 Best MSE 0.013729990915020534 PCC 0.7847203672976766\n",
      "[80, 100] Train Error: 0.0057 | Train Perf: 0.9067 | Eval Error: 0.0137 | Eval Perf: 0.7847\n",
      "[81, 100] Train Error: 0.0056 | Train Perf: 0.906 | Eval Error: 0.0138 | Eval Perf: 0.7879\n",
      "[82, 100] Train Error: 0.0055 | Train Perf: 0.908 | Eval Error: 0.0138 | Eval Perf: 0.7905\n",
      "[83, 100] Train Error: 0.0055 | Train Perf: 0.9089 | Eval Error: 0.0138 | Eval Perf: 0.7932\n",
      "[84, 100] Train Error: 0.0054 | Train Perf: 0.9113 | Eval Error: 0.0138 | Eval Perf: 0.7953\n",
      "# Dump network 85 Best MSE 0.013601782310918999 PCC 0.7965742858426165\n",
      "[85, 100] Train Error: 0.0053 | Train Perf: 0.9137 | Eval Error: 0.0136 | Eval Perf: 0.7966\n",
      "# Dump network 86 Best MSE 0.013567651216270137 PCC 0.7985921440114377\n",
      "[86, 100] Train Error: 0.0052 | Train Perf: 0.9135 | Eval Error: 0.0136 | Eval Perf: 0.7986\n",
      "# Dump network 87 Best MSE 0.01355969515397904 PCC 0.8007846165992988\n",
      "[87, 100] Train Error: 0.0052 | Train Perf: 0.9146 | Eval Error: 0.0136 | Eval Perf: 0.8008\n",
      "[88, 100] Train Error: 0.0051 | Train Perf: 0.9155 | Eval Error: 0.0136 | Eval Perf: 0.8028\n",
      "# Dump network 89 Best MSE 0.013463309688193047 PCC 0.8043341888752265\n",
      "[89, 100] Train Error: 0.005 | Train Perf: 0.9176 | Eval Error: 0.0135 | Eval Perf: 0.8043\n",
      "[90, 100] Train Error: 0.005 | Train Perf: 0.917 | Eval Error: 0.0137 | Eval Perf: 0.8071\n",
      "[91, 100] Train Error: 0.0049 | Train Perf: 0.9196 | Eval Error: 0.0135 | Eval Perf: 0.8083\n",
      "[92, 100] Train Error: 0.0048 | Train Perf: 0.92 | Eval Error: 0.0136 | Eval Perf: 0.8103\n",
      "# Dump network 93 Best MSE 0.013351640203426178 PCC 0.8109890199138048\n",
      "[93, 100] Train Error: 0.0048 | Train Perf: 0.9222 | Eval Error: 0.0134 | Eval Perf: 0.811\n",
      "# Dump network 94 Best MSE 0.013263331690405979 PCC 0.8123008905169218\n",
      "[94, 100] Train Error: 0.0047 | Train Perf: 0.9224 | Eval Error: 0.0133 | Eval Perf: 0.8123\n",
      "# Dump network 95 Best MSE 0.013197616772522491 PCC 0.813622955613285\n",
      "[95, 100] Train Error: 0.0047 | Train Perf: 0.9232 | Eval Error: 0.0132 | Eval Perf: 0.8136\n",
      "# Dump network 96 Best MSE 0.013076919866681323 PCC 0.8146674803980255\n",
      "[96, 100] Train Error: 0.0046 | Train Perf: 0.9247 | Eval Error: 0.0131 | Eval Perf: 0.8147\n",
      "# Dump network 97 Best MSE 0.012926069573479266 PCC 0.8155689335753672\n",
      "[97, 100] Train Error: 0.0046 | Train Perf: 0.9256 | Eval Error: 0.0129 | Eval Perf: 0.8156\n",
      "[98, 100] Train Error: 0.0045 | Train Perf: 0.9248 | Eval Error: 0.0131 | Eval Perf: 0.8176\n",
      "[99, 100] Train Error: 0.0045 | Train Perf: 0.9267 | Eval Error: 0.013 | Eval Perf: 0.8189\n"
     ]
    }
   ],
   "source": [
    "# seed for this run\n",
    "np.random.seed(1)\n",
    "\n",
    "# create network\n",
    "input_layer_dim = 180\n",
    "hidden_layer_dim = 5\n",
    "output_layer_dim = 1\n",
    "\n",
    "w_h, w_o, X = feed_forward_network(input_layer_dim, hidden_layer_dim, output_layer_dim)\n",
    "\n",
    "# create backpropagation matrices\n",
    "dj_dw_h = np.zeros(shape=w_h.shape)\n",
    "dj_dw_o = np.zeros(shape=w_o.shape)\n",
    "\n",
    "\n",
    "# training epochs\n",
    "epochs = 100\n",
    "\n",
    "# learning rate\n",
    "epsilon = 0.05\n",
    "\n",
    "# data for plotting\n",
    "train_error = []\n",
    "train_perf = []\n",
    "eval_error = []\n",
    "eval_perf = []\n",
    "\n",
    "# early stopping\n",
    "early_stopping = True\n",
    "best_error = np.inf\n",
    "\n",
    "# define filename for synaps\n",
    "synfile_name = \"my_synaps\"\n",
    "\n",
    "#############\n",
    "# MAIN LOOP #\n",
    "#############\n",
    "\n",
    "# for each epoch\n",
    "for e in range(0, epochs):\n",
    "    \n",
    "    ############\n",
    "    # TRAINING #\n",
    "    ############\n",
    "    \n",
    "    train_error_acum = 0\n",
    "    y_preds_train = []\n",
    "    \n",
    "    # shuffle input\n",
    "    randomize = np.arange(len(x_train))\n",
    "    np.random.shuffle(randomize)\n",
    "    x_train, y_train = x_train[randomize], y_train[randomize]\n",
    "    \n",
    "    # loop\n",
    "    for i in range(0, len(x_train)):        \n",
    "        \n",
    "        # fetch training point\n",
    "        #x = x_train[i]\n",
    "        X[0] = x_train[i]\n",
    "        y = y_train[i]\n",
    "        \n",
    "        # forward propagation\n",
    "        #X = forward(X, w_h, w_o)\n",
    "        forward(X, w_h, w_o)\n",
    "        y_pred = X[2][0]\n",
    "        y_preds_train.append(y_pred)\n",
    "        \n",
    "        # back propagation\n",
    "        # dj_dw_h = dE/dv, v is weight between input and hidden layer\n",
    "        # dj_dw_o = dE/dw, wis weight between hidden and output layer\n",
    "        back_prop(X, y, w_h, w_o, dj_dw_h, dj_dw_o)\n",
    "        \n",
    "        # update weights & biases\n",
    "        w_h -= XX\n",
    "        w_o -= XX\n",
    "    \n",
    "        # store training error\n",
    "        train_error_acum += error(y, y_pred)\n",
    "\n",
    "    # store training performance\n",
    "    train_pcc = pearsonr(y_train, np.asarray(y_preds_train))[0]\n",
    "    train_perf.append(train_pcc)\n",
    "\n",
    "    # store mean training error\n",
    "    mean_train_error = train_error_acum/len(x_train)\n",
    "    train_error.append(mean_train_error)\n",
    "\n",
    "    ##############\n",
    "    # EVALUATION #\n",
    "    ##############\n",
    "    \n",
    "    eval_error_acum = 0\n",
    "    y_preds_eval = []\n",
    "    \n",
    "    # loop\n",
    "    for i in range(0, len(x_eval)):        \n",
    "        \n",
    "        # fetch training point\n",
    "        x = x_eval[i]\n",
    "        y = y_eval[i]\n",
    "        \n",
    "        X[0] = x\n",
    "        \n",
    "        # forward propagation\n",
    "        forward(X, w_h, w_o)\n",
    "        y_pred = X[2][0]\n",
    "        y_preds_eval.append(y_pred)\n",
    "        \n",
    "        # store evaluation error\n",
    "        eval_error_acum += error(y, y_pred)\n",
    "    \n",
    "    # store training performance\n",
    "    eval_pcc = pearsonr(y_eval, np.asarray(y_preds_eval))[0]\n",
    "    eval_perf.append(eval_pcc)\n",
    "    \n",
    "    # store mean evaluation error\n",
    "    mean_eval_error = eval_error_acum/len(x_eval)\n",
    "    eval_error.append(mean_eval_error)\n",
    "    \n",
    "    # early stopping\n",
    "    if early_stopping:\n",
    "        \n",
    "        if mean_eval_error < best_error:\n",
    "            \n",
    "            best_error = mean_eval_error\n",
    "            best_pcc = eval_pcc\n",
    "            \n",
    "            print(\"# Dump network\", e, \"Best MSE\", best_error, \"PCC\", eval_pcc)\n",
    "            \n",
    "            save_network(synfile_name, w_h, w_o, train_pcc, mean_train_error, best_pcc, best_error, e)         \n",
    "            \n",
    "    \n",
    "    # print\n",
    "    print([e,epochs], \\\n",
    "          \"Train Error:\", round(mean_train_error, 4), \"|\", \\\n",
    "          \"Train Perf:\", round(train_pcc, 4), \"|\", \\\n",
    "          \"Eval Error:\", round(mean_eval_error, 4), \"|\", \\\n",
    "          \"Eval Perf:\", round(eval_pcc, 4))\n",
    "         "
   ]
  },
  {
   "cell_type": "markdown",
   "metadata": {
    "colab_type": "text",
    "id": "A1q_7Jo9725c"
   },
   "source": [
    "### Performance Report"
   ]
  },
  {
   "cell_type": "code",
   "execution_count": 21,
   "metadata": {
    "colab": {
     "base_uri": "https://localhost:8080/",
     "height": 329
    },
    "colab_type": "code",
    "id": "ZDA4O42q4YRW",
    "outputId": "4505d46c-cd06-4776-a804-cfcd7c18e327"
   },
   "outputs": [
    {
     "data": {
      "image/png": "[encoded data removed]",
      "text/plain": [
       "<Figure size 1050x350 with 2 Axes>"
      ]
     },
     "metadata": {
      "needs_background": "light"
     },
     "output_type": "display_data"
    }
   ],
   "source": [
    "fig = plt.figure(figsize=(15, 5), dpi = 70)\n",
    "\n",
    "x = np.arange(0, epochs)\n",
    "\n",
    "# error subplot\n",
    "plt.subplot(1, 2, 1)\n",
    "plt.plot(x, train_error, label=\"Training Set\")\n",
    "plt.plot(x, eval_error, label=\"Evaluation Set\")\n",
    "plt.ylabel(\"Error\", fontsize=10);\n",
    "plt.xlabel(\"Epochs\", fontsize=10);\n",
    "plt.legend(loc='upper right');\n",
    "\n",
    "# performance subplot\n",
    "plt.subplot(1, 2, 2)\n",
    "plt.plot(x, train_perf, label=\"Training Set\")\n",
    "plt.plot(x, eval_perf, label=\"Evaluation Set\")\n",
    "plt.ylabel(\"Performance (PCC)\", fontsize=10);\n",
    "plt.xlabel(\"Epochs\", fontsize=10);\n",
    "plt.legend(loc='lower left');"
   ]
  },
  {
   "cell_type": "code",
   "execution_count": null,
   "metadata": {
    "collapsed": true
   },
   "outputs": [],
   "source": []
  }
 ],
 "metadata": {
  "colab": {
   "collapsed_sections": [],
   "name": "neural_networks_v8_MN.ipynb",
   "provenance": [],
   "version": "0.3.2"
  },
  "kernelspec": {
   "display_name": "Python 3",
   "language": "python",
   "name": "python3"
  },
  "language_info": {
   "codemirror_mode": {
    "name": "ipython",
    "version": 3
   },
   "file_extension": ".py",
   "mimetype": "text/x-python",
   "name": "python",
   "nbconvert_exporter": "python",
   "pygments_lexer": "ipython3",
   "version": "3.9.5"
  }
 },
 "nbformat": 4,
 "nbformat_minor": 1
}
