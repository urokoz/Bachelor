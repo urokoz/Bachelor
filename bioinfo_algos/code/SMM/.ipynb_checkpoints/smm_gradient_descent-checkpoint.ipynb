{
 "cells": [
  {
   "cell_type": "markdown",
   "metadata": {
    "colab_type": "text",
    "id": "7kEGGMRKQBdl"
   },
   "source": [
    "# SMM with Gradient Descent"
   ]
  },
  {
   "cell_type": "markdown",
   "metadata": {
    "colab_type": "text",
    "id": "RDGR-iaV3vf1"
   },
   "source": [
    "## Python Imports"
   ]
  },
  {
   "cell_type": "code",
   "execution_count": 1,
   "metadata": {
    "colab": {},
    "colab_type": "code",
    "id": "IlFGxFZ997P4"
   },
   "outputs": [],
   "source": [
    "import numpy as np\n",
    "import random\n",
    "import copy\n",
    "from scipy.stats import pearsonr\n",
    "import matplotlib.pyplot as plt\n",
    "\n",
    "%matplotlib inline"
   ]
  },
  {
   "cell_type": "markdown",
   "metadata": {
    "colab_type": "text",
    "id": "L4zgNC-G3xwY"
   },
   "source": [
    "## Data Imports"
   ]
  },
  {
   "cell_type": "markdown",
   "metadata": {},
   "source": [
    "## DEFINE THE PATH TO YOUR COURSE DIRECTORY"
   ]
  },
  {
   "cell_type": "code",
   "execution_count": 2,
   "metadata": {
    "collapsed": true
   },
   "outputs": [],
   "source": [
    "data_dir = \"/home/mathias/bioinfo_algos/data/\""
   ]
  },
  {
   "cell_type": "markdown",
   "metadata": {
    "colab_type": "text",
    "id": "u01OKdaOzoZE"
   },
   "source": [
    "### Training Data"
   ]
  },
  {
   "cell_type": "code",
   "execution_count": 3,
   "metadata": {
    "colab": {},
    "colab_type": "code",
    "id": "U8Pb2U3lZ7Kz"
   },
   "outputs": [],
   "source": [
    "training_file = data_dir + \"SMM/A0201_training\"\n",
    "#training_file = data_dir + \"SMM/A2403_training\"\n",
    "\n",
    "training = np.loadtxt(training_file, dtype=str)"
   ]
  },
  {
   "cell_type": "markdown",
   "metadata": {
    "colab_type": "text",
    "id": "H3u9HV5hztkh"
   },
   "source": [
    "### Evaluation Data"
   ]
  },
  {
   "cell_type": "code",
   "execution_count": 4,
   "metadata": {
    "colab": {},
    "colab_type": "code",
    "collapsed": true,
    "id": "dyp8DTSLzu4V"
   },
   "outputs": [],
   "source": [
    "evaluation_file = data_dir + \"SMM/A0201_evaluation\"\n",
    "#evaluation_file = data_dir + \"SMM/A2403_evaluation\"\n",
    "evaluation = np.loadtxt(evaluation_file, dtype=str)"
   ]
  },
  {
   "cell_type": "markdown",
   "metadata": {
    "colab_type": "text",
    "id": "Uzw3jsGnzw0e"
   },
   "source": [
    "### Alphabet"
   ]
  },
  {
   "cell_type": "code",
   "execution_count": 5,
   "metadata": {
    "colab": {},
    "colab_type": "code",
    "collapsed": true,
    "id": "DYcVU4VLzyVe"
   },
   "outputs": [],
   "source": [
    "alphabet_file = data_dir + \"Matrices/alphabet\"\n",
    "alphabet = np.loadtxt(alphabet_file, dtype=str)"
   ]
  },
  {
   "cell_type": "markdown",
   "metadata": {
    "colab_type": "text",
    "id": "OWEAPaggz0dJ"
   },
   "source": [
    "### Sparse Encoding Scheme"
   ]
  },
  {
   "cell_type": "code",
   "execution_count": 6,
   "metadata": {
    "colab": {},
    "colab_type": "code",
    "id": "ecXsAxeMdYOX"
   },
   "outputs": [],
   "source": [
    "sparse_file = data_dir + \"Matrices/sparse\"\n",
    "_sparse = np.loadtxt(sparse_file, dtype=float)\n",
    "sparse = {}\n",
    "\n",
    "for i, letter_1 in enumerate(alphabet):\n",
    "    \n",
    "    sparse[letter_1] = {}\n",
    "\n",
    "    for j, letter_2 in enumerate(alphabet):\n",
    "        \n",
    "        sparse[letter_1][letter_2] = _sparse[i, j]"
   ]
  },
  {
   "cell_type": "markdown",
   "metadata": {
    "colab_type": "text",
    "id": "w2cQhiUW4QOL"
   },
   "source": [
    "## Peptide Encoding"
   ]
  },
  {
   "cell_type": "code",
   "execution_count": 7,
   "metadata": {
    "colab": {},
    "colab_type": "code",
    "collapsed": true,
    "id": "8UhmQwUfqNzK"
   },
   "outputs": [],
   "source": [
    "def encode(peptides, encoding_scheme, alphabet):\n",
    "    \n",
    "    encoded_peptides = []\n",
    "\n",
    "    for peptide in peptides:\n",
    "\n",
    "        encoded_peptide = []\n",
    "\n",
    "        for peptide_letter in peptide:\n",
    "\n",
    "            for alphabet_letter in alphabet:\n",
    "\n",
    "                encoded_peptide.append(encoding_scheme[peptide_letter][alphabet_letter])\n",
    "\n",
    "        encoded_peptides.append(encoded_peptide)\n",
    "        \n",
    "    return np.array(encoded_peptides)"
   ]
  },
  {
   "cell_type": "markdown",
   "metadata": {
    "colab_type": "text",
    "id": "ww-p6gy81mqk"
   },
   "source": [
    "## Error Function"
   ]
  },
  {
   "cell_type": "code",
   "execution_count": 8,
   "metadata": {
    "colab": {},
    "colab_type": "code",
    "collapsed": true,
    "id": "Hv2nx4Yq1lBf"
   },
   "outputs": [],
   "source": [
    "def cumulative_error(peptides, y, lamb, weights):\n",
    "\n",
    "    error = 0\n",
    "    \n",
    "    for i in range(0, len(peptides)):\n",
    "        \n",
    "        # get peptide\n",
    "        peptide = peptides[i]\n",
    "\n",
    "        # get target prediction value\n",
    "        y_target = y[i]\n",
    "        \n",
    "        # get prediction\n",
    "        y_pred = np.dot(peptide, weights)\n",
    "            \n",
    "        # calculate error\n",
    "        error += 1.0/2 * (y_pred - y_target)**2\n",
    "        \n",
    "    gerror = error + lamb*np.dot(weights, weights)\n",
    "    error /= len(peptides)\n",
    "        \n",
    "    return gerror, error"
   ]
  },
  {
   "cell_type": "markdown",
   "metadata": {},
   "source": [
    "## Predict value for a peptide list"
   ]
  },
  {
   "cell_type": "code",
   "execution_count": 9,
   "metadata": {
    "collapsed": true
   },
   "outputs": [],
   "source": [
    "def predict(peptides, weights):\n",
    "\n",
    "    pred = []\n",
    "    \n",
    "    for i in range(0, len(peptides)):\n",
    "        \n",
    "        # get peptide\n",
    "        peptide = peptides[i]\n",
    "        \n",
    "        # get prediction\n",
    "        y_pred = np.dot(peptide, weights)\n",
    "        \n",
    "        pred.append(y_pred)\n",
    "        \n",
    "    return pred"
   ]
  },
  {
   "cell_type": "markdown",
   "metadata": {},
   "source": [
    "## Calculate MSE between two vectors"
   ]
  },
  {
   "cell_type": "code",
   "execution_count": 10,
   "metadata": {
    "collapsed": true
   },
   "outputs": [],
   "source": [
    "def cal_mse(vec1, vec2):\n",
    "    \n",
    "    mse = 0\n",
    "    \n",
    "    for i in range(0, len(vec1)):\n",
    "        mse += (vec1[i] - vec2[i])**2\n",
    "        \n",
    "    mse /= len(vec1)\n",
    "    \n",
    "    return( mse)"
   ]
  },
  {
   "cell_type": "markdown",
   "metadata": {
    "colab_type": "text",
    "id": "kfvPqSjL2g7u"
   },
   "source": [
    "## Gradient Descent"
   ]
  },
  {
   "cell_type": "code",
   "execution_count": 11,
   "metadata": {
    "colab": {},
    "colab_type": "code",
    "collapsed": true,
    "id": "HMXHiHmE2gh9"
   },
   "outputs": [],
   "source": [
    "def gradient_descent(y_pred, y_target, peptide, weights, lamb_N, epsilon):\n",
    "    \n",
    "    # do is dE/dO\n",
    "    do = XX\n",
    "        \n",
    "    for i in range(0, len(weights)):\n",
    "        \n",
    "        de_dw_i = XX\n",
    "\n",
    "        weights[i] -= XX"
   ]
  },
  {
   "cell_type": "markdown",
   "metadata": {
    "colab_type": "text",
    "id": "AHXm8HAm4S_u"
   },
   "source": [
    "## Main Loop\n",
    "\n"
   ]
  },
  {
   "cell_type": "code",
   "execution_count": 12,
   "metadata": {
    "colab": {
     "base_uri": "https://localhost:8080/",
     "height": 1717
    },
    "colab_type": "code",
    "id": "EcHQYE2sja-y",
    "outputId": "3939a58c-88ac-4ae1-b680-edc4c2c913a1"
   },
   "outputs": [
    {
     "name": "stdout",
     "output_type": "stream",
     "text": [
      "Epoch:  0 Gerr: 43.7508898582 0.7895094244 0.0353915311753 0.756134778704 0.0401671513077\n",
      "Epoch:  1 Gerr: 38.8815272406 0.815474149678 0.0314509904679 0.775952982487 0.0375366520354\n",
      "Epoch:  2 Gerr: 38.3350779686 0.818930546644 0.0310083489733 0.785626429933 0.0364964950126\n",
      "Epoch:  3 Gerr: 37.4438268929 0.822999683642 0.0302875921829 0.788136649636 0.0357987022153\n",
      "Epoch:  4 Gerr: 37.3655541883 0.82536822212 0.0302239281574 0.788246437239 0.0366183666959\n",
      "Epoch:  5 Gerr: 37.7267631147 0.822148391473 0.0305156844498 0.777040624895 0.0380909178815\n",
      "Epoch:  6 Gerr: 37.6259017647 0.823319142866 0.0304344472423 0.790208914554 0.0356469503205\n",
      "Epoch:  7 Gerr: 37.0467600255 0.825700495885 0.0299658083576 0.78696035468 0.0363221783032\n",
      "Epoch:  8 Gerr: 37.2104871827 0.824609244613 0.0300984398645 0.783946169431 0.0366592057241\n",
      "Epoch:  9 Gerr: 37.2874554528 0.82385409531 0.0301606504879 0.788025382948 0.0357152307299\n",
      "Epoch:  10 Gerr: 37.1244558096 0.824786338151 0.0300285842599 0.789950634094 0.0356786113017\n",
      "Epoch:  11 Gerr: 37.541291811 0.822874414136 0.0303656909828 0.782315411431 0.0370552028838\n",
      "Epoch:  12 Gerr: 37.4629920003 0.823669601855 0.0303022389109 0.785058797252 0.0368213478455\n",
      "Epoch:  13 Gerr: 37.2894357727 0.824590681047 0.0301622684661 0.787748728747 0.0361125114153\n",
      "Epoch:  14 Gerr: 36.9864007531 0.825375634091 0.0299170307083 0.78526970549 0.0363085810869\n",
      "Epoch:  15 Gerr: 37.748288916 0.822129112971 0.0305334609645 0.782868031055 0.0367523747533\n",
      "Epoch:  16 Gerr: 37.2720556542 0.824352366411 0.0301479369103 0.78087472954 0.0373760574111\n",
      "Epoch:  17 Gerr: 37.105779112 0.824924743682 0.0300133226584 0.785312084975 0.0364075758287\n",
      "Epoch:  18 Gerr: 37.115146897 0.824814108965 0.0300211362612 0.784816491908 0.0363252557908\n",
      "Epoch:  19 Gerr: 37.4981162605 0.823710443715 0.0303307822072 0.782106199406 0.0371180014254\n",
      "Epoch:  20 Gerr: 36.911724153 0.825720143146 0.0298562570097 0.789209622455 0.0356938681029\n",
      "Epoch:  21 Gerr: 37.7174883823 0.824970190103 0.0305076922939 0.78772115652 0.0370707305472\n",
      "Epoch:  22 Gerr: 37.2488591924 0.82531838828 0.0301286938206 0.787727243245 0.0362236565121\n",
      "Epoch:  23 Gerr: 37.7785108406 0.82220372001 0.0305575916605 0.783343277431 0.0367461035545\n",
      "Epoch:  24 Gerr: 37.5160516016 0.823254498667 0.0303451438432 0.78679910884 0.036212791957\n",
      "Epoch:  25 Gerr: 37.9693164139 0.823260833912 0.0307114558586 0.784872603934 0.0371849289223\n",
      "Epoch:  26 Gerr: 37.4097849482 0.823129093494 0.0302592147943 0.783089431728 0.036621399576\n",
      "Epoch:  27 Gerr: 37.1157942552 0.825641223037 0.0300211231951 0.783222976719 0.0370976161374\n",
      "Epoch:  28 Gerr: 36.8314120811 0.826682717716 0.0297910818143 0.788698926234 0.0362365342626\n",
      "Epoch:  29 Gerr: 37.1642982853 0.82596583526 0.0300607026174 0.786001629479 0.0364799498778\n",
      "Epoch:  30 Gerr: 37.1916172866 0.824863173663 0.0300824585586 0.781612697835 0.0372457431674\n",
      "Epoch:  31 Gerr: 37.4187934683 0.823969719842 0.0302665451612 0.784839387932 0.0365109577989\n",
      "Epoch:  32 Gerr: 37.4110307395 0.824444667435 0.030260285328 0.790787830946 0.0355190528451\n",
      "Epoch:  33 Gerr: 37.4218232994 0.823153158155 0.0302689203048 0.774563529287 0.0378608919639\n",
      "Epoch:  34 Gerr: 37.1455520659 0.82504695169 0.030045300271 0.790376748011 0.0355148391086\n",
      "Epoch:  35 Gerr: 37.1369876047 0.824658361962 0.0300384378852 0.780094185421 0.0370267487636\n",
      "Epoch:  36 Gerr: 37.0791198345 0.825384640365 0.0299916210608 0.785109807647 0.0365139009538\n",
      "Epoch:  37 Gerr: 37.1489417778 0.824469072133 0.0300482855166 0.783923408178 0.0363340430595\n",
      "Epoch:  38 Gerr: 37.0797361834 0.824932685873 0.0299921694132 0.785989191989 0.0361252555598\n",
      "Epoch:  39 Gerr: 37.425275409 0.824180814837 0.0302714989761 0.783321468846 0.0369841834856\n",
      "Epoch:  40 Gerr: 37.762124651 0.823805470491 0.0305443032768 0.789142171133 0.0362136083593\n",
      "Epoch:  41 Gerr: 37.3060382229 0.824101671212 0.0301752697871 0.787114282583 0.0358878377973\n",
      "Epoch:  42 Gerr: 38.0820918335 0.822949771101 0.0308027943019 0.795440786207 0.0354162922454\n",
      "Epoch:  43 Gerr: 37.0565230433 0.824964187397 0.0299733749263 0.787196959489 0.0358740525683\n",
      "Epoch:  44 Gerr: 37.3304291666 0.824083862656 0.0301949986472 0.787231078055 0.0362790942572\n",
      "Epoch:  45 Gerr: 37.4578345602 0.823125645756 0.0302981579213 0.785304178954 0.0364493376182\n",
      "Epoch:  46 Gerr: 37.3293015623 0.823894975295 0.0301941063222 0.777733013809 0.0375996092535\n",
      "Epoch:  47 Gerr: 37.5936552588 0.822480510963 0.0304081809056 0.778424972998 0.0371483818256\n",
      "Epoch:  48 Gerr: 37.3118695675 0.824011753391 0.0301798867078 0.78683581395 0.0362006686212\n",
      "Epoch:  49 Gerr: 37.5102330692 0.822939698753 0.0303404017874 0.783558122257 0.0367949358077\n",
      "Epoch:  50 Gerr: 37.1870457824 0.824871912089 0.0300789542369 0.78182400845 0.0371247767321\n",
      "Epoch:  51 Gerr: 37.3917368505 0.823741227005 0.0302448527865 0.785693960345 0.0363789955495\n",
      "Epoch:  52 Gerr: 37.4288360865 0.823548893661 0.0302746964074 0.7851070301 0.0366368989316\n",
      "Epoch:  53 Gerr: 37.0449709608 0.82523025976 0.0299642109079 0.786688334185 0.0362426361414\n",
      "Epoch:  54 Gerr: 37.5040951635 0.822611450555 0.0303356672854 0.782816430515 0.0365661594447\n",
      "Epoch:  55 Gerr: 37.2463168683 0.824737039875 0.0301269293613 0.785459059687 0.0365460969086\n",
      "Epoch:  56 Gerr: 37.4754093145 0.824178036215 0.030312237208 0.792695574692 0.0354104219818\n",
      "Epoch:  57 Gerr: 37.6420900691 0.824243961776 0.0304470044254 0.789553562547 0.0359832789564\n",
      "Epoch:  58 Gerr: 37.1243651275 0.824764603569 0.030028302658 0.787849906928 0.0361296436288\n",
      "Epoch:  59 Gerr: 37.773940757 0.822842704252 0.0305536511506 0.781881888158 0.0373516908939\n",
      "Epoch:  60 Gerr: 37.1994351105 0.824484009038 0.0300889524504 0.787791606557 0.0361300660048\n",
      "Epoch:  61 Gerr: 37.4311878371 0.824330216722 0.0302767436447 0.782722962489 0.0368004918292\n",
      "Epoch:  62 Gerr: 36.9051213508 0.825957060464 0.029851081527 0.786295628493 0.0362039467926\n",
      "Epoch:  63 Gerr: 37.0302025457 0.825660264608 0.0299520451447 0.790365787455 0.0357945821592\n",
      "Epoch:  64 Gerr: 37.2305006613 0.82428349363 0.0301141598456 0.788642838746 0.0359832305139\n",
      "Epoch:  65 Gerr: 37.7298602954 0.825504898743 0.0305184728577 0.785680481284 0.0369628460995\n",
      "Epoch:  66 Gerr: 37.3872214866 0.823332313553 0.0302410747687 0.784785666438 0.0363591165019\n",
      "Epoch:  67 Gerr: 37.1035853155 0.824812729042 0.0300117039152 0.785117121739 0.0362414873206\n",
      "Epoch:  68 Gerr: 37.4758207755 0.824234499125 0.0303125865669 0.786395113593 0.0366588540993\n",
      "Epoch:  69 Gerr: 37.8390094433 0.82226055119 0.0306067792242 0.777485272477 0.0373900619797\n",
      "Epoch:  70 Gerr: 37.4804917044 0.823135782497 0.0303163029101 0.784515909813 0.0365849361349\n",
      "Epoch:  71 Gerr: 37.804304488 0.82113329411 0.0305782211785 0.781774344307 0.0369016632253\n",
      "Epoch:  72 Gerr: 37.4694814572 0.822839771565 0.0303075594668 0.780695485489 0.0369195322059\n",
      "Epoch:  73 Gerr: 37.2237074409 0.824261050015 0.030108645643 0.783916385595 0.0365366127964\n",
      "Epoch:  74 Gerr: 37.2756014935 0.824200969891 0.0301506855422 0.788416707884 0.0361268509688\n",
      "Epoch:  75 Gerr: 37.747140636 0.822897881926 0.0305323042186 0.783309197422 0.0367901807456\n",
      "Epoch:  76 Gerr: 37.2520609027 0.824719673979 0.0301316216363 0.781340176066 0.0369180167249\n",
      "Epoch:  77 Gerr: 36.9701871727 0.825416706935 0.0299036579077 0.783961781837 0.0364547518334\n",
      "Epoch:  78 Gerr: 37.1720026208 0.824899429736 0.0300668403212 0.792219421489 0.035518294086\n",
      "Epoch:  79 Gerr: 37.4274892919 0.823645897554 0.0302733784094 0.783242621725 0.0369188501333\n",
      "Epoch:  80 Gerr: 37.9059442971 0.822004253904 0.0306605904071 0.780870639711 0.0374099619176\n",
      "Epoch:  81 Gerr: 37.1293440748 0.824953366718 0.0300319174583 0.783630573218 0.0369119600381\n",
      "Epoch:  82 Gerr: 37.5460500891 0.824156867035 0.0303692513705 0.788798069977 0.0362916321012\n",
      "Epoch:  83 Gerr: 37.0823049902 0.825136611254 0.0299941088763 0.786156832346 0.0365001599226\n",
      "Epoch:  84 Gerr: 36.8601553116 0.826266804668 0.0298141913215 0.78738368503 0.0362540205366\n",
      "Epoch:  85 Gerr: 37.2602089906 0.82393671447 0.0301378423458 0.778683587433 0.0375797493597\n",
      "Epoch:  86 Gerr: 37.6210887791 0.823044292786 0.0304294148094 0.777121723996 0.0382264064151\n",
      "Epoch:  87 Gerr: 37.9501794236 0.824274377193 0.030695985983 0.787004622746 0.0367710038262\n",
      "Epoch:  88 Gerr: 37.6996640573 0.823932554375 0.0304931427359 0.785850712307 0.0368521205424\n",
      "Epoch:  89 Gerr: 36.9535546673 0.825562098393 0.0298901395145 0.78859447903 0.0360470315809\n",
      "Epoch:  90 Gerr: 37.1405723429 0.824807904363 0.0300412740937 0.788876173894 0.0358365793484\n",
      "Epoch:  91 Gerr: 37.1772599017 0.824703972623 0.0300707924578 0.790610900895 0.0357708692761\n",
      "Epoch:  92 Gerr: 37.7945843117 0.823539591865 0.0305705462077 0.781985761503 0.0371880024327\n",
      "Epoch:  93 Gerr: 37.4795828057 0.823569566021 0.0303155480902 0.785777449576 0.0363794634453\n",
      "Epoch:  94 Gerr: 37.3060355681 0.825323074622 0.030175041332 0.789924096531 0.0358918966814\n",
      "Epoch:  95 Gerr: 38.2588089795 0.82298426794 0.0309463773674 0.783037684899 0.0372095302483\n",
      "Epoch:  96 Gerr: 37.9175726599 0.821940560249 0.0306700896647 0.780892428351 0.0372711713867\n",
      "Epoch:  97 Gerr: 37.1315558096 0.825036696439 0.0300340147801 0.787863008429 0.0361019044316\n",
      "Epoch:  98 Gerr: 37.4367390936 0.823302865386 0.0302808854453 0.782703502663 0.0367962823527\n",
      "Epoch:  99 Gerr: 37.5261161749 0.823490716617 0.0303530245043 0.784989021532 0.0368761831719\n"
     ]
    }
   ],
   "source": [
    "# Random seed \n",
    "np.random.seed( 1 )\n",
    "\n",
    "# peptides\n",
    "peptides = training[:, 0]\n",
    "peptides = encode(peptides, sparse, alphabet)\n",
    "N = len(peptides)\n",
    "\n",
    "# target values\n",
    "y = np.array(training[:, 1], dtype=float)\n",
    "\n",
    "#evaluation peptides\n",
    "evaluation_peptides = evaluation[:, 0]\n",
    "evaluation_peptides = encode(evaluation_peptides, sparse, alphabet)\n",
    "\n",
    "#evaluation targets\n",
    "evaluation_targets = np.array(evaluation[:, 1], dtype=float)\n",
    "\n",
    "# weights\n",
    "input_dim  = len(peptides[0])\n",
    "output_dim = 1\n",
    "w_bound = 0.1\n",
    "weights = np.random.uniform(-w_bound, w_bound, size=input_dim)\n",
    "\n",
    "# training epochs\n",
    "epochs = 100\n",
    "\n",
    "# regularization lambda\n",
    "#lamb = 1\n",
    "#lamb = 10\n",
    "lamb = 0.01\n",
    "\n",
    "# regularization lambda per target value\n",
    "lamb_N = lamb/N\n",
    "\n",
    "# learning rate\n",
    "epsilon = 0.01\n",
    "\n",
    "# error  plot\n",
    "gerror_plot = []\n",
    "mse_plot = []\n",
    "train_mse_plot = []\n",
    "eval_mse_plot = []\n",
    "train_pcc_plot = []\n",
    "eval_pcc_plot = []\n",
    "\n",
    "# for each training epoch\n",
    "for e in range(0, epochs):\n",
    "\n",
    "    # for each peptide\n",
    "    for i in range(0, N):\n",
    "\n",
    "        # random index\n",
    "        ix = np.random.randint(0, N)\n",
    "        \n",
    "        # get peptide       \n",
    "        peptide = peptides[ix]\n",
    "\n",
    "        # get target prediction value\n",
    "        y_target = y[ix]\n",
    "       \n",
    "        # get initial prediction\n",
    "        y_pred = np.dot(peptide, weights)\n",
    "\n",
    "        # gradient descent \n",
    "        gradient_descent(y_pred, y_target, peptide, weights, lamb_N, epsilon)\n",
    "\n",
    "    # compute error\n",
    "    gerr, mse = cumulative_error(peptides, y, lamb, weights) \n",
    "    gerror_plot.append(gerr)\n",
    "    mse_plot.append(mse)\n",
    "    \n",
    "    # predict on training data\n",
    "    train_pred = predict( peptides, weights )\n",
    "    train_mse = cal_mse( y, train_pred )\n",
    "    train_mse_plot.append(train_mse)\n",
    "    train_pcc = pearsonr( y, train_pred )\n",
    "    train_pcc_plot.append( train_pcc[0] )\n",
    "        \n",
    "    # predict on evaluation data\n",
    "    eval_pred = predict(evaluation_peptides, weights )\n",
    "    eval_mse = cal_mse(evaluation_targets, eval_pred )\n",
    "    eval_mse_plot.append(eval_mse)\n",
    "    eval_pcc = pearsonr(evaluation_targets, eval_pred)\n",
    "    eval_pcc_plot.append( eval_pcc[0] )\n",
    "    \n",
    "    print (\"Epoch: \", e, \"Gerr:\", gerr, train_pcc[0], train_mse, eval_pcc[0], eval_mse)"
   ]
  },
  {
   "cell_type": "markdown",
   "metadata": {
    "colab_type": "text",
    "id": "gN8BPXSm0HVy"
   },
   "source": [
    "## Error Plot"
   ]
  },
  {
   "cell_type": "code",
   "execution_count": 17,
   "metadata": {
    "colab": {
     "base_uri": "https://localhost:8080/",
     "height": 286
    },
    "colab_type": "code",
    "id": "Nca2qMKSOjGP",
    "outputId": "31d1c685-a0c2-4939-e34c-1961b744d686"
   },
   "outputs": [
    {
     "data": {
      "image/png": "[encoded data removed]",
      "text/plain": [
       "<matplotlib.figure.Figure at 0x106922c10>"
      ]
     },
     "metadata": {},
     "output_type": "display_data"
    }
   ],
   "source": [
    "fig = plt.figure(figsize=(10, 10), dpi= 80)\n",
    "\n",
    "x = np.arange(0, len(gerror_plot))\n",
    "\n",
    "plt.subplot(2, 2, 1)\n",
    "plt.plot(x, gerror_plot)\n",
    "plt.ylabel(\"Global Error\", fontsize=10);\n",
    "plt.xlabel(\"Iterations\", fontsize=10);\n",
    "\n",
    "plt.subplot(2, 2, 2)\n",
    "plt.plot(x, mse_plot)\n",
    "plt.ylabel(\"MSE\", fontsize=10);\n",
    "plt.xlabel(\"Iterations\", fontsize=10);\n",
    "\n",
    "\n",
    "x = np.arange(0, len(train_mse_plot))\n",
    "\n",
    "plt.subplot(2, 2, 3)\n",
    "plt.plot(x, train_mse_plot, label=\"Training Set\")\n",
    "plt.plot(x, eval_mse_plot, label=\"Evaluation Set\")\n",
    "plt.ylabel(\"Mean Squared Error\", fontsize=10);\n",
    "plt.xlabel(\"Iterations\", fontsize=10);\n",
    "plt.legend(loc='upper right');\n",
    "\n",
    "\n",
    "plt.subplot(2, 2, 4)\n",
    "plt.plot(x, train_pcc_plot, label=\"Training Set\")\n",
    "plt.plot(x, eval_pcc_plot, label=\"Evaluation Set\")\n",
    "plt.ylabel(\"Pearson Correlation\", fontsize=10);\n",
    "plt.xlabel(\"Iterations\", fontsize=10);\n",
    "plt.legend(loc='upper left');"
   ]
  },
  {
   "cell_type": "markdown",
   "metadata": {
    "colab_type": "text",
    "id": "Rs25DaDT0Wub"
   },
   "source": [
    "## Get PSSM Matrix"
   ]
  },
  {
   "cell_type": "markdown",
   "metadata": {
    "colab_type": "text",
    "id": "6UDmJBpo0Y10"
   },
   "source": [
    "### Vector to Matrix"
   ]
  },
  {
   "cell_type": "code",
   "execution_count": 20,
   "metadata": {
    "colab": {},
    "colab_type": "code",
    "collapsed": true,
    "id": "Him7vVoh0arv"
   },
   "outputs": [],
   "source": [
    "# our matrices are vectors of dictionaries\n",
    "def vector_to_matrix(vector, alphabet):\n",
    "    \n",
    "    rows = int(len(vector)/len(alphabet))\n",
    "    \n",
    "    matrix = [0] * rows\n",
    "    \n",
    "    offset = 0\n",
    "    \n",
    "    for i in range(0, rows):\n",
    "        \n",
    "        matrix[i] = {}\n",
    "        \n",
    "        for j in range(0, 20):\n",
    "            \n",
    "            matrix[i][alphabet[j]] = vector[j+offset] \n",
    "        \n",
    "        offset += len(alphabet)\n",
    "\n",
    "    return matrix"
   ]
  },
  {
   "cell_type": "markdown",
   "metadata": {
    "colab_type": "text",
    "id": "nvrlgKrS0awJ"
   },
   "source": [
    "### Matrix to Psi-Blast"
   ]
  },
  {
   "cell_type": "code",
   "execution_count": 21,
   "metadata": {
    "colab": {},
    "colab_type": "code",
    "collapsed": true,
    "id": "e63tgdna0cs3"
   },
   "outputs": [],
   "source": [
    "def to_psi_blast(matrix):\n",
    "\n",
    "    # print to user\n",
    "    \n",
    "    header = [\"\", \"A\", \"R\", \"N\", \"D\", \"C\", \"Q\", \"E\", \"G\", \"H\", \"I\", \"L\", \"K\", \"M\", \"F\", \"P\", \"S\", \"T\", \"W\", \"Y\", \"V\"]\n",
    "\n",
    "    print('{:>4} {:>8} {:>8} {:>8} {:>8} {:>8} {:>8} {:>8} {:>8} {:>8} {:>8} {:>8} {:>8} {:>8} {:>8} {:>8} {:>8} {:>8} {:>8} {:>8} {:>8}'.format(*header)) \n",
    "\n",
    "    letter_order = [\"A\", \"R\", \"N\", \"D\", \"C\", \"Q\", \"E\", \"G\", \"H\", \"I\", \"L\", \"K\", \"M\", \"F\", \"P\", \"S\", \"T\", \"W\", \"Y\", \"V\"]\n",
    "\n",
    "    for i, row in enumerate(matrix):\n",
    "\n",
    "        scores = []\n",
    "\n",
    "        scores.append(str(i+1) + \" A\")\n",
    "\n",
    "        for letter in letter_order:\n",
    "\n",
    "            score = row[letter]\n",
    "\n",
    "            scores.append(round(score, 4))\n",
    "\n",
    "        print('{:>4} {:>8} {:>8} {:>8} {:>8} {:>8} {:>8} {:>8} {:>8} {:>8} {:>8} {:>8} {:>8} {:>8} {:>8} {:>8} {:>8} {:>8} {:>8} {:>8} {:>8}'.format(*scores)) "
   ]
  },
  {
   "cell_type": "markdown",
   "metadata": {
    "colab_type": "text",
    "id": "hlxa9_Ik0cxc"
   },
   "source": [
    "### Print"
   ]
  },
  {
   "cell_type": "code",
   "execution_count": 22,
   "metadata": {
    "colab": {
     "base_uri": "https://localhost:8080/",
     "height": 187
    },
    "colab_type": "code",
    "id": "72AM0xu40iUV",
    "outputId": "0d4813af-41f5-418a-85c7-4dde29ead1c9"
   },
   "outputs": [
    {
     "name": "stdout",
     "output_type": "stream",
     "text": [
      "            A        R        N        D        C        Q        E        G        H        I        L        K        M        F        P        S        T        W        Y        V\n",
      " 1 A   0.1048   0.1465   -0.047  -0.1545  -0.1715  -0.1148   -0.055  -0.0397   0.0231  -0.0886   0.0098   0.0697   0.0413   0.0927   -0.087  -0.0691    0.051  -0.0236   0.1263   0.0298\n",
      " 2 A  -0.0372   0.0918   -0.058  -0.2242   0.0081   0.1116   -0.116   0.0016   0.0127   0.0495  -0.0377  -0.0155   0.0393   0.2415  -0.0712   0.0431   0.0549   0.1232    0.366   -0.018\n",
      " 3 A  -0.0284  -0.0387   0.0318  -0.0645   -0.129   0.0773  -0.0755    0.035  -0.0083   0.0152   0.1158   0.0343   0.0934  -0.0133   0.0688  -0.0652  -0.1295     0.12   0.0724  -0.0006\n",
      " 4 A  -0.0551  -0.0149   0.0901  -0.0388   0.0773  -0.0553   0.0356   0.0289   0.0872   0.0862   0.0048   0.1051  -0.1299  -0.0233   0.1513   0.0242   0.1631  -0.0152  -0.1387   0.0257\n",
      " 5 A   0.0235  -0.2192   0.0393   0.0728  -0.0999   0.1092   0.1148   0.0797   0.0184   0.0929   0.0116  -0.0728   0.1386   0.0409   0.1414  -0.0035   0.0747   0.0231   0.0136   0.0174\n",
      " 6 A  -0.0719   0.0065   0.0056  -0.0688    0.044  -0.0761   0.0209  -0.0532   0.1643   0.0513   0.1449  -0.0276   0.0228   0.0655   0.0658   0.0219   0.0673   0.0473    0.158   0.0771\n",
      " 7 A  -0.0241  -0.0654   0.0898   0.0074  -0.0334   0.0507   0.0891  -0.0092   0.1333   0.0079  -0.0265  -0.0248  -0.0454   0.0102   0.0591   0.0436   0.0194   0.0253   0.0007  -0.0425\n",
      " 8 A   0.0413  -0.0516   -0.023  -0.0311   0.0268  -0.0509   0.0018  -0.0006   0.1076   -0.187   -0.071   0.1085   0.0254  -0.0003  -0.0212  -0.0014   0.1233   -0.141   0.0342   0.0704\n",
      " 9 A  -0.0153   -0.094   0.0235   0.0382  -0.1726  -0.0171  -0.0663   0.0438   0.0241   0.0154    0.077  -0.1239   0.0789   0.2585  -0.0156  -0.0216   0.0549   0.2165  -0.0608  -0.0708\n"
     ]
    }
   ],
   "source": [
    "matrix = vector_to_matrix(weights, alphabet)\n",
    "to_psi_blast(matrix)"
   ]
  },
  {
   "cell_type": "markdown",
   "metadata": {
    "colab_type": "text",
    "id": "Eq3byUBi0OAT"
   },
   "source": [
    "## Performance Evaluation"
   ]
  },
  {
   "cell_type": "code",
   "execution_count": 13,
   "metadata": {
    "colab": {},
    "colab_type": "code",
    "collapsed": true,
    "id": "lh7HCLo7PjKi"
   },
   "outputs": [],
   "source": [
    "evaluation_peptides = evaluation[:, 0]\n",
    "evaluation_peptides = np.array(encode(evaluation_peptides, sparse, alphabet))\n",
    "\n",
    "evaluation_targets = np.array(evaluation[:, 1], dtype=float)\n",
    "\n",
    "y_pred = []\n",
    "for i in range(0, len(evaluation_peptides)):\n",
    "    y_pred.append(np.dot(evaluation_peptides[i].T, weights))\n",
    "\n",
    "y_pred = np.array(y_pred)"
   ]
  },
  {
   "cell_type": "code",
   "execution_count": 14,
   "metadata": {
    "colab": {
     "base_uri": "https://localhost:8080/",
     "height": 286
    },
    "colab_type": "code",
    "id": "lAPfkFcCRsuc",
    "outputId": "1c409c4d-af9a-4021-c9d8-e6f374098a1c"
   },
   "outputs": [
    {
     "name": "stdout",
     "output_type": "stream",
     "text": [
      "('PCC: ', 0.78498902153162176)\n"
     ]
    },
    {
     "name": "stderr",
     "output_type": "stream",
     "text": [
      "/Users/mniel/anaconda/lib/python2.7/site-packages/matplotlib/collections.py:590: FutureWarning: elementwise comparison failed; returning scalar instead, but in the future will perform elementwise comparison\n",
      "  if self._edgecolors == str('face'):\n"
     ]
    },
    {
     "data": {
      "image/png": "[encoded data removed]",
      "text/plain": [
       "<matplotlib.figure.Figure at 0x106a35b50>"
      ]
     },
     "metadata": {},
     "output_type": "display_data"
    }
   ],
   "source": [
    "pcc = pearsonr(evaluation_targets, np.array(y_pred))\n",
    "print(\"PCC: \", pcc[0])\n",
    "\n",
    "plt.scatter(y_pred, evaluation_targets);"
   ]
  },
  {
   "cell_type": "code",
   "execution_count": null,
   "metadata": {
    "collapsed": true
   },
   "outputs": [],
   "source": []
  },
  {
   "cell_type": "code",
   "execution_count": null,
   "metadata": {
    "collapsed": true
   },
   "outputs": [],
   "source": []
  }
 ],
 "metadata": {
  "colab": {
   "collapsed_sections": [],
   "name": "smm_gradient_descent_v2.ipynb",
   "provenance": [],
   "version": "0.3.2"
  },
  "kernelspec": {
   "display_name": "Python 3",
   "language": "python",
   "name": "python3"
  },
  "language_info": {
   "codemirror_mode": {
    "name": "ipython",
    "version": 3
   },
   "file_extension": ".py",
   "mimetype": "text/x-python",
   "name": "python",
   "nbconvert_exporter": "python",
   "pygments_lexer": "ipython3",
   "version": "3.9.5"
  }
 },
 "nbformat": 4,
 "nbformat_minor": 1
}
