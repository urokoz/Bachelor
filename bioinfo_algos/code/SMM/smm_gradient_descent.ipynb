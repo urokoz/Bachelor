{
 "cells": [
  {
   "cell_type": "markdown",
   "metadata": {
    "colab_type": "text",
    "id": "7kEGGMRKQBdl"
   },
   "source": [
    "# SMM with Gradient Descent"
   ]
  },
  {
   "cell_type": "markdown",
   "metadata": {
    "colab_type": "text",
    "id": "RDGR-iaV3vf1"
   },
   "source": [
    "## Python Imports"
   ]
  },
  {
   "cell_type": "code",
   "execution_count": 1,
   "metadata": {
    "colab": {},
    "colab_type": "code",
    "id": "IlFGxFZ997P4"
   },
   "outputs": [],
   "source": [
    "import numpy as np\n",
    "import random\n",
    "import copy\n",
    "from scipy.stats import pearsonr\n",
    "import matplotlib.pyplot as plt\n",
    "\n",
    "%matplotlib inline"
   ]
  },
  {
   "cell_type": "markdown",
   "metadata": {
    "colab_type": "text",
    "id": "L4zgNC-G3xwY"
   },
   "source": [
    "## Data Imports"
   ]
  },
  {
   "cell_type": "markdown",
   "metadata": {},
   "source": [
    "## DEFINE THE PATH TO YOUR COURSE DIRECTORY"
   ]
  },
  {
   "cell_type": "code",
   "execution_count": 2,
   "metadata": {},
   "outputs": [],
   "source": [
    "data_dir = \"/home/mathias/bioinfo_algos/data/\""
   ]
  },
  {
   "cell_type": "markdown",
   "metadata": {
    "colab_type": "text",
    "id": "u01OKdaOzoZE"
   },
   "source": [
    "### Training Data"
   ]
  },
  {
   "cell_type": "code",
   "execution_count": 3,
   "metadata": {
    "colab": {},
    "colab_type": "code",
    "id": "U8Pb2U3lZ7Kz"
   },
   "outputs": [],
   "source": [
    "training_file = data_dir + \"SMM/A0201_training\"\n",
    "#training_file = data_dir + \"SMM/A2403_training\"\n",
    "\n",
    "training = np.loadtxt(training_file, dtype=str)"
   ]
  },
  {
   "cell_type": "markdown",
   "metadata": {
    "colab_type": "text",
    "id": "H3u9HV5hztkh"
   },
   "source": [
    "### Evaluation Data"
   ]
  },
  {
   "cell_type": "code",
   "execution_count": 4,
   "metadata": {
    "colab": {},
    "colab_type": "code",
    "id": "dyp8DTSLzu4V"
   },
   "outputs": [],
   "source": [
    "evaluation_file = data_dir + \"SMM/A0201_evaluation\"\n",
    "#evaluation_file = data_dir + \"SMM/A2403_evaluation\"\n",
    "evaluation = np.loadtxt(evaluation_file, dtype=str)"
   ]
  },
  {
   "cell_type": "markdown",
   "metadata": {
    "colab_type": "text",
    "id": "Uzw3jsGnzw0e"
   },
   "source": [
    "### Alphabet"
   ]
  },
  {
   "cell_type": "code",
   "execution_count": 5,
   "metadata": {
    "colab": {},
    "colab_type": "code",
    "id": "DYcVU4VLzyVe"
   },
   "outputs": [],
   "source": [
    "alphabet_file = data_dir + \"Matrices/alphabet\"\n",
    "alphabet = np.loadtxt(alphabet_file, dtype=str)"
   ]
  },
  {
   "cell_type": "markdown",
   "metadata": {
    "colab_type": "text",
    "id": "OWEAPaggz0dJ"
   },
   "source": [
    "### Sparse Encoding Scheme"
   ]
  },
  {
   "cell_type": "code",
   "execution_count": 6,
   "metadata": {
    "colab": {},
    "colab_type": "code",
    "id": "ecXsAxeMdYOX"
   },
   "outputs": [],
   "source": [
    "sparse_file = data_dir + \"Matrices/sparse\"\n",
    "_sparse = np.loadtxt(sparse_file, dtype=float)\n",
    "sparse = {}\n",
    "\n",
    "for i, letter_1 in enumerate(alphabet):\n",
    "    \n",
    "    sparse[letter_1] = {}\n",
    "\n",
    "    for j, letter_2 in enumerate(alphabet):\n",
    "        \n",
    "        sparse[letter_1][letter_2] = _sparse[i, j]"
   ]
  },
  {
   "cell_type": "markdown",
   "metadata": {
    "colab_type": "text",
    "id": "w2cQhiUW4QOL"
   },
   "source": [
    "## Peptide Encoding"
   ]
  },
  {
   "cell_type": "code",
   "execution_count": 7,
   "metadata": {
    "colab": {},
    "colab_type": "code",
    "id": "8UhmQwUfqNzK"
   },
   "outputs": [],
   "source": [
    "def encode(peptides, encoding_scheme, alphabet):\n",
    "    \n",
    "    encoded_peptides = []\n",
    "\n",
    "    for peptide in peptides:\n",
    "\n",
    "        encoded_peptide = []\n",
    "\n",
    "        for peptide_letter in peptide:\n",
    "\n",
    "            for alphabet_letter in alphabet:\n",
    "\n",
    "                encoded_peptide.append(encoding_scheme[peptide_letter][alphabet_letter])\n",
    "\n",
    "        encoded_peptides.append(encoded_peptide)\n",
    "        \n",
    "    return np.array(encoded_peptides)"
   ]
  },
  {
   "cell_type": "markdown",
   "metadata": {
    "colab_type": "text",
    "id": "ww-p6gy81mqk"
   },
   "source": [
    "## Error Function"
   ]
  },
  {
   "cell_type": "code",
   "execution_count": 8,
   "metadata": {
    "colab": {},
    "colab_type": "code",
    "id": "Hv2nx4Yq1lBf"
   },
   "outputs": [],
   "source": [
    "def cumulative_error(peptides, y, lamb, weights):\n",
    "\n",
    "    error = 0\n",
    "    \n",
    "    for i in range(0, len(peptides)):\n",
    "        \n",
    "        # get peptide\n",
    "        peptide = peptides[i]\n",
    "\n",
    "        # get target prediction value\n",
    "        y_target = y[i]\n",
    "        \n",
    "        # get prediction\n",
    "        y_pred = np.dot(peptide, weights)\n",
    "            \n",
    "        # calculate error\n",
    "        error += 1.0/2 * (y_pred - y_target)**2\n",
    "        \n",
    "    gerror = error + lamb*np.dot(weights, weights)\n",
    "    error /= len(peptides)\n",
    "        \n",
    "    return gerror, error"
   ]
  },
  {
   "cell_type": "markdown",
   "metadata": {},
   "source": [
    "## Predict value for a peptide list"
   ]
  },
  {
   "cell_type": "code",
   "execution_count": 9,
   "metadata": {},
   "outputs": [],
   "source": [
    "def predict(peptides, weights):\n",
    "\n",
    "    pred = []\n",
    "    \n",
    "    for i in range(0, len(peptides)):\n",
    "        \n",
    "        # get peptide\n",
    "        peptide = peptides[i]\n",
    "        \n",
    "        # get prediction\n",
    "        y_pred = np.dot(peptide, weights)\n",
    "        \n",
    "        pred.append(y_pred)\n",
    "        \n",
    "    return pred"
   ]
  },
  {
   "cell_type": "markdown",
   "metadata": {},
   "source": [
    "## Calculate MSE between two vectors"
   ]
  },
  {
   "cell_type": "code",
   "execution_count": 10,
   "metadata": {},
   "outputs": [],
   "source": [
    "def cal_mse(vec1, vec2):\n",
    "    \n",
    "    mse = 0\n",
    "    \n",
    "    for i in range(0, len(vec1)):\n",
    "        mse += (vec1[i] - vec2[i])**2\n",
    "        \n",
    "    mse /= len(vec1)\n",
    "    \n",
    "    return( mse)"
   ]
  },
  {
   "cell_type": "markdown",
   "metadata": {
    "colab_type": "text",
    "id": "kfvPqSjL2g7u"
   },
   "source": [
    "## Gradient Descent"
   ]
  },
  {
   "cell_type": "code",
   "execution_count": 11,
   "metadata": {
    "colab": {},
    "colab_type": "code",
    "id": "HMXHiHmE2gh9"
   },
   "outputs": [],
   "source": [
    "def gradient_descent(y_pred, y_target, peptide, weights, lamb_N, epsilon):\n",
    "    \n",
    "    # do is dE/dO\n",
    "    do = y_pred - y_target\n",
    "        \n",
    "    for i in range(0, len(weights)):\n",
    "        \n",
    "        de_dw_i = do*peptide+(2*lamb_N)*weights\n",
    "\n",
    "        weights[i] -= epsilon*de_dw_i[i]"
   ]
  },
  {
   "cell_type": "markdown",
   "metadata": {
    "colab_type": "text",
    "id": "AHXm8HAm4S_u"
   },
   "source": [
    "## Main Loop\n",
    "\n"
   ]
  },
  {
   "cell_type": "code",
   "execution_count": 21,
   "metadata": {
    "colab": {
     "base_uri": "https://localhost:8080/",
     "height": 1717
    },
    "colab_type": "code",
    "id": "EcHQYE2sja-y",
    "outputId": "3939a58c-88ac-4ae1-b680-edc4c2c913a1"
   },
   "outputs": [
    {
     "name": "stdout",
     "output_type": "stream",
     "text": [
      "Epoch:  0 Gerr: 99.58834181262476 0.4198916022038107 0.08056749078997505 0.4231182614489795 0.08088862512589416\n",
      "Epoch:  1 Gerr: 77.03149115315188 0.5847456042431185 0.06231759564399694 0.5816420141896501 0.062492446499643105\n",
      "Epoch:  2 Gerr: 65.64213617599142 0.6596640743629382 0.05310318627140036 0.6508681146851769 0.053948934731501856\n",
      "Epoch:  3 Gerr: 58.35731039049696 0.7061371544754662 0.047209354520808766 0.691305215405135 0.04887159924542738\n",
      "Epoch:  4 Gerr: 53.05726855167328 0.7382588016873021 0.04292135369557974 0.719941157341421 0.04508104771676492\n",
      "Epoch:  5 Gerr: 49.33595259984957 0.7598859421207529 0.03991042945695128 0.7372643584005804 0.042719083476679826\n",
      "Epoch:  6 Gerr: 46.6993104533259 0.7744874522429651 0.037777181529675706 0.7503230908975059 0.040886482246438136\n",
      "Epoch:  7 Gerr: 44.76947916602588 0.784892253887258 0.0362157624501147 0.7587072440760998 0.0397049745940497\n",
      "Epoch:  8 Gerr: 43.23445629008033 0.7929886034512413 0.034973772073837374 0.7648208944269206 0.038855526548638136\n",
      "Epoch:  9 Gerr: 42.03643890534508 0.799294942004587 0.034004417074036015 0.7700645659241946 0.038124465876894345\n",
      "Epoch:  10 Gerr: 41.13905152334687 0.8038991594075346 0.03327823876720674 0.7737660378658272 0.037634972395969996\n",
      "Epoch:  11 Gerr: 40.43995674959218 0.8074771680996102 0.032712597831306645 0.7760410084764154 0.03732348665603888\n",
      "Epoch:  12 Gerr: 39.701808866210584 0.8112210601478308 0.03211530749792966 0.779622572008902 0.03683958870149077\n",
      "Epoch:  13 Gerr: 39.28297503422279 0.813523357541775 0.031776448029154566 0.780920739058057 0.036640601715139776\n",
      "Epoch:  14 Gerr: 38.86746584964169 0.8157427519078513 0.03144023128217275 0.7816659407415877 0.0365448122921161\n",
      "Epoch:  15 Gerr: 38.667604639054 0.817250830206404 0.031278522383585174 0.7827367838792146 0.036451357894080515\n",
      "Epoch:  16 Gerr: 38.28535779716287 0.8186695524547908 0.03096914953297528 0.7830165341486532 0.03639204742121765\n",
      "Epoch:  17 Gerr: 37.992240185907605 0.8202306207510217 0.030731903545243733 0.7844428061057072 0.036224219143684\n",
      "Epoch:  18 Gerr: 37.81841539881475 0.8213422192414241 0.030591327277145093 0.78438009583755 0.0362053752601457\n",
      "Epoch:  19 Gerr: 37.612462646733256 0.8221135976546385 0.030424591450621635 0.7854500689132289 0.0360978945084568\n",
      "Epoch:  20 Gerr: 37.44739028144008 0.822976490965384 0.030290989206849313 0.7870848666823091 0.035851828049121716\n",
      "Epoch:  21 Gerr: 37.37639722281282 0.8235111827254237 0.030233427700347135 0.7874842217577644 0.03587160035308867\n",
      "Epoch:  22 Gerr: 37.20274494159308 0.8242239282060626 0.03009292885062398 0.7871567798819921 0.035874056887429895\n",
      "Epoch:  23 Gerr: 37.122771070127044 0.8246865147993938 0.03002822499444677 0.7877184142727507 0.035817268188955725\n",
      "Epoch:  24 Gerr: 36.979843743009866 0.8254382763261672 0.029912589998556078 0.7881209123330972 0.035727396594570957\n",
      "Epoch:  25 Gerr: 36.90210027526298 0.8257929029479123 0.029849596663714995 0.7886747949224318 0.03567913358122447\n",
      "Epoch:  26 Gerr: 36.808127191234746 0.8263046409297151 0.029773554070536386 0.7888246730941836 0.03561786403021482\n",
      "Epoch:  27 Gerr: 36.743482115118304 0.8266640526656893 0.0297211596860726 0.7894130108475912 0.035580574310518455\n",
      "Epoch:  28 Gerr: 36.69199250517094 0.8268556985481565 0.029679466221164585 0.7903210101066661 0.035483352072419455\n",
      "Epoch:  29 Gerr: 36.621631181055406 0.8272828595574446 0.02962259543067012 0.7901386229853817 0.03544749228594063\n",
      "Epoch:  30 Gerr: 36.58421370557487 0.8274708401728715 0.02959227389622153 0.7885893836215365 0.035725970639742415\n",
      "Epoch:  31 Gerr: 36.53865208691811 0.8277140678016085 0.02955542401670354 0.7885111969619818 0.03570917277535531\n",
      "Epoch:  32 Gerr: 36.48283673731499 0.8280038883222257 0.029510243798853357 0.7896092834158093 0.03553278689548432\n",
      "Epoch:  33 Gerr: 36.4423190669639 0.8282132978705558 0.02947746693332585 0.7878057142597595 0.035788524294465426\n",
      "Epoch:  34 Gerr: 36.40023072561236 0.828523750897632 0.029443437825183646 0.7890116744765139 0.035597155127943494\n",
      "Epoch:  35 Gerr: 36.36084917776808 0.8286109185178834 0.029411531634578852 0.7889874163599782 0.03561670183958686\n",
      "Epoch:  36 Gerr: 36.35939166429886 0.8288216547225133 0.029410372816216678 0.7888080798198511 0.035685005818615056\n",
      "Epoch:  37 Gerr: 36.31621358070336 0.8288850785575251 0.029375402924349682 0.7883577878886128 0.03567143430900065\n",
      "Epoch:  38 Gerr: 36.2823498845331 0.8290501272239763 0.02934798814485072 0.788846950729523 0.03561064470131602\n",
      "Epoch:  39 Gerr: 36.29180678391836 0.8290160145003732 0.02935556731893574 0.7886362133906171 0.03569474977176345\n",
      "Epoch:  40 Gerr: 36.293106627717655 0.8290042391583649 0.029356644731860053 0.789318107374136 0.03562030630038713\n",
      "Epoch:  41 Gerr: 36.2931017847275 0.8290072466567168 0.02935659666523212 0.7895642560243389 0.035529995834097786\n",
      "Epoch:  42 Gerr: 36.2749979087583 0.8290499070375841 0.029341919698341008 0.791252884267177 0.035308148575240804\n",
      "Epoch:  43 Gerr: 36.24486709412976 0.8291984944592391 0.029317541336564387 0.7904084037367995 0.035393408474944314\n",
      "Epoch:  44 Gerr: 36.285843165308684 0.8292916489084313 0.029350632717586533 0.7906500137509629 0.03544412029078993\n",
      "Epoch:  45 Gerr: 36.23047180727667 0.829353612629755 0.029305853878183026 0.789366810350715 0.035591837459494034\n",
      "Epoch:  46 Gerr: 36.20679713006014 0.8294687312407838 0.029286685445817286 0.7885147112069609 0.035741371250681546\n",
      "Epoch:  47 Gerr: 36.17457667338663 0.8295987315011796 0.02926065527091904 0.7878603593706095 0.03581567791774194\n",
      "Epoch:  48 Gerr: 36.1769706126017 0.8296190102725393 0.029262501975288218 0.7883508805748216 0.03576690733207059\n",
      "Epoch:  49 Gerr: 36.161777274943105 0.8297723836057705 0.029250267378290024 0.7881184216493725 0.03583729427868026\n",
      "Epoch:  50 Gerr: 36.158441984317406 0.8297544505223517 0.029247545207146296 0.7878147027810215 0.03585647874753028\n",
      "Epoch:  51 Gerr: 36.203284267585076 0.8297959720468795 0.0292838845445522 0.7890779149376378 0.03571130165358273\n",
      "Epoch:  52 Gerr: 36.1402513284302 0.8297369135175213 0.02923282361784715 0.7893150328144448 0.035622632968649114\n",
      "Epoch:  53 Gerr: 36.14541932999762 0.8297443230142217 0.029237014236538888 0.7897068427950673 0.035607541730303255\n",
      "Epoch:  54 Gerr: 36.16404289714126 0.829668366017868 0.029252086680462055 0.790120594573384 0.035519324244764124\n",
      "Epoch:  55 Gerr: 36.128475328360274 0.8298070914414415 0.029223222213016636 0.7903267667461351 0.035527515364080775\n",
      "Epoch:  56 Gerr: 36.107882793520524 0.8299141849715089 0.029206617959810225 0.7916598007903073 0.03528721496668498\n",
      "Epoch:  57 Gerr: 36.083759992987 0.8300480572017194 0.02918706785663281 0.7917660301638111 0.03525593390443116\n",
      "Epoch:  58 Gerr: 36.099888445382895 0.8301035580988197 0.029200098699684554 0.7916448765595165 0.035294301922761\n",
      "Epoch:  59 Gerr: 36.06145030227624 0.8301344793115858 0.029168988841338523 0.7917602065355059 0.03528310307190323\n",
      "Epoch:  60 Gerr: 36.048664926855565 0.830266005338293 0.029158671369351873 0.7915175379477397 0.035305235198959915\n",
      "Epoch:  61 Gerr: 36.05044734088242 0.8302542191223163 0.029160115768707175 0.790752361931578 0.03539487931544015\n",
      "Epoch:  62 Gerr: 36.05608391013274 0.8301840909853287 0.029164660132499624 0.7904502749041199 0.035444717785069406\n",
      "Epoch:  63 Gerr: 36.0345988402903 0.8302666823695891 0.029147240554081067 0.7912904579757257 0.035382514485366445\n",
      "Epoch:  64 Gerr: 36.07311962113207 0.8301297984382247 0.029178411053857704 0.79114303906114 0.03541506138842313\n",
      "Epoch:  65 Gerr: 36.021839606550984 0.8303621320532025 0.02913691038169795 0.7910946620989537 0.035373803873553336\n",
      "Epoch:  66 Gerr: 36.02600015635903 0.8304078057266099 0.029140247784504882 0.791210940846763 0.03534115983210245\n",
      "Epoch:  67 Gerr: 36.04037505119747 0.8304069719474363 0.029151871686822258 0.7910991550625041 0.03537070623752522\n",
      "Epoch:  68 Gerr: 36.07059260478305 0.8304328652509245 0.029176274843798772 0.7909948874418716 0.0354587086221999\n",
      "Epoch:  69 Gerr: 36.006428215794 0.8304930793172121 0.02912446367830105 0.7900600976669229 0.03546255288537243\n",
      "Epoch:  70 Gerr: 36.0367691108149 0.8304516428724624 0.02914901097473574 0.7900305834404154 0.03552124501123576\n",
      "Epoch:  71 Gerr: 35.99907079000339 0.8305220308477181 0.029118428341942122 0.7900718831068242 0.035481930517808534\n",
      "Epoch:  72 Gerr: 35.993191151121465 0.8305663767297434 0.02911371633196638 0.7898094151965955 0.03550482760610497\n"
     ]
    },
    {
     "name": "stdout",
     "output_type": "stream",
     "text": [
      "Epoch:  73 Gerr: 36.00934893704498 0.8304831967116924 0.02912677985912112 0.789594386524682 0.0355743911524048\n",
      "Epoch:  74 Gerr: 36.017363967172244 0.8303688630466212 0.029133218283880057 0.7907102143662957 0.03545433088194261\n",
      "Epoch:  75 Gerr: 36.05555746436785 0.8301824638514066 0.029164111382246373 0.7904276698656622 0.03550123709641083\n",
      "Epoch:  76 Gerr: 35.992187651799775 0.8305605017507037 0.029112844756093378 0.7893983705211014 0.03563244646537075\n",
      "Epoch:  77 Gerr: 36.019624403630345 0.8305437802499409 0.0291350572325343 0.7892752136664751 0.03567970154401964\n",
      "Epoch:  78 Gerr: 35.98650973563441 0.8305442196963423 0.029108229418832562 0.7911807355269166 0.035382783175883184\n",
      "Epoch:  79 Gerr: 36.002097268784055 0.8304625194658551 0.029120779064586846 0.7904674585389708 0.03551848324494529\n",
      "Epoch:  80 Gerr: 36.03816279139159 0.8303054053136469 0.02914992425277023 0.7902344207931908 0.03559170848727043\n",
      "Epoch:  81 Gerr: 35.983394749622505 0.8305512996167562 0.0291055998211347 0.7900737660511655 0.035634994939989575\n",
      "Epoch:  82 Gerr: 35.979366216226644 0.8305809696839956 0.029102332437073736 0.7915906657626745 0.03541222292320383\n",
      "Epoch:  83 Gerr: 35.97738365474397 0.8306089535410801 0.029100738093103106 0.7915530318446218 0.03542739633519061\n",
      "Epoch:  84 Gerr: 35.981461029436716 0.83058432977304 0.029103971740849794 0.7914370281830839 0.03541125506176193\n",
      "Epoch:  85 Gerr: 35.96601341302321 0.8306628454713916 0.029091465764052273 0.7906508657504907 0.03552676471024497\n",
      "Epoch:  86 Gerr: 36.00008123179 0.8305954640792056 0.02911896094800343 0.7905538425063862 0.03559303793159988\n",
      "Epoch:  87 Gerr: 35.98303808364651 0.8305894812423553 0.02910522913329991 0.7905080435069896 0.03554056558227354\n",
      "Epoch:  88 Gerr: 36.02317998666545 0.8306061931204843 0.02913765896370408 0.7910661668662563 0.03549322449929007\n",
      "Epoch:  89 Gerr: 35.96016722372252 0.8306556408764663 0.02908677309201511 0.7908331203528667 0.03546408592298194\n",
      "Epoch:  90 Gerr: 35.98706129945406 0.8306752126492731 0.029108504829684766 0.7917395244642937 0.03534900724963037\n",
      "Epoch:  91 Gerr: 35.954565089371634 0.8308142123248363 0.029082200096927007 0.7920411814432703 0.035303078860799864\n",
      "Epoch:  92 Gerr: 35.98370236157867 0.8307976558283977 0.029105847973339517 0.7916197236322949 0.03539085369272187\n",
      "Epoch:  93 Gerr: 35.957177627280075 0.8307335241586045 0.029084299186019024 0.7920042747919297 0.03534019342782563\n",
      "Epoch:  94 Gerr: 35.938199182416504 0.8307772443662591 0.029068971976778265 0.7920291054419044 0.03528970217515434\n",
      "Epoch:  95 Gerr: 35.95083068558315 0.8307766184419756 0.02907923804077804 0.7909087120391141 0.035436039432457336\n",
      "Epoch:  96 Gerr: 35.98171130895418 0.8306879493829101 0.029104233886667025 0.7898726518181933 0.03560338152441262\n",
      "Epoch:  97 Gerr: 35.960673617002506 0.8307073057951622 0.029087176031407008 0.7905979447664483 0.03552682398524146\n",
      "Epoch:  98 Gerr: 35.96268123677679 0.8306419707793428 0.02908880031801539 0.7905423632455337 0.03547905357057047\n",
      "Epoch:  99 Gerr: 35.941188959504544 0.8307994639056557 0.029071368625369815 0.7900923208273936 0.03558270660905063\n"
     ]
    }
   ],
   "source": [
    "# Random seed \n",
    "np.random.seed( 1 )\n",
    "\n",
    "# peptides\n",
    "peptides = training[:, 0]\n",
    "peptides = encode(peptides, sparse, alphabet)\n",
    "N = len(peptides)\n",
    "\n",
    "# target values\n",
    "y = np.array(training[:, 1], dtype=float)\n",
    "\n",
    "#evaluation peptides\n",
    "evaluation_peptides = evaluation[:, 0]\n",
    "evaluation_peptides = encode(evaluation_peptides, sparse, alphabet)\n",
    "\n",
    "#evaluation targets\n",
    "evaluation_targets = np.array(evaluation[:, 1], dtype=float)\n",
    "\n",
    "# weights\n",
    "input_dim  = len(peptides[0])\n",
    "output_dim = 1\n",
    "w_bound = 0.1\n",
    "weights = np.random.uniform(-w_bound, w_bound, size=input_dim)\n",
    "\n",
    "# training epochs\n",
    "epochs = 100\n",
    "\n",
    "# regularization lambda\n",
    "#lamb = 1\n",
    "#lamb = 10\n",
    "lamb = 0.01\n",
    "\n",
    "# regularization lambda per target value\n",
    "lamb_N = lamb/N\n",
    "\n",
    "# learning rate\n",
    "epsilon = 0.001\n",
    "\n",
    "# error  plot\n",
    "gerror_plot = []\n",
    "mse_plot = []\n",
    "train_mse_plot = []\n",
    "eval_mse_plot = []\n",
    "train_pcc_plot = []\n",
    "eval_pcc_plot = []\n",
    "\n",
    "# for each training epoch\n",
    "for e in range(0, epochs):\n",
    "\n",
    "    # for each peptide\n",
    "    for i in range(0, N):\n",
    "\n",
    "        # random index\n",
    "        ix = np.random.randint(0, N)\n",
    "        \n",
    "        # get peptide       \n",
    "        peptide = peptides[ix]\n",
    "\n",
    "        # get target prediction value\n",
    "        y_target = y[ix]\n",
    "       \n",
    "        # get initial prediction\n",
    "        y_pred = np.dot(peptide, weights)\n",
    "\n",
    "        # gradient descent \n",
    "        gradient_descent(y_pred, y_target, peptide, weights, lamb_N, epsilon)\n",
    "\n",
    "    # compute error\n",
    "    gerr, mse = cumulative_error(peptides, y, lamb, weights) \n",
    "    gerror_plot.append(gerr)\n",
    "    mse_plot.append(mse)\n",
    "    \n",
    "    # predict on training data\n",
    "    train_pred = predict( peptides, weights )\n",
    "    train_mse = cal_mse( y, train_pred )\n",
    "    train_mse_plot.append(train_mse)\n",
    "    train_pcc = pearsonr( y, train_pred )\n",
    "    train_pcc_plot.append( train_pcc[0] )\n",
    "        \n",
    "    # predict on evaluation data\n",
    "    eval_pred = predict(evaluation_peptides, weights )\n",
    "    eval_mse = cal_mse(evaluation_targets, eval_pred )\n",
    "    eval_mse_plot.append(eval_mse)\n",
    "    eval_pcc = pearsonr(evaluation_targets, eval_pred)\n",
    "    eval_pcc_plot.append( eval_pcc[0] )\n",
    "    \n",
    "    print (\"Epoch: \", e, \"Gerr:\", gerr, train_pcc[0], train_mse, eval_pcc[0], eval_mse)"
   ]
  },
  {
   "cell_type": "markdown",
   "metadata": {
    "colab_type": "text",
    "id": "gN8BPXSm0HVy"
   },
   "source": [
    "## Error Plot"
   ]
  },
  {
   "cell_type": "code",
   "execution_count": 22,
   "metadata": {
    "colab": {
     "base_uri": "https://localhost:8080/",
     "height": 286
    },
    "colab_type": "code",
    "id": "Nca2qMKSOjGP",
    "outputId": "31d1c685-a0c2-4939-e34c-1961b744d686"
   },
   "outputs": [
    {
     "data": {
      "image/png": "[encoded data removed]",
      "text/plain": [
       "<Figure size 800x800 with 4 Axes>"
      ]
     },
     "metadata": {
      "needs_background": "light"
     },
     "output_type": "display_data"
    }
   ],
   "source": [
    "fig = plt.figure(figsize=(10, 10), dpi= 80)\n",
    "\n",
    "x = np.arange(0, len(gerror_plot))\n",
    "\n",
    "plt.subplot(2, 2, 1)\n",
    "plt.plot(x, gerror_plot)\n",
    "plt.ylabel(\"Global Error\", fontsize=10);\n",
    "plt.xlabel(\"Iterations\", fontsize=10);\n",
    "\n",
    "plt.subplot(2, 2, 2)\n",
    "plt.plot(x, mse_plot)\n",
    "plt.ylabel(\"MSE\", fontsize=10);\n",
    "plt.xlabel(\"Iterations\", fontsize=10);\n",
    "\n",
    "\n",
    "x = np.arange(0, len(train_mse_plot))\n",
    "\n",
    "plt.subplot(2, 2, 3)\n",
    "plt.plot(x, train_mse_plot, label=\"Training Set\")\n",
    "plt.plot(x, eval_mse_plot, label=\"Evaluation Set\")\n",
    "plt.ylabel(\"Mean Squared Error\", fontsize=10);\n",
    "plt.xlabel(\"Iterations\", fontsize=10);\n",
    "plt.legend(loc='upper right');\n",
    "\n",
    "\n",
    "plt.subplot(2, 2, 4)\n",
    "plt.plot(x, train_pcc_plot, label=\"Training Set\")\n",
    "plt.plot(x, eval_pcc_plot, label=\"Evaluation Set\")\n",
    "plt.ylabel(\"Pearson Correlation\", fontsize=10);\n",
    "plt.xlabel(\"Iterations\", fontsize=10);\n",
    "plt.legend(loc='upper left');"
   ]
  },
  {
   "cell_type": "markdown",
   "metadata": {
    "colab_type": "text",
    "id": "Rs25DaDT0Wub"
   },
   "source": [
    "## Get PSSM Matrix"
   ]
  },
  {
   "cell_type": "markdown",
   "metadata": {
    "colab_type": "text",
    "id": "6UDmJBpo0Y10"
   },
   "source": [
    "### Vector to Matrix"
   ]
  },
  {
   "cell_type": "code",
   "execution_count": 23,
   "metadata": {
    "colab": {},
    "colab_type": "code",
    "id": "Him7vVoh0arv"
   },
   "outputs": [],
   "source": [
    "# our matrices are vectors of dictionaries\n",
    "def vector_to_matrix(vector, alphabet):\n",
    "    \n",
    "    rows = int(len(vector)/len(alphabet))\n",
    "    \n",
    "    matrix = [0] * rows\n",
    "    \n",
    "    offset = 0\n",
    "    \n",
    "    for i in range(0, rows):\n",
    "        \n",
    "        matrix[i] = {}\n",
    "        \n",
    "        for j in range(0, 20):\n",
    "            \n",
    "            matrix[i][alphabet[j]] = vector[j+offset] \n",
    "        \n",
    "        offset += len(alphabet)\n",
    "\n",
    "    return matrix"
   ]
  },
  {
   "cell_type": "markdown",
   "metadata": {
    "colab_type": "text",
    "id": "nvrlgKrS0awJ"
   },
   "source": [
    "### Matrix to Psi-Blast"
   ]
  },
  {
   "cell_type": "code",
   "execution_count": 24,
   "metadata": {
    "colab": {},
    "colab_type": "code",
    "id": "e63tgdna0cs3"
   },
   "outputs": [],
   "source": [
    "def to_psi_blast(matrix):\n",
    "\n",
    "    # print to user\n",
    "    \n",
    "    header = [\"\", \"A\", \"R\", \"N\", \"D\", \"C\", \"Q\", \"E\", \"G\", \"H\", \"I\", \"L\", \"K\", \"M\", \"F\", \"P\", \"S\", \"T\", \"W\", \"Y\", \"V\"]\n",
    "\n",
    "    print('{:>4} {:>8} {:>8} {:>8} {:>8} {:>8} {:>8} {:>8} {:>8} {:>8} {:>8} {:>8} {:>8} {:>8} {:>8} {:>8} {:>8} {:>8} {:>8} {:>8} {:>8}'.format(*header)) \n",
    "\n",
    "    letter_order = [\"A\", \"R\", \"N\", \"D\", \"C\", \"Q\", \"E\", \"G\", \"H\", \"I\", \"L\", \"K\", \"M\", \"F\", \"P\", \"S\", \"T\", \"W\", \"Y\", \"V\"]\n",
    "\n",
    "    for i, row in enumerate(matrix):\n",
    "\n",
    "        scores = []\n",
    "\n",
    "        scores.append(str(i+1) + \" A\")\n",
    "\n",
    "        for letter in letter_order:\n",
    "\n",
    "            score = row[letter]\n",
    "\n",
    "            scores.append(round(score, 4))\n",
    "\n",
    "        print('{:>4} {:>8} {:>8} {:>8} {:>8} {:>8} {:>8} {:>8} {:>8} {:>8} {:>8} {:>8} {:>8} {:>8} {:>8} {:>8} {:>8} {:>8} {:>8} {:>8} {:>8}'.format(*scores)) "
   ]
  },
  {
   "cell_type": "markdown",
   "metadata": {
    "colab_type": "text",
    "id": "hlxa9_Ik0cxc"
   },
   "source": [
    "### Print"
   ]
  },
  {
   "cell_type": "code",
   "execution_count": 25,
   "metadata": {
    "colab": {
     "base_uri": "https://localhost:8080/",
     "height": 187
    },
    "colab_type": "code",
    "id": "72AM0xu40iUV",
    "outputId": "0d4813af-41f5-418a-85c7-4dde29ead1c9"
   },
   "outputs": [
    {
     "name": "stdout",
     "output_type": "stream",
     "text": [
      "            A        R        N        D        C        Q        E        G        H        I        L        K        M        F        P        S        T        W        Y        V\n",
      " 1 A   0.0084   0.0064  -0.0351  -0.1978  -0.0326  -0.0202  -0.1381   -0.027   -0.053   0.0082   0.0172   0.0361   0.0845    0.166  -0.1695  -0.0122  -0.0502   0.0093   0.1526   0.0152\n",
      " 2 A   0.0146  -0.0134  -0.1498  -0.0117  -0.0608    0.085  -0.0402  -0.0612  -0.0906   0.1285   0.2687  -0.0182   0.2798  -0.0025  -0.0655   0.0418   0.0385   0.0733   0.0232   0.0633\n",
      " 3 A   0.0366  -0.0947  -0.0046   0.0204  -0.0534  -0.0126  -0.0919   -0.051  -0.0385   0.0628   0.0607  -0.1191   0.1688   0.0761  -0.0282   0.0307  -0.0425    0.063   0.0869  -0.0293\n",
      " 4 A   0.0302  -0.0489   0.0013   0.0686   0.0393   0.0037   0.0594   0.0299   0.0042  -0.0093  -0.0415   0.0171   0.0392   0.0248   0.0147   0.0273   0.0201    0.044   0.0238  -0.0052\n",
      " 5 A  -0.0003   0.0024  -0.0192   0.0342    0.035  -0.0127   0.0231   0.0047   0.0193   0.0707   0.0457   -0.009   0.0496   0.1001  -0.0441  -0.0059  -0.0031    0.105   0.1191   0.0399\n",
      " 6 A    0.002  -0.0373   0.0398   0.0105   0.0359   0.0406   0.0068  -0.0102  -0.0009   0.1242   0.1143  -0.0783   0.0786   0.0708   0.0161   0.0065   0.0654  -0.0016   0.0385   0.0829\n",
      " 7 A   0.0284  -0.0705  -0.0563  -0.0298  -0.0054  -0.0284  -0.0348  -0.0726    0.041   0.0816   0.0399  -0.1325   0.0282   0.1583   0.0309  -0.0107   0.0327   0.0744   0.0963    0.026\n",
      " 8 A  -0.0249  -0.0452  -0.0238   -0.071  -0.0013   -0.032   0.0193   0.0191  -0.0735  -0.0351   0.0213  -0.0402  -0.0299   0.0558   0.0169    0.012   0.0072    0.063    0.088  -0.0392\n",
      " 9 A   0.1024  -0.1102   0.0239   0.0366  -0.1287  -0.0486   -0.053  -0.0353   0.0139   0.1218    0.131  -0.0709   0.0454  -0.0145  -0.0071  -0.0263  -0.0054  -0.0478   -0.057   0.2325\n"
     ]
    }
   ],
   "source": [
    "matrix = vector_to_matrix(weights, alphabet)\n",
    "to_psi_blast(matrix)"
   ]
  },
  {
   "cell_type": "markdown",
   "metadata": {
    "colab_type": "text",
    "id": "Eq3byUBi0OAT"
   },
   "source": [
    "## Performance Evaluation"
   ]
  },
  {
   "cell_type": "code",
   "execution_count": 26,
   "metadata": {
    "colab": {},
    "colab_type": "code",
    "id": "lh7HCLo7PjKi"
   },
   "outputs": [],
   "source": [
    "evaluation_peptides = evaluation[:, 0]\n",
    "evaluation_peptides = np.array(encode(evaluation_peptides, sparse, alphabet))\n",
    "\n",
    "evaluation_targets = np.array(evaluation[:, 1], dtype=float)\n",
    "\n",
    "y_pred = []\n",
    "for i in range(0, len(evaluation_peptides)):\n",
    "    y_pred.append(np.dot(evaluation_peptides[i].T, weights))\n",
    "\n",
    "y_pred = np.array(y_pred)"
   ]
  },
  {
   "cell_type": "code",
   "execution_count": 27,
   "metadata": {
    "colab": {
     "base_uri": "https://localhost:8080/",
     "height": 286
    },
    "colab_type": "code",
    "id": "lAPfkFcCRsuc",
    "outputId": "1c409c4d-af9a-4021-c9d8-e6f374098a1c"
   },
   "outputs": [
    {
     "name": "stdout",
     "output_type": "stream",
     "text": [
      "PCC:  0.7900923208273936\n"
     ]
    },
    {
     "data": {
      "image/png": "[encoded data removed]",
      "text/plain": [
       "<Figure size 432x288 with 1 Axes>"
      ]
     },
     "metadata": {
      "needs_background": "light"
     },
     "output_type": "display_data"
    }
   ],
   "source": [
    "pcc = pearsonr(evaluation_targets, np.array(y_pred))\n",
    "print(\"PCC: \", pcc[0])\n",
    "\n",
    "plt.scatter(y_pred, evaluation_targets);"
   ]
  },
  {
   "cell_type": "code",
   "execution_count": null,
   "metadata": {
    "collapsed": true
   },
   "outputs": [],
   "source": []
  },
  {
   "cell_type": "code",
   "execution_count": null,
   "metadata": {
    "collapsed": true
   },
   "outputs": [],
   "source": []
  }
 ],
 "metadata": {
  "colab": {
   "collapsed_sections": [],
   "name": "smm_gradient_descent_v2.ipynb",
   "provenance": [],
   "version": "0.3.2"
  },
  "kernelspec": {
   "display_name": "Python 3",
   "language": "python",
   "name": "python3"
  },
  "language_info": {
   "codemirror_mode": {
    "name": "ipython",
    "version": 3
   },
   "file_extension": ".py",
   "mimetype": "text/x-python",
   "name": "python",
   "nbconvert_exporter": "python",
   "pygments_lexer": "ipython3",
   "version": "3.9.5"
  }
 },
 "nbformat": 4,
 "nbformat_minor": 1
}
